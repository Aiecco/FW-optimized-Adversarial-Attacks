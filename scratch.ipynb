{
 "cells": [
  {
   "cell_type": "code",
   "execution_count": 21,
   "metadata": {},
   "outputs": [],
   "source": [
    "from models.LeNet import LeNet\n",
    "from matplotlib import pyplot as plt\n",
    "import torch"
   ]
  },
  {
   "cell_type": "code",
   "execution_count": 22,
   "metadata": {},
   "outputs": [
    {
     "name": "stdout",
     "output_type": "stream",
     "text": [
      "Model weights loaded successfully\n"
     ]
    }
   ],
   "source": [
    "lenet = LeNet()"
   ]
  },
  {
   "cell_type": "code",
   "execution_count": 75,
   "metadata": {},
   "outputs": [
    {
     "data": {
      "image/png": "[encoded data removed]",
      "text/plain": [
       "<Figure size 640x480 with 1 Axes>"
      ]
     },
     "metadata": {},
     "output_type": "display_data"
    }
   ],
   "source": [
    "ex_num = 12\n",
    "x0, y = lenet.test_dataset[ex_num]\n",
    "x0_np = x0.squeeze()\n",
    "plt.imshow(x0_np)\n",
    "plt.title(f\"Target: {y}\")\n",
    "plt.show()"
   ]
  },
  {
   "cell_type": "code",
   "execution_count": 33,
   "metadata": {},
   "outputs": [],
   "source": [
    "\n",
    "lenet.optimizer.zero_grad()\n",
    "input_tensor = x0.view(1, 1, 32, 32)\n",
    "input_tensor.requires_grad_()\n",
    "outputs = lenet.model(input)\n",
    "loss = lenet.cost(outputs, torch.tensor([y]).to(lenet.device))\n",
    "    \n",
    "# Backward and optimize\n",
    "lenet.optimizer.zero_grad()\n",
    "loss.backward()\n",
    "input_tensor.grad"
   ]
  },
  {
   "cell_type": "code",
   "execution_count": 81,
   "metadata": {},
   "outputs": [
    {
     "name": "stdout",
     "output_type": "stream",
     "text": [
      "tensor([[[[ 1.2259e-07,  1.5092e-07,  1.2914e-07,  ..., -4.7472e-09,\n",
      "           -1.0465e-08,  0.0000e+00],\n",
      "          [ 6.6821e-08,  1.3236e-07, -2.6092e-08,  ...,  2.7290e-09,\n",
      "           -1.1225e-08,  0.0000e+00],\n",
      "          [-3.0564e-07, -4.7386e-07, -2.3172e-06,  ...,  6.2466e-07,\n",
      "            1.0746e-06,  0.0000e+00],\n",
      "          ...,\n",
      "          [ 3.7814e-08,  6.8624e-09,  7.6115e-08,  ...,  1.0918e-06,\n",
      "            4.0120e-07,  0.0000e+00],\n",
      "          [ 7.1740e-08,  5.6028e-08,  1.9645e-07,  ..., -9.7012e-07,\n",
      "            6.7897e-07,  0.0000e+00],\n",
      "          [ 0.0000e+00,  0.0000e+00,  0.0000e+00,  ...,  0.0000e+00,\n",
      "            0.0000e+00,  0.0000e+00]]]])\n"
     ]
    },
    {
     "data": {
      "text/plain": [
       "tensor(0.0002)"
      ]
     },
     "execution_count": 81,
     "metadata": {},
     "output_type": "execute_result"
    }
   ],
   "source": [
    "import torch\n",
    "import torch.nn as nn\n",
    "import torch.optim as optim\n",
    "\n",
    "# Assuming LeNet is defined as per your previous structure\n",
    "from models.LeNet import LeNet\n",
    "\n",
    "# Set device\n",
    "device = torch.device('cuda' if torch.cuda.is_available() else 'cpu')\n",
    "\n",
    "# Hyperparameters\n",
    "num_classes = 10\n",
    "learning_rate = 0.001\n",
    "\n",
    "# Initialize the model\n",
    "model = lenet.model.to(device)\n",
    "\n",
    "# Define the loss function and optimizer\n",
    "criterion = nn.CrossEntropyLoss()\n",
    "optimizer = optim.Adam(model.parameters(), lr=learning_rate)\n",
    "\n",
    "# Prepare the input tensor\n",
    "input_tensor = x0.view(1, 1, 32, 32).to(device)\n",
    "input_tensor.requires_grad_()\n",
    "\n",
    "# Zero the gradients\n",
    "optimizer.zero_grad()\n",
    "\n",
    "# Forward pass\n",
    "outputs = model(input_tensor)\n",
    "loss = criterion(outputs, torch.tensor([y]).to(device))\n",
    "\n",
    "# Backward pass to compute the gradients\n",
    "loss.backward()\n",
    "input_gradient = input_tensor.grad\n",
    "\n",
    "print(input_gradient)\n",
    "torch.norm(input_gradient)"
   ]
  },
  {
   "cell_type": "code",
   "execution_count": 58,
   "metadata": {},
   "outputs": [
    {
     "data": {
      "text/plain": [
       "tensor(0.0976)"
      ]
     },
     "execution_count": 58,
     "metadata": {},
     "output_type": "execute_result"
    }
   ],
   "source": [
    "torch.norm(input_gradient)"
   ]
  }
 ],
 "metadata": {
  "kernelspec": {
   "display_name": "Frank",
   "language": "python",
   "name": "python3"
  },
  "language_info": {
   "codemirror_mode": {
    "name": "ipython",
    "version": 3
   },
   "file_extension": ".py",
   "mimetype": "text/x-python",
   "name": "python",
   "nbconvert_exporter": "python",
   "pygments_lexer": "ipython3",
   "version": "3.11.4"
  }
 },
 "nbformat": 4,
 "nbformat_minor": 2
}
