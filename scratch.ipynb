{
 "cells": [
  {
   "cell_type": "code",
   "execution_count": 1,
   "metadata": {},
   "outputs": [],
   "source": [
    "from models.LeNet import LeNet\n",
    "import pandas as pd\n",
    "from matplotlib import pyplot as plt\n",
    "import torch"
   ]
  },
  {
   "cell_type": "code",
   "execution_count": 2,
   "metadata": {},
   "outputs": [
    {
     "name": "stdout",
     "output_type": "stream",
     "text": [
      "Model weights loaded successfully\n"
     ]
    }
   ],
   "source": [
    "lenet = LeNet()"
   ]
  },
  {
   "cell_type": "code",
   "execution_count": 3,
   "metadata": {},
   "outputs": [
    {
     "data": {
      "image/png": "[encoded data removed]",
      "text/plain": [
       "<Figure size 640x480 with 1 Axes>"
      ]
     },
     "metadata": {},
     "output_type": "display_data"
    }
   ],
   "source": [
    "ex_num = 12\n",
    "x0, y = lenet.test_dataset[ex_num]\n",
    "x0_np = x0.squeeze()\n",
    "plt.imshow(x0_np)\n",
    "plt.title(f\"Target: {y}\")\n",
    "plt.show()"
   ]
  },
  {
   "cell_type": "code",
   "execution_count": 30,
   "metadata": {},
   "outputs": [
    {
     "name": "stdout",
     "output_type": "stream",
     "text": [
      "tensor([[[[ 1.2259e-07,  1.5092e-07,  1.2914e-07,  ..., -4.7472e-09,\n",
      "           -1.0465e-08,  0.0000e+00],\n",
      "          [ 6.6821e-08,  1.3236e-07, -2.6092e-08,  ...,  2.7290e-09,\n",
      "           -1.1225e-08,  0.0000e+00],\n",
      "          [-3.0564e-07, -4.7386e-07, -2.3172e-06,  ...,  6.2466e-07,\n",
      "            1.0746e-06,  0.0000e+00],\n",
      "          ...,\n",
      "          [ 3.7814e-08,  6.8624e-09,  7.6115e-08,  ...,  1.0918e-06,\n",
      "            4.0120e-07,  0.0000e+00],\n",
      "          [ 7.1740e-08,  5.6028e-08,  1.9645e-07,  ..., -9.7012e-07,\n",
      "            6.7897e-07,  0.0000e+00],\n",
      "          [ 0.0000e+00,  0.0000e+00,  0.0000e+00,  ...,  0.0000e+00,\n",
      "            0.0000e+00,  0.0000e+00]]]])\n"
     ]
    },
    {
     "data": {
      "text/plain": [
       "tensor(0.0002)"
      ]
     },
     "execution_count": 30,
     "metadata": {},
     "output_type": "execute_result"
    }
   ],
   "source": [
    "# Set device\n",
    "device = torch.device('cuda' if torch.cuda.is_available() else 'cpu')\n",
    "\n",
    "# Initialize the model\n",
    "model = lenet.model.to(device)\n",
    "model.eval()\n",
    "\n",
    "# Detatch PARAMETERS from computational graph\n",
    "# This is so we dont waste time calculating gradient of params (only used for training)\n",
    "# can still calulate grad wrt input wich is used for attacks\n",
    "for param in model.parameters():\n",
    "    param.requires_grad = False\n",
    "\n",
    "# for target attacks you can define a custom loss here\n",
    "criterion = lenet.cost#nn.CrossEntropyLoss()\n",
    "\n",
    "def input_grad(x_t):\n",
    "    # Prepare the input tensor\n",
    "    input_tensor = x_t.view(1, 1, 32, 32).to(device)\n",
    "    input_tensor.requires_grad_()\n",
    "\n",
    "    # Forward pass\n",
    "    outputs = model(input_tensor)\n",
    "    target_tensor = torch.tensor([y]).to(device)\n",
    "    loss = criterion(outputs, target_tensor)\n",
    "    _, predicted_class = outputs.max(1)\n",
    "\n",
    "    # Backward pass to compute the gradients\n",
    "    loss.backward()\n",
    "    return input_tensor.grad, loss.item(), predicted_class.item()\n",
    "\n",
    "input_gradient, _, _= input_grad(x0)\n",
    "print(input_gradient)\n",
    "torch.norm(input_gradient)"
   ]
  },
  {
   "cell_type": "code",
   "execution_count": 31,
   "metadata": {},
   "outputs": [
    {
     "data": {
      "text/plain": [
       "<matplotlib.image.AxesImage at 0x192679328d0>"
      ]
     },
     "execution_count": 31,
     "metadata": {},
     "output_type": "execute_result"
    },
    {
     "data": {
      "image/png": "[encoded data removed]",
      "text/plain": [
       "<Figure size 640x480 with 1 Axes>"
      ]
     },
     "metadata": {},
     "output_type": "display_data"
    }
   ],
   "source": [
    "plt.imshow((x0 + 10000*input_gradient).squeeze())"
   ]
  },
  {
   "cell_type": "markdown",
   "metadata": {},
   "source": [
    "# Frank-Wolfe White-box Attack Algorithm\n",
    "As formulated by alg. 1 in attacks.pdf  \n",
    "Different from standard FW because of momentum"
   ]
  },
  {
   "cell_type": "code",
   "execution_count": 33,
   "metadata": {},
   "outputs": [],
   "source": [
    "eps = 1e-2 # Max perturbation\n",
    "max_iter = 1000\n",
    "gamma_t = 1 # step size\n",
    "beta = 0.5 # momentum term\n",
    "\n",
    "# gradient does not need to be tracked in the FW\n",
    "# is handeled in the input_gradient method\n",
    "x_t = x0.detach().clone() \n",
    "m_t, _, _ = input_grad(x_t)\n",
    "hist = []\n",
    "\n",
    "for i in range(max_iter):\n",
    "    g_t, loss_value, y_pred = input_grad(x_t)\n",
    "    m_t = beta * m_t + (1 - beta) * g_t\n",
    "    # LMO - for infinity norm\n",
    "    v_t = -eps * m_t.sign() + x0\n",
    "    d_t = v_t - x_t\n",
    "    x_t = x_t + gamma_t*d_t\n",
    "\n",
    "    # metrics\n",
    "    hist.append({\n",
    "        'loss': loss_value,\n",
    "        'y_pred': y_pred\n",
    "    })\n",
    "hist = pd.DataFrame(hist)"
   ]
  },
  {
   "cell_type": "code",
   "execution_count": 34,
   "metadata": {},
   "outputs": [
    {
     "data": {
      "text/html": [
       "<div>\n",
       "<style scoped>\n",
       "    .dataframe tbody tr th:only-of-type {\n",
       "        vertical-align: middle;\n",
       "    }\n",
       "\n",
       "    .dataframe tbody tr th {\n",
       "        vertical-align: top;\n",
       "    }\n",
       "\n",
       "    .dataframe thead th {\n",
       "        text-align: right;\n",
       "    }\n",
       "</style>\n",
       "<table border=\"1\" class=\"dataframe\">\n",
       "  <thead>\n",
       "    <tr style=\"text-align: right;\">\n",
       "      <th></th>\n",
       "      <th>loss</th>\n",
       "      <th>y_pred</th>\n",
       "    </tr>\n",
       "  </thead>\n",
       "  <tbody>\n",
       "    <tr>\n",
       "      <th>0</th>\n",
       "      <td>0.000040</td>\n",
       "      <td>9</td>\n",
       "    </tr>\n",
       "    <tr>\n",
       "      <th>1</th>\n",
       "      <td>0.000019</td>\n",
       "      <td>9</td>\n",
       "    </tr>\n",
       "    <tr>\n",
       "      <th>2</th>\n",
       "      <td>0.000018</td>\n",
       "      <td>9</td>\n",
       "    </tr>\n",
       "    <tr>\n",
       "      <th>3</th>\n",
       "      <td>0.000018</td>\n",
       "      <td>9</td>\n",
       "    </tr>\n",
       "    <tr>\n",
       "      <th>4</th>\n",
       "      <td>0.000018</td>\n",
       "      <td>9</td>\n",
       "    </tr>\n",
       "    <tr>\n",
       "      <th>...</th>\n",
       "      <td>...</td>\n",
       "      <td>...</td>\n",
       "    </tr>\n",
       "    <tr>\n",
       "      <th>995</th>\n",
       "      <td>0.000018</td>\n",
       "      <td>9</td>\n",
       "    </tr>\n",
       "    <tr>\n",
       "      <th>996</th>\n",
       "      <td>0.000018</td>\n",
       "      <td>9</td>\n",
       "    </tr>\n",
       "    <tr>\n",
       "      <th>997</th>\n",
       "      <td>0.000018</td>\n",
       "      <td>9</td>\n",
       "    </tr>\n",
       "    <tr>\n",
       "      <th>998</th>\n",
       "      <td>0.000018</td>\n",
       "      <td>9</td>\n",
       "    </tr>\n",
       "    <tr>\n",
       "      <th>999</th>\n",
       "      <td>0.000018</td>\n",
       "      <td>9</td>\n",
       "    </tr>\n",
       "  </tbody>\n",
       "</table>\n",
       "<p>1000 rows × 2 columns</p>\n",
       "</div>"
      ],
      "text/plain": [
       "         loss  y_pred\n",
       "0    0.000040       9\n",
       "1    0.000019       9\n",
       "2    0.000018       9\n",
       "3    0.000018       9\n",
       "4    0.000018       9\n",
       "..        ...     ...\n",
       "995  0.000018       9\n",
       "996  0.000018       9\n",
       "997  0.000018       9\n",
       "998  0.000018       9\n",
       "999  0.000018       9\n",
       "\n",
       "[1000 rows x 2 columns]"
      ]
     },
     "execution_count": 34,
     "metadata": {},
     "output_type": "execute_result"
    }
   ],
   "source": [
    "hist"
   ]
  },
  {
   "cell_type": "code",
   "execution_count": 28,
   "metadata": {},
   "outputs": [
    {
     "data": {
      "text/plain": [
       "<Axes: >"
      ]
     },
     "execution_count": 28,
     "metadata": {},
     "output_type": "execute_result"
    },
    {
     "data": {
      "image/png": "[encoded data removed]",
      "text/plain": [
       "<Figure size 640x480 with 1 Axes>"
      ]
     },
     "metadata": {},
     "output_type": "display_data"
    }
   ],
   "source": [
    "hist['loss'].plot()"
   ]
  },
  {
   "cell_type": "code",
   "execution_count": 29,
   "metadata": {},
   "outputs": [
    {
     "data": {
      "text/plain": [
       "<matplotlib.image.AxesImage at 0x192678e28d0>"
      ]
     },
     "execution_count": 29,
     "metadata": {},
     "output_type": "execute_result"
    },
    {
     "data": {
      "image/png": "[encoded data removed]",
      "text/plain": [
       "<Figure size 640x480 with 1 Axes>"
      ]
     },
     "metadata": {},
     "output_type": "display_data"
    }
   ],
   "source": [
    "plt.imshow((x_t - x0).squeeze())"
   ]
  }
 ],
 "metadata": {
  "kernelspec": {
   "display_name": "Frank",
   "language": "python",
   "name": "python3"
  },
  "language_info": {
   "codemirror_mode": {
    "name": "ipython",
    "version": 3
   },
   "file_extension": ".py",
   "mimetype": "text/x-python",
   "name": "python",
   "nbconvert_exporter": "python",
   "pygments_lexer": "ipython3",
   "version": "3.11.4"
  }
 },
 "nbformat": 4,
 "nbformat_minor": 2
}
