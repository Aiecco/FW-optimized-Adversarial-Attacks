{
 "cells": [
  {
   "metadata": {
    "ExecuteTime": {
     "end_time": "2024-07-05T18:11:40.623743Z",
     "start_time": "2024-07-05T18:11:36.534494Z"
    }
   },
   "cell_type": "code",
   "source": [
    "import torch\n",
    "from torch.utils.data import DataLoader\n",
    "import time\n",
    "import copy\n",
    "import pandas as pd\n",
    "import os\n",
    "from tqdm import tqdm\n",
    "import itertools\n",
    "device = torch.device('cuda' if torch.cuda.is_available() else 'cpu')\n",
    "from L_calc_new import *"
   ],
   "id": "f10ced1ccdf6e97",
   "outputs": [
    {
     "name": "stdout",
     "output_type": "stream",
     "text": [
      "Running on cpu.\n",
      "Model weights loaded successfully\n"
     ]
    },
    {
     "name": "stderr",
     "output_type": "stream",
     "text": [
      "Using cache found in C:\\Users\\alepa/.cache\\torch\\hub\\chenyaofo_pytorch-cifar-models_master\n"
     ]
    },
    {
     "name": "stdout",
     "output_type": "stream",
     "text": [
      "Files already downloaded and verified\n"
     ]
    }
   ],
   "execution_count": 1
  },
  {
   "metadata": {},
   "cell_type": "markdown",
   "source": "# Models",
   "id": "e6b229bce8fccb63"
  },
  {
   "metadata": {
    "ExecuteTime": {
     "end_time": "2024-07-05T18:11:40.634031Z",
     "start_time": "2024-07-05T18:11:40.624748Z"
    }
   },
   "cell_type": "code",
   "source": [
    "class LeNet():\n",
    "    def __init__(self, weigths_pth = \"models/lenet5_model.pth\"):\n",
    "        self.query_count = 0\n",
    "        self.batch_size = 64\n",
    "        self.num_classes = 10\n",
    "        self.classes = [str(i) for i in range(10)]\n",
    "        self.learning_rate = 0.001\n",
    "        self.num_epochs = 10\n",
    "        self.device = torch.device('cuda' if torch.cuda.is_available() else 'cpu')\n",
    "        self.seed = 42\n",
    "        self.trained_mdl_pth = weigths_pth\n",
    "        random.seed(self.seed)\n",
    "        torch.manual_seed(self.seed)\n",
    "        self.requires_denorm = True\n",
    "        self.mean = [0.1307]\n",
    "        self.std = [0.3081]\n",
    "\n",
    "        self.transform=transforms.Compose([\n",
    "                    transforms.ToTensor(),\n",
    "                    transforms.Normalize((0.1307,), (0.3081,)),\n",
    "                    ])\n",
    "        \n",
    "        self.testloader = torch.utils.data.DataLoader(\n",
    "            datasets.MNIST('../data', train=False, download=True, transform=transforms.Compose([\n",
    "                    transforms.ToTensor(),\n",
    "                    transforms.Normalize((0.1307,), (0.3081,)),\n",
    "                    ])),\n",
    "                batch_size=1, shuffle=True)\n",
    "\n",
    "        self.model = torch_model().to(self.device)\n",
    "        self.model.load_state_dict(torch.load(self.trained_mdl_pth, map_location=self.device))\n",
    "        self.model.eval()\n",
    "        self.cost = nn.CrossEntropyLoss()\n",
    "\n",
    "\n",
    "    def test(self):\n",
    "        with torch.no_grad(): # note this should not be left on for WB attacks\n",
    "            correct = 0\n",
    "            total = 0\n",
    "            for images, labels in self.test_loader:\n",
    "                images = images.to(self.device)\n",
    "                labels = labels.to(self.device)\n",
    "                outputs = self.model(images)\n",
    "                _, predicted = torch.max(outputs.data, 1)\n",
    "                total += labels.size(0)\n",
    "                correct += (predicted == labels).sum().item()\n",
    "\n",
    "            print('Accuracy of the network on the 10000 test images: {} %'.format(100 * correct / total))\n",
    "\n",
    "\n",
    "    def denorm(self, batch):\n",
    "        mean, std = self.mean, self.std\n",
    "        if isinstance(mean, list):\n",
    "            mean = torch.tensor(mean).to(self.device)\n",
    "        if isinstance(std, list):\n",
    "            std = torch.tensor(std).to(self.device)\n",
    "        return batch * std.view(1, -1, 1, 1) + mean.view(1, -1, 1, 1)\n",
    "\n",
    "    def renorm(self, batch):\n",
    "        return transforms.Normalize(tuple(self.mean), tuple(self.std))(batch).detach()\n",
    "\n",
    "    def remake_testloader(self, seed):\n",
    "        torch.manual_seed(seed)\n",
    "        random.seed(seed)\n",
    "        np.random.seed(seed)\n",
    "        self.testloader = torch.utils.data.DataLoader(\n",
    "            datasets.MNIST('../data', train=False, download=True, transform=transforms.Compose([\n",
    "                    transforms.ToTensor(),\n",
    "                    transforms.Normalize((0.1307,), (0.3081,)),\n",
    "                    ])),\n",
    "                batch_size=1, shuffle=True)\n",
    "        return self.testloader\n",
    "class torch_model(nn.Module):\n",
    "    def __init__(self):\n",
    "        super(torch_model, self).__init__()\n",
    "        self.conv1 = nn.Conv2d(1, 32, 3, 1)\n",
    "        self.conv2 = nn.Conv2d(32, 64, 3, 1)\n",
    "        self.dropout1 = nn.Dropout(0.25)\n",
    "        self.dropout2 = nn.Dropout(0.5)\n",
    "        self.fc1 = nn.Linear(9216, 128)\n",
    "        self.fc2 = nn.Linear(128, 10)\n",
    "\n",
    "    def forward(self, x):\n",
    "        x = self.conv1(x)\n",
    "        x = F.relu(x)\n",
    "        x = self.conv2(x)\n",
    "        x = F.relu(x)\n",
    "        x = F.max_pool2d(x, 2)\n",
    "        x = self.dropout1(x)\n",
    "        x = torch.flatten(x, 1)\n",
    "        x = self.fc1(x)\n",
    "        x = F.relu(x)\n",
    "        x = self.dropout2(x)\n",
    "        x = self.fc2(x)\n",
    "        output = F.log_softmax(x, dim=1)\n",
    "        return output"
   ],
   "id": "82c963c4c9d18a28",
   "outputs": [],
   "execution_count": 2
  },
  {
   "metadata": {
    "ExecuteTime": {
     "end_time": "2024-07-05T18:11:40.646164Z",
     "start_time": "2024-07-05T18:11:40.634031Z"
    }
   },
   "cell_type": "code",
   "source": [
    "class simple_FashionMNIST():\n",
    "    def __init__(self, trained_mdl_pth):\n",
    "        self.query_count = 0\n",
    "        self.trained_mdl_pth = trained_mdl_pth\n",
    "        torch.manual_seed(42)\n",
    "        np.random.seed(42)\n",
    "\n",
    "        self.device = torch.device(\"cuda\" if torch.cuda.is_available() else \"cpu\")\n",
    "        print(f\"Running on {self.device}.\")\n",
    "\n",
    "        transform = transforms.Compose([transforms.ToTensor()])\n",
    "\n",
    "        trainset = torchvision.datasets.FashionMNIST(root='./data', train=True, download=True, transform=transform)\n",
    "\n",
    "        self.testset = torchvision.datasets.FashionMNIST(root='./data', train=False, download=True, transform=transform)\n",
    "        self.testloader = torch.utils.data.DataLoader(self.testset, batch_size=1, shuffle=False)\n",
    "        self.requires_denorm = False\n",
    "\n",
    "        self.classes = ('T-shirt/top', 'Trouser', 'Pullover', 'Dress', 'Coat', \n",
    "                'Sandal', 'Shirt', 'Sneaker', 'Bag', 'Ankle boot')\n",
    "        self.num_classes = len(self.classes)\n",
    "\n",
    "        self.model = BasicCNN().to(self.device)\n",
    "        self.cost = nn.CrossEntropyLoss()\n",
    "\n",
    "        if os.path.exists(self.trained_mdl_pth):\n",
    "            self.load_model()\n",
    "        else:\n",
    "            print(f\"No model file found at {self.trained_mdl_pth}.\\nTraining...\")\n",
    "            self.train(self.trained_mdl_pth)\n",
    "\n",
    "    def load_model(self, mdl_pth=None):\n",
    "        mdl_pth = self.trained_mdl_pth if mdl_pth is None else mdl_pth\n",
    "        #self.model = BasicCNN(self.num_classes).to(self.device)\n",
    "        self.model.load_state_dict(torch.load(self.trained_mdl_pth))\n",
    "        self.model.eval()\n",
    "        print(\"Model weights loaded successfully\")\n",
    "        return\n",
    "    \n",
    "    def train(self):\n",
    "        num_epochs = 5\n",
    "\n",
    "        for epoch in range(num_epochs):\n",
    "            self.model.train()\n",
    "            \n",
    "            for images, labels in self.trainloader:\n",
    "                images, labels = images.to(self.device), labels.to(self.device)\n",
    "                \n",
    "                self.optimizer.zero_grad()\n",
    "                \n",
    "                outputs = self.model(images)\n",
    "                \n",
    "                loss = self.criterion(outputs, labels)\n",
    "                \n",
    "                loss.backward()\n",
    "                \n",
    "                self.optimizer.step()\n",
    "    def denorm(self, batch):\n",
    "        return batch\n",
    "    def renorm(self, batch):\n",
    "        return batch.detach()\n",
    "    \n",
    "    def remake_testloader(self, seed):\n",
    "        torch.manual_seed(seed)\n",
    "        random.seed(seed)\n",
    "        np.random.seed(seed)\n",
    "        self.testloader = torch.utils.data.DataLoader(self.testset, batch_size=1, shuffle=False)\n",
    "        return self.testloader\n",
    "class BasicCNN(nn.Module):\n",
    "    def __init__(self):\n",
    "        super(BasicCNN, self).__init__()\n",
    "        self.conv1 = nn.Conv2d(1, 32, 3)  # Output: [batch_size, 32, 26, 26]\n",
    "        self.conv2 = nn.Conv2d(32, 64, 3) # Output: [batch_size, 64, 11, 11]\n",
    "        \n",
    "        self.fc1 = nn.Linear(64 * 5 * 5, 128)  # Flattening: [batch_size, 64*5*5]\n",
    "        self.fc2 = nn.Linear(128, 10)\n",
    "\n",
    "    def forward(self, x):\n",
    "        x = F.relu(self.conv1(x))\n",
    "        x = F.max_pool2d(x, 2)\n",
    "        \n",
    "        x = F.relu(self.conv2(x))\n",
    "        x = F.max_pool2d(x, 2)\n",
    "        \n",
    "        x = x.view(-1, 64 * 5 * 5) # Flattening\n",
    "        x = F.relu(self.fc1(x))\n",
    "        x = self.fc2(x)\n",
    "        return F.log_softmax(x, dim=1)"
   ],
   "id": "27f4934c0d2fcf5c",
   "outputs": [],
   "execution_count": 3
  },
  {
   "metadata": {
    "ExecuteTime": {
     "end_time": "2024-07-05T18:11:40.657254Z",
     "start_time": "2024-07-05T18:11:40.646164Z"
    }
   },
   "cell_type": "code",
   "source": [
    "class ResNet20():\n",
    "    def __init__(self):\n",
    "        self.query_count = 0\n",
    "        self.model = torch.hub.load(\"chenyaofo/pytorch-cifar-models\", \"cifar10_resnet20\", pretrained=True)\n",
    "        self.model.eval()\n",
    "        self.num_classes = 10\n",
    "        self.device = torch.device('cuda' if torch.cuda.is_available() else 'cpu')\n",
    "        self.seed = 42\n",
    "        random.seed(self.seed)\n",
    "        torch.manual_seed(self.seed)\n",
    "\n",
    "        self.classes = [\n",
    "                        'airplane', \t\t\t\t\t\t\t\t\t\t\n",
    "                        'automobile', \t\t\t\t\t\t\t\t\t\n",
    "                        'bird', \t\t\t\t\t\t\t\t\t\n",
    "                        'cat', \t\t\t\t\t\t\t\t\t\t\n",
    "                        'deer',\t\t\t\t\t\t\t\t\t\t\n",
    "                        'dog', \t\t\t\t\t\t\t\t\t\t\n",
    "                        'frog', \t\t\t\t\t\t\t\t\t\t\n",
    "                        'horse', \t\t\t\t\t\t\t\t\t\t\n",
    "                        'ship', \t\t\t\t\t\t\t\t\t\t\n",
    "                        'truck'\n",
    "                        ]\n",
    "\n",
    "        self.cost = nn.CrossEntropyLoss()\n",
    "        \n",
    "        self.mean = (0.4914, 0.4822, 0.4465)\n",
    "        self.std = (0.2023, 0.1994, 0.2010)\n",
    "        self.testset = torchvision.datasets.CIFAR10(root='./data', \n",
    "                                                train=False, \n",
    "                                                download=True,\n",
    "                                                transform=transforms.Compose([\n",
    "                                                    transforms.ToTensor(),\n",
    "                                                    transforms.Normalize(self.mean, self.std)\n",
    "                                                ])\n",
    "        )\n",
    "        self.testloader = torch.utils.data.DataLoader(self.testset,\n",
    "                                                batch_size=1, \n",
    "                                                shuffle=True)\n",
    "    \n",
    "    def remake_testloader(self, seed):\n",
    "        torch.manual_seed(seed)\n",
    "        random.seed(seed)\n",
    "        np.random.seed(seed)\n",
    "        self.testloader = torch.utils.data.DataLoader(self.testset,\n",
    "                                                batch_size=1, \n",
    "                                                shuffle=True)\n",
    "        return self.testloader\n",
    "    def denorm(self, batch):\n",
    "        mean, std = self.mean, self.std\n",
    "        mean = torch.tensor(mean).to(self.device)\n",
    "        std = torch.tensor(std).to(self.device)\n",
    "        return batch * std.view(1, -1, 1, 1) + mean.view(1, -1, 1, 1)\n",
    "    \n",
    "    def renorm(self, batch):\n",
    "        return transforms.Normalize(self.mean, self.std)(batch).detach()"
   ],
   "id": "b6ee2dbf10c4a78",
   "outputs": [],
   "execution_count": 4
  },
  {
   "metadata": {},
   "cell_type": "markdown",
   "source": "# Attack utils",
   "id": "f775519d11cb4221"
  },
  {
   "metadata": {
    "ExecuteTime": {
     "end_time": "2024-07-05T18:11:40.683051Z",
     "start_time": "2024-07-05T18:11:40.658261Z"
    }
   },
   "cell_type": "code",
   "source": [
    "class AttackStep:\n",
    "    def __init__(self, method, epsilon, x0_denorm, lmo, stepsize_method=None, momentum=0.8):\n",
    "        self.method = method\n",
    "        self.epsilon = epsilon\n",
    "        self.x0_denorm = x0_denorm\n",
    "        self.stepsize_method = stepsize_method\n",
    "        self.lmo = lmo\n",
    "        self.momentum = momentum\n",
    "        self.m_t_last = None\n",
    "        self.m_t = None\n",
    "        self.S_t = [x0_denorm]\n",
    "        self.A_t = [1]\n",
    "        self.x_t_denorm = None\n",
    "\n",
    "    def step(self, x_t_denorm, x_t_grad):\n",
    "        if self.method == 'fgsm':\n",
    "            return self.fgsm_attack(x_t_denorm, x_t_grad)\n",
    "        elif self.method == 'fw':\n",
    "            return self.fw_step(x_t_denorm, x_t_grad)\n",
    "        elif self.method == 'fw_momentum':\n",
    "            return self.fw_step_momentum(x_t_denorm, x_t_grad, momentum=self.momentum)\n",
    "        elif self.method == 'fw_away':\n",
    "            return self.fw_step_away(x_t_denorm, x_t_grad)\n",
    "        elif self.method == 'fw_away_m':\n",
    "            return self.fw_step_away_m(x_t_denorm, x_t_grad, momentum=self.momentum)\n",
    "        elif self.method == 'fw_pair':\n",
    "            return self.fw_step_pairwise(x_t_denorm, x_t_grad)\n",
    "        elif self.method == 'fw_pair_test':\n",
    "            return self.fw_step_pairwise_test(x_t_denorm, x_t_grad)\n",
    "        else:\n",
    "            raise ValueError(f\"Unknown method: {self.method}\")\n",
    "        \n",
    "    def fgsm_attack(self, image, data_grad):\n",
    "        # Collect the element-wise sign of the data gradient\n",
    "        sign_data_grad = data_grad.sign()\n",
    "        # Create the perturbed image by adjusting each pixel of the input image\n",
    "        perturbed_image = image + self.epsilon * sign_data_grad\n",
    "        # Adding clipping to maintain [0,1] range\n",
    "        perturbed_image = torch.clamp(perturbed_image, 0, 1)\n",
    "        # Return the perturbed image\n",
    "        return perturbed_image\n",
    "\n",
    "    def pgd_attack(self, x_t, g_t):\n",
    "        perturbed_image = x_t + self.stepsize_method.get_stepsize(x_t, g_t) * g_t\n",
    "        perturbed_image = torch.clamp(perturbed_image, 0, 1)\n",
    "        return perturbed_image\n",
    "\n",
    "    def fw_step(self, x_t, g_t):\n",
    "        info = {}\n",
    "        # Use LMO to compute the attack direction\n",
    "        v_t = self.lmo.get(g_t)\n",
    "        d_t = v_t - x_t\n",
    "        self.d_t = d_t\n",
    "        fw_stepsize = self.stepsize_method.get_stepsize(x_t, d_t)\n",
    "        info['stepsize'] = fw_stepsize\n",
    "        perturbed_image = x_t + fw_stepsize * d_t\n",
    "        perturbed_image = torch.clamp(perturbed_image, 0, 1)\n",
    "        gap_FW = torch.sum(-d_t * g_t).item()\n",
    "        return perturbed_image, gap_FW, info\n",
    "\n",
    "    def fw_step_momentum(self, x_t, g_t,  momentum=0.8):\n",
    "        # alg from attacks.pdf\n",
    "        info = {}\n",
    "        m_t = (1 - momentum) * g_t\n",
    "        if self.m_t_last is not None:\n",
    "            m_t += momentum * self.m_t_last\n",
    "        v_t = self.lmo.get(m_t)\n",
    "        d_t = v_t - x_t\n",
    "\n",
    "        fw_stepsize = self.stepsize_method.get_stepsize(x_t, d_t)\n",
    "\n",
    "        gap_FW = torch.sum(-d_t * g_t).item()\n",
    "        perturbed_image = x_t + fw_stepsize * d_t\n",
    "        perturbed_image = torch.clamp(perturbed_image, 0, 1)\n",
    "        self.m_t_last = m_t.clone().detach()\n",
    "        return perturbed_image, gap_FW, info\n",
    "\n",
    "    def update_active_away(self, gamma, s_t, v_t_idx, step_type, debug = True):\n",
    "        \"\"\"\n",
    "        Args:\n",
    "            gamma (float): stepsize\n",
    "            gamma_max (int): Max stepsize informs when FW step will make S_t singular or AS dropstep\n",
    "            S_t (list(torch.Tensor)): Active set of directions s.t. x_t in conv{S_t}\n",
    "            A_t (list(float)): coefficients corresponding to atoms in S_t. x_t = A_t .* S_t\n",
    "            v_t_idx (int): index of away atom in S_t\n",
    "        \"\"\"\n",
    "        info = {}\n",
    "        debug_info = {}\n",
    "        if step_type == 'FW':\n",
    "            if abs(gamma - 1) < 0.0001:\n",
    "                # drop step\n",
    "                self.S_t = [s_t]\n",
    "                self.A_t = [1]\n",
    "                debug_info['drop_step'] = 'FW'\n",
    "            else:\n",
    "                ## UPDATE S\n",
    "                # need to check if vertex is already in S\n",
    "                diffs = [torch.sum(torch.abs(s_t - s)).item() for s in self.S_t]\n",
    "                min_diff = min(diffs)\n",
    "                arg = np.argmin(diffs)\n",
    "                if min_diff < 0.9*self.epsilon:\n",
    "                    # s_t already in S_t\n",
    "                    s_t_idx = arg\n",
    "                    debug_info['FW_revisit'] = True\n",
    "                else:\n",
    "                    self.S_t.append(s_t)\n",
    "                    self.A_t.append(0.0)\n",
    "                    s_t_idx = -1\n",
    "                #debug_info[\"min_revisit_diff\"] = min_diff\n",
    "                \n",
    "                ## UPDATE ALPHAS\n",
    "                self.A_t = [(1 - gamma) * alpha for alpha in self.A_t]\n",
    "                self.A_t[s_t_idx] += gamma\n",
    "        elif step_type == 'AS':\n",
    "            if False: #gamma >= gamma_max:\n",
    "                # drop step: remove atom and alpha\n",
    "                # logic changed to check if alpha is zeroed (see below)\n",
    "                self.A_t.pop(v_t_idx)\n",
    "                self.S_t.pop(v_t_idx)\n",
    "                debug_info['drop_step'] = 'AS'\n",
    "            else:\n",
    "                ## UPDATE ALPHAS\n",
    "                self.A_t = [(1 + gamma) * alpha for alpha in self.A_t]\n",
    "                self.A_t[v_t_idx] -= gamma\n",
    "        else:\n",
    "            raise Exception(\"Step must be FW or AS\")\n",
    "        \n",
    "        # Detect if the away step was a dropstep\n",
    "        # done by seeing if any of the alphas where zeroed out.\n",
    "        i = 0\n",
    "        while i < len(self.A_t):\n",
    "            alpha_i = self.A_t[i]\n",
    "            if alpha_i <= 0:\n",
    "                debug_info['drop_step'] = 'AS'\n",
    "                self.A_t.pop(i)\n",
    "                self.S_t.pop(i)\n",
    "            else:\n",
    "                i += 1\n",
    "\n",
    "        debug_info['v_t_idx'] = v_t_idx\n",
    "        if debug:\n",
    "            info.update(debug_info)\n",
    "        return self.S_t, self.A_t, info\n",
    "\n",
    "    def fw_step_away(self, x_t, g_t, debug=True):\n",
    "        # alg from FW_varients.pdf\n",
    "        use_conv_comb_x_t = False\n",
    "        info = {}\n",
    "        debug_info = {}\n",
    "        \n",
    "        # FW direction\n",
    "        s_t = self.lmo.get(g_t)\n",
    "        d_t_FW = s_t - x_t\n",
    "        # AWAY direction. From set of vertices already visited\n",
    "        away_sign = 1\n",
    "        away_costs = []\n",
    "        for v in self.S_t:\n",
    "            away_costs.append(torch.sum(away_sign * g_t * v).item()) \n",
    "        v_t_idx = np.argmax(away_costs) \n",
    "        v_t = self.S_t[v_t_idx]\n",
    "        d_t_AWAY = x_t - v_t\n",
    "        # check optimality (FW gap)\n",
    "        gap_FW = torch.sum(-g_t * d_t_FW).item()\n",
    "        gap_AWAY = torch.sum(-g_t * d_t_AWAY).item()\n",
    "        info['gap_FW'] = gap_FW\n",
    "        info['gap_AS'] = gap_AWAY\n",
    "        debug_info['awayCosts'] = away_costs\n",
    "\n",
    "        # check which direction is closer to the -gradient\n",
    "        if (gap_FW >= gap_AWAY) or (len(self.S_t) == 1): # don't step away if only one vertex in S_t\n",
    "            step_type = 'FW'\n",
    "            d_t = d_t_FW\n",
    "            max_step = 1\n",
    "        else:\n",
    "            step_type = 'AS'\n",
    "            d_t = d_t_AWAY\n",
    "            alpha_v_t = self.A_t[v_t_idx]\n",
    "            max_step = 1 if alpha_v_t == 1 else alpha_v_t / (1 - alpha_v_t)  # avoid divide by zero when alpha = 1\n",
    "        self.d_t = d_t\n",
    "        info['step_type'] = step_type\n",
    "        debug_info['max_step'] = max_step\n",
    "        # determine stepsize according to rule\n",
    "        fw_stepsize = self.stepsize_method.get_stepsize(x_t, d_t, max_step)\n",
    "        info['stepsize'] = fw_stepsize\n",
    "\n",
    "        self.S_t, self.A_t, update_info = self.update_active_away(fw_stepsize, s_t, v_t_idx, step_type,\n",
    "                                                debug=debug)\n",
    "\n",
    "        ## UPDATE x_t\n",
    "        perturbed_image_step = x_t + fw_stepsize * d_t\n",
    "        perturbed_image_alpha = sum([alpha * v for alpha, v in zip(self.A_t, self.S_t)])\n",
    "        if use_conv_comb_x_t: # use x_t = A_t.T * S_t or x_t + gamma * d_t ?\n",
    "            perturbed_image = perturbed_image_alpha\n",
    "        else:\n",
    "            perturbed_image = perturbed_image_step\n",
    "        perturbed_image = torch.clamp(perturbed_image, 0, 1)\n",
    "\n",
    "        # LOGGING and DEBUG info\n",
    "        info['alphas'] = self.A_t\n",
    "        debug_info['L_inf_step'] = torch.max(torch.abs(perturbed_image_step - self.x0_denorm)).item()\n",
    "        debug_info['L_inf_alpha'] = torch.max(torch.abs(perturbed_image_alpha - self.x0_denorm)).item()\n",
    "        alpha_np = ((perturbed_image_alpha).squeeze(0).permute(1, 2, 0).numpy()).clip(0,1)\n",
    "        step_np = ((perturbed_image_step).squeeze(0).permute(1, 2, 0).numpy()).clip(0,1)\n",
    "        debug_info['step_alpha_diffFactor'] = (alpha_np - step_np).sum() / self.epsilon\n",
    "        info.update(update_info)\n",
    "        if debug:\n",
    "            info.update(debug_info)\n",
    "        self.last_d = d_t\n",
    "        return perturbed_image, gap_FW, info\n",
    "\n",
    "    def fw_step_away_m(self, x_t, g_t, debug=True, momentum=0.8):\n",
    "        # alg from FW_varients.pdf\n",
    "        use_conv_comb_x_t = False\n",
    "        info = {}\n",
    "        debug_info = {}\n",
    "        \n",
    "        # FW direction\n",
    "        self.m_t = (1 - momentum) * g_t + momentum * self.m_t\n",
    "        s_t = self.lmo.get(self.m_t)\n",
    "        d_t_FW = s_t - x_t\n",
    "        # AWAY direction. From set of vertices already visited\n",
    "        away_sign = 1\n",
    "        away_costs = []\n",
    "        for v in self.S_t:\n",
    "            away_costs.append(torch.sum(away_sign * g_t * v).item()) \n",
    "        v_t_idx = np.argmax(away_costs) \n",
    "        v_t = self.S_t[v_t_idx]\n",
    "        d_t_AWAY = x_t - v_t\n",
    "        # check optimality (FW gap)\n",
    "        gap_FW = torch.sum(-g_t * d_t_FW).item()\n",
    "        gap_AWAY = torch.sum(-g_t * d_t_AWAY).item()\n",
    "        info['gap_FW'] = gap_FW\n",
    "        info['gap_AS'] = gap_AWAY\n",
    "        debug_info['awayCosts'] = away_costs\n",
    "\n",
    "        # check which direction is closer to the -gradient\n",
    "        if (gap_FW >= gap_AWAY) or (len(self.S_t) == 1): # don't step away if only one vertex in S_t\n",
    "            step_type = 'FW'\n",
    "            d_t = d_t_FW\n",
    "            max_step = 1\n",
    "        else:\n",
    "            step_type = 'AS'\n",
    "            d_t = d_t_AWAY\n",
    "            alpha_v_t = self.A_t[v_t_idx]\n",
    "            max_step = 1 if alpha_v_t == 1 else alpha_v_t / (1 - alpha_v_t)  # avoid divide by zero when alpha = 1\n",
    "        self.d_t = d_t\n",
    "        info['step_type'] = step_type\n",
    "        debug_info['max_step'] = max_step\n",
    "        # determine stepsize according to rule\n",
    "        fw_stepsize = self.stepsize_method.get_stepsize(self.stepsize_method.x_t_denorm, d_t, max_step)\n",
    "        info['stepsize'] = fw_stepsize\n",
    "\n",
    "        self.S_t, self.A_t, update_info = self.update_active_away(fw_stepsize, s_t, v_t_idx, step_type,\n",
    "                                                debug=debug)\n",
    "\n",
    "        ## UPDATE x_t\n",
    "        perturbed_image_step = x_t + fw_stepsize * d_t\n",
    "        perturbed_image_alpha = sum([alpha * v for alpha, v in zip(self.A_t, self.S_t)])\n",
    "        if use_conv_comb_x_t: # use x_t = A_t.T * S_t or x_t + gamma * d_t ?\n",
    "            perturbed_image = perturbed_image_alpha\n",
    "        else:\n",
    "            perturbed_image = perturbed_image_step\n",
    "        perturbed_image = torch.clamp(perturbed_image, 0, 1)\n",
    "\n",
    "        # LOGGING and DEBUG info\n",
    "        info['alphas'] = self.A_t\n",
    "        debug_info['L_inf_step'] = torch.max(torch.abs(perturbed_image_step - self.x0_denorm)).item()\n",
    "        debug_info['L_inf_alpha'] = torch.max(torch.abs(perturbed_image_alpha - self.x0_denorm)).item()\n",
    "        alpha_np = ((perturbed_image_alpha).squeeze(0).permute(1, 2, 0).numpy()).clip(0,1)\n",
    "        step_np = ((perturbed_image_step).squeeze(0).permute(1, 2, 0).numpy()).clip(0,1)\n",
    "        debug_info['step_alpha_diffFactor'] = (alpha_np - step_np).sum() / self.epsilon\n",
    "        info.update(update_info)\n",
    "        if debug:\n",
    "            info.update(debug_info)\n",
    "        self.last_d = d_t\n",
    "        return perturbed_image, gap_FW, info\n",
    "\n",
    "    def update_active_pair(self, gamma, s_t, v_t_idx, info):\n",
    "        drop = True\n",
    "        diffs = [torch.sum(torch.abs(s_t - s)).item() for s in self.S_t]  # [torch.max(torch.abs(s_t - s)).item() for s in S_t]\n",
    "        min_diff = min(diffs)\n",
    "        arg = np.argmin(diffs)\n",
    "        if min_diff < 0.9 * self.epsilon:\n",
    "            # s_t already in S_t\n",
    "            s_t_idx = arg\n",
    "        else:\n",
    "            self.S_t.append(s_t)\n",
    "            self.A_t.append(0.0)\n",
    "            s_t_idx = -1\n",
    "        #self.A_t = [a + gamma if i == s_t_idx else a - gamma for i, a in enumerate(self.A_t)]\n",
    "        self.A_t[s_t_idx] += gamma\n",
    "        self.A_t[v_t_idx] -= gamma\n",
    "        \n",
    "        tol = 0.001\n",
    "        i=0\n",
    "        while i < len(self.A_t):\n",
    "            alpha_v_i = self.A_t[i]\n",
    "            s_t_i = self.S_t[i]\n",
    "            if abs(1 - alpha_v_i) < tol:\n",
    "                self.A_t = [1.0]\n",
    "                self.S_t = [s_t_i]\n",
    "                break\n",
    "            elif self.A_t[i] < tol:\n",
    "                if drop:\n",
    "                    self.A_t.pop(i)\n",
    "                    self.S_t.pop(i)\n",
    "                else:\n",
    "                    pass\n",
    "            else:\n",
    "                i += 1\n",
    "        info['A_t'] = copy.deepcopy(self.A_t)\n",
    "        return self.S_t, self.A_t\n",
    "\n",
    "    def fw_step_pairwise(self, x_t, g_t):\n",
    "        use_conv_comb_x_t = True\n",
    "        info = {}\n",
    "        debug_info = {}\n",
    "\n",
    "        # Using LMO to compute s_t\n",
    "        s_t = self.lmo.get(g_t)\n",
    "        d_t_FW = s_t - x_t\n",
    "\n",
    "        # AWAY direction. From set of vertices already visited\n",
    "        away_costs = []\n",
    "        for v in self.S_t:\n",
    "            away_costs.append(torch.sum(g_t * v).item())\n",
    "        v_t_idx = np.argmax(away_costs)\n",
    "        v_t = self.S_t[v_t_idx]\n",
    "        alpha_v_t = self.A_t[v_t_idx]\n",
    "        max_step = alpha_v_t\n",
    "        d_t_AWAY = x_t - v_t\n",
    "        self.away_costs = away_costs\n",
    "\n",
    "        gap_FW = torch.sum(-g_t * d_t_FW).item()\n",
    "        gap_AWAY = torch.sum(-g_t * d_t_AWAY).item()\n",
    "        info['gap_FW'] = gap_FW\n",
    "        info['gap_AS'] = gap_AWAY\n",
    "\n",
    "        d_t = d_t_FW + d_t_AWAY #s_t - v_t\n",
    "        self.d_t = d_t\n",
    "        fw_stepsize = self.stepsize_method.get_stepsize(x_t, d_t, max_step)\n",
    "\n",
    "        self.S_t, self.A_t = self.update_active_pair(fw_stepsize, s_t, v_t_idx, info)\n",
    "        perturbed_image_step = x_t + fw_stepsize * d_t\n",
    "        perturbed_image_alpha = sum([alpha * v for alpha, v in zip(self.A_t, self.S_t)])\n",
    "        if use_conv_comb_x_t: \n",
    "            perturbed_image = perturbed_image_alpha\n",
    "        else:\n",
    "            perturbed_image = perturbed_image_step\n",
    "        perturbed_image = torch.clamp(perturbed_image, 0, 1)\n",
    "\n",
    "        info.update(debug_info)\n",
    "\n",
    "        return perturbed_image, gap_FW, info\n",
    "    \n",
    "    def update_active_pair_test(self, gamma, s_t, v_t_idx, debug = True):\n",
    "        \"\"\"\n",
    "        Args:\n",
    "            gamma (float): stepsize\n",
    "            gamma_max (int): Max stepsize informs when FW step will make S_t singular or AS dropstep\n",
    "            S_t (list(torch.Tensor)): Active set of directions s.t. x_t in conv{S_t}\n",
    "            A_t (list(float)): coefficients corresponding to atoms in S_t. x_t = A_t .* S_t\n",
    "            v_t_idx (int): index of away atom in S_t\n",
    "        \"\"\"\n",
    "        info = {}\n",
    "        debug_info = {}\n",
    "        if abs(gamma - 1) < 0.0001:\n",
    "            # drop step\n",
    "            self.S_t = [s_t]\n",
    "            self.A_t = [1.0]\n",
    "            debug_info['drop_step'] = 'FW'\n",
    "        else:\n",
    "            ## UPDATE S\n",
    "            # need to check if vertex is already in S\n",
    "            diffs = [torch.sum(torch.abs(s_t - s)).item() for s in self.S_t]\n",
    "            min_diff = min(diffs)\n",
    "            arg = np.argmin(diffs)\n",
    "            debug_info['min_revisit_diff'] = min_diff\n",
    "            if min_diff < 0.9*self.epsilon:\n",
    "                # s_t already in S_t\n",
    "                s_t_idx = arg\n",
    "                debug_info['FW_revisit'] = True\n",
    "            else:\n",
    "                self.S_t.append(s_t)\n",
    "                self.A_t.append(0.0)\n",
    "                s_t_idx = -1\n",
    "            #debug_info[\"min_revisit_diff\"] = min_diff\n",
    "            \n",
    "            ## UPDATE ALPHAS\n",
    "            #self.A_t = [(1 - gamma) * alpha for alpha in self.A_t]\n",
    "            self.A_t[s_t_idx] += gamma\n",
    "            if False: #gamma >= gamma_max:\n",
    "                # drop step: remove atom and alpha\n",
    "                # logic changed to check if alpha is zeroed (see below)\n",
    "                self.A_t.pop(v_t_idx)\n",
    "                self.S_t.pop(v_t_idx)\n",
    "                debug_info['drop_step'] = 'AS'\n",
    "            else:\n",
    "                ## UPDATE ALPHAS\n",
    "                #self.A_t = [(1 + gamma) * alpha for alpha in self.A_t]\n",
    "                self.A_t[v_t_idx] -= gamma\n",
    "        \n",
    "        # Detect if the away step was a dropstep\n",
    "        # done by seeing if any of the alphas where zeroed out.\n",
    "        i = 0\n",
    "        while i < len(self.A_t):\n",
    "            alpha_i = self.A_t[i]\n",
    "            if (alpha_i <= 0) and (len(self.A_t) > 1):\n",
    "                debug_info['drop_step'] = 'AS'\n",
    "                self.A_t.pop(i)\n",
    "                self.S_t.pop(i)\n",
    "            else:\n",
    "                i += 1\n",
    "\n",
    "        debug_info['v_t_idx'] = v_t_idx\n",
    "        if debug:\n",
    "            info.update(debug_info)\n",
    "        return self.S_t, self.A_t, info\n",
    "    \n",
    "    def fw_step_pairwise_test(self, x_t, g_t, debug=True):\n",
    "        # alg from FW_varients.pdf\n",
    "        use_conv_comb_x_t = True\n",
    "        info = {}\n",
    "        debug_info = {}\n",
    "        \n",
    "        # FW direction\n",
    "        s_t = self.lmo.get(g_t)\n",
    "        d_t_FW = s_t - x_t\n",
    "        # AWAY direction. From set of vertices already visited\n",
    "        away_sign = 1\n",
    "        away_costs = []\n",
    "        for v in self.S_t:\n",
    "            away_costs.append(torch.sum(away_sign * g_t * v).item()) \n",
    "        v_t_idx = np.argmax(away_costs) \n",
    "        v_t = self.S_t[v_t_idx]\n",
    "        d_t_AWAY = x_t - v_t\n",
    "        # check optimality (FW gap)\n",
    "        gap_FW = torch.sum(-g_t * d_t_FW).item()\n",
    "        gap_AWAY = torch.sum(-g_t * d_t_AWAY).item()\n",
    "        info['gap_FW'] = gap_FW\n",
    "        info['gap_AS'] = gap_AWAY\n",
    "        debug_info['awayCosts'] = away_costs\n",
    "\n",
    "        # # check which direction is closer to the -gradient\n",
    "        # if (gap_FW >= gap_AWAY) or (len(self.S_t) == 1): # don't step away if only one vertex in S_t\n",
    "        #     step_type = 'FW'\n",
    "        #     d_t = d_t_FW\n",
    "        #     max_step = 1\n",
    "        # else:\n",
    "        #     step_type = 'AS'\n",
    "        #     d_t = d_t_AWAY\n",
    "        #     alpha_v_t = self.A_t[v_t_idx]\n",
    "        #     max_step = 1 if alpha_v_t == 1 else alpha_v_t / (1 - alpha_v_t)  # avoid divide by zero when alpha = 1\n",
    "        # info['step_type'] = step_type\n",
    "        # debug_info['max_step'] = max_step\n",
    "        # DEFINE PAIRWISE DIRECTION\n",
    "        d_t = s_t - v_t\n",
    "        alpha_v_t = self.A_t[v_t_idx]\n",
    "        max_step = alpha_v_t\n",
    "        info['max_stepsize'] = max_step\n",
    "        # determine stepsize according to rule\n",
    "        fw_stepsize = self.stepsize_method.get_stepsize(x_t, d_t, max_step)\n",
    "        info['stepsize'] = fw_stepsize\n",
    "\n",
    "        self.S_t, self.A_t, update_info = self.update_active_pair_test(fw_stepsize, s_t, v_t_idx,\n",
    "                                                debug=debug)\n",
    "\n",
    "        ## UPDATE x_t\n",
    "        perturbed_image_step = x_t + fw_stepsize * d_t\n",
    "        perturbed_image_alpha = sum([alpha * v for alpha, v in zip(self.A_t, self.S_t)])\n",
    "        if use_conv_comb_x_t: # use x_t = A_t.T * S_t or x_t + gamma * d_t ?\n",
    "            perturbed_image = perturbed_image_alpha\n",
    "        else:\n",
    "            perturbed_image = perturbed_image_step\n",
    "        perturbed_image = torch.clamp(perturbed_image, 0, 1)\n",
    "\n",
    "        # LOGGING and DEBUG info\n",
    "        info['alphas'] = self.A_t\n",
    "        debug_info['L_inf_step'] = torch.max(torch.abs(perturbed_image_step - self.x0_denorm)).item()\n",
    "        debug_info['L_inf_alpha'] = torch.max(torch.abs(perturbed_image_alpha - self.x0_denorm)).item()\n",
    "        alpha_np = ((perturbed_image_alpha).squeeze(0).permute(1, 2, 0).numpy()).clip(0,1)\n",
    "        step_np = ((perturbed_image_step).squeeze(0).permute(1, 2, 0).numpy()).clip(0,1)\n",
    "        debug_info['step_alpha_diffFactor'] = (alpha_np - step_np).sum() / self.epsilon\n",
    "        info.update(update_info)\n",
    "        if debug:\n",
    "            info.update(debug_info)\n",
    "        self.last_d = d_t\n",
    "        return perturbed_image, gap_FW, info"
   ],
   "id": "93347c1263ff0d97",
   "outputs": [],
   "execution_count": 5
  },
  {
   "metadata": {},
   "cell_type": "markdown",
   "source": "# Other Utils",
   "id": "d44454eb2ccf695c"
  },
  {
   "metadata": {
    "ExecuteTime": {
     "end_time": "2024-07-05T18:11:40.706892Z",
     "start_time": "2024-07-05T18:11:40.683051Z"
    }
   },
   "cell_type": "code",
   "source": [
    "class LMO:\n",
    "    def __init__(self, epsilon, x0, p):\n",
    "        self.x0 = x0.clone().detach()  # Ensure x0 is not modified elsewhere\n",
    "        self.epsilon = epsilon\n",
    "        self.p = p\n",
    "        # Select the appropriate LMO method based on the norm p\n",
    "        if p == -1:\n",
    "            self.method = self._LMO_inf\n",
    "        elif p == 1:\n",
    "            self.method = self._LMO_l1\n",
    "        elif p == 2:\n",
    "            self.method = self._LMO_l2\n",
    "        else:\n",
    "            raise Exception(f\"invalid choice of norm {p}\")\n",
    "\n",
    "    def get(self, g_t):\n",
    "        return self.method(g_t)\n",
    "\n",
    "    def _LMO_inf(self, g_t):\n",
    "        g_t_sign = g_t.sign()  # Get the sign of the gradient\n",
    "        s_t = -self.epsilon * g_t_sign + self.x0  # Update step for l_inf norm\n",
    "        return s_t\n",
    "\n",
    "    def _LMO_l1(self, gradient):\n",
    "        abs_gradient = gradient.abs()  # Get the absolute value of the gradient\n",
    "        sign_gradient = gradient.sign()  # Get the sign of the gradient\n",
    "        perturbation = torch.zeros_like(gradient)\n",
    "        # For each example in the batch, select the component with the maximum absolute gradient\n",
    "        for i in range(gradient.size(0)):\n",
    "            _, idx = torch.topk(abs_gradient[i].view(-1), 1)\n",
    "            perturbation[i].view(-1)[idx] = sign_gradient[i].view(-1)[idx]\n",
    "        return self.epsilon * perturbation\n",
    "\n",
    "    def _LMO_l2(self, g_t): # from arxiv version of attacks.pdf\n",
    "        g_t_norm = torch.norm(g_t, p=2, dim=-1, keepdim=True)\n",
    "        s_t = -self.epsilon * g_t / g_t_norm + self.x0\n",
    "        return s_t\n",
    "\n",
    "class AdversarialLoss(nn.Module):\n",
    "    def __init__(self, num_classes, specific_label=None):\n",
    "        \"\"\"\n",
    "        Initialize the AdversarialLoss.\n",
    "        \n",
    "        Args:\n",
    "        - num_classes (int): Total number of classes in the classification problem.\n",
    "        - specific_label (int, optional): A specific incorrect label to target. If None, the loss will consider all incorrect labels.\n",
    "        \"\"\"\n",
    "        super(AdversarialLoss, self).__init__()\n",
    "        self.num_classes = num_classes\n",
    "        self.specific_label = specific_label\n",
    "\n",
    "    def forward(self, outputs, targets):\n",
    "        \"\"\"\n",
    "        Compute the adversarial loss.\n",
    "        \n",
    "        Args:\n",
    "        - outputs (torch.Tensor): The model outputs (logits) of shape (batch_size, num_classes).\n",
    "        - targets (torch.Tensor): The true labels of shape (batch_size,).\n",
    "        \n",
    "        Returns:\n",
    "        - loss (torch.Tensor): The computed adversarial loss.\n",
    "        \"\"\"\n",
    "        batch_size = outputs.size(0)\n",
    "        if self.specific_label is not None:\n",
    "            # Targeting a specific incorrect label\n",
    "            incorrect_labels = torch.full_like(targets, self.specific_label)\n",
    "            mask = (incorrect_labels != targets).float()\n",
    "            specific_log_probs = F.log_softmax(outputs, dim=1).gather(1, incorrect_labels.unsqueeze(1)).squeeze(1)\n",
    "            loss = -specific_log_probs * mask\n",
    "            return loss.mean()\n",
    "\n",
    "        # if self.specific_label is not None:\n",
    "        #     # Targeting a specific incorrect label\n",
    "        #     specific_labels = torch.full_like(targets, self.specific_label)\n",
    "            \n",
    "        #     # Compute log probabilities\n",
    "        #     log_probs = F.log_softmax(outputs, dim=1)\n",
    "            \n",
    "        #     # Get the log probabilities of the specific label\n",
    "        #     specific_log_probs = log_probs.gather(1, specific_labels.unsqueeze(1)).squeeze(1)\n",
    "            \n",
    "        #     # Compute the negative log likelihood\n",
    "        #     loss = -specific_log_probs\n",
    "        #     return loss.mean()\n",
    "        else:\n",
    "            # Averaging over all incorrect labels\n",
    "            log_probs = F.log_softmax(outputs, dim=1)\n",
    "            incorrect_log_probs = log_probs.clone()\n",
    "            correct_log_probs = log_probs.gather(1, targets.unsqueeze(1)).squeeze(1)\n",
    "            for i in range(batch_size):\n",
    "                incorrect_log_probs[i, targets[i]] = float('-inf')\n",
    "            average_incorrect_log_probs = incorrect_log_probs.logsumexp(dim=1) - torch.log(torch.tensor(self.num_classes - 1, dtype=torch.float))\n",
    "            loss = -average_incorrect_log_probs\n",
    "            return loss.mean()\n",
    "        \n",
    "    def forward1(self, outputs, targets):\n",
    "        \"\"\"\n",
    "        Compute the adversarial loss.\n",
    "        \n",
    "        Args:\n",
    "        - outputs (torch.Tensor): The model outputs (logits) of shape (batch_size, num_classes).\n",
    "        - targets (torch.Tensor): The true labels of shape (batch_size,).\n",
    "        \n",
    "        Returns:\n",
    "        - loss (torch.Tensor): The computed adversarial loss.\n",
    "        \"\"\"\n",
    "        batch_size = outputs.size(0)\n",
    "        if self.specific_label is not None:\n",
    "            adv_target = torch.full((outputs.size(0),), self.specific_label, dtype=torch.long)\n",
    "            if isinstance(targets, int):\n",
    "                targets = torch.full((outputs.size(0),), targets, dtype=torch.long)\n",
    "            \n",
    "            return F.cross_entropy(outputs, adv_target)\n",
    "        else:\n",
    "            if isinstance(targets, int):\n",
    "                targets = torch.full((outputs.size(0),), targets, dtype=torch.long)\n",
    "            return -F.nll_loss(outputs, targets)\n",
    "\n",
    "class stepsize():\n",
    "    def __init__(self, model, strat, x0, fixed_size = 1, ls_criterion=None, ls_target = None, ls_num_samples=50, renorm = None):\n",
    "        if isinstance(strat, (float, int)):\n",
    "            fixed_size = strat\n",
    "            strat = 'fixed'\n",
    "        self.model = model\n",
    "        self.strat = strat\n",
    "        self.fixed_size = fixed_size\n",
    "        # used for amjo\n",
    "        self.x0 = x0\n",
    "        self.x_t_grad = None\n",
    "        self.loss0 = None\n",
    "\n",
    "        # used for ls\n",
    "        self.ls_criterion = ls_criterion\n",
    "        self.ls_target = ls_target\n",
    "        self.ls_num_samples = ls_num_samples\n",
    "        self.renorm = renorm\n",
    "        \n",
    "        self.L_MNIST = L_MNIST\n",
    "        self.L_FMNIST = L_FMNIST\n",
    "        self.L_CIFAR = L_CIFAR\n",
    "\n",
    "        if self.strat == 'lipschitz_mnist':\n",
    "            self.stepsize = 1 / self.L_MNIST\n",
    "        elif self.strat == 'lipschitz_fmnist':\n",
    "            self.stepsize = 1 / self.L_FMNIST\n",
    "        elif self.strat == 'lipschitz_cifar':\n",
    "            self.stepsize = 1 / self.L_CIFAR\n",
    "\n",
    "        self.stepsize = fixed_size # will be updated if using other method\n",
    "        if self.strat not in ['fixed', 'ls', 'decay', 'amjo', 'lipschitz_mnist', 'lipschitz_fmnist', 'lipschitz_cifar']:\n",
    "            raise Exception(\"Accepted stepsize rules are ['fixed', 'ls', 'decay', 'amjo', 'lipschitz_mnist', 'lipschitz_fmnist', 'lipschitz_cifar']\")\n",
    "    \n",
    "    def set_stepsize_decay(self, t):\n",
    "        self.stepsize = 2 / (t + 2)\n",
    "        return\n",
    "\n",
    "    def stepsize_linesearch(self, x_t, d_t, max_step = 1):\n",
    "        x_tc = x_t.clone().detach()\n",
    "        d_tc = d_t.clone().detach()\n",
    "        losses = []\n",
    "        with torch.no_grad():\n",
    "            steps = [max_step * (i + 1) / self.ls_num_samples for i in range(self.ls_num_samples)]\n",
    "            self._sizes_ls = steps\n",
    "            for step in steps:\n",
    "                new_x = self.renorm(x_tc + step * d_tc)\n",
    "                output = self.model(new_x)\n",
    "                loss = self.ls_criterion(output, self.ls_target).item()\n",
    "                losses.append(loss)\n",
    "        best_idx = np.argmin(losses)\n",
    "        self.stepsize = steps[best_idx]\n",
    "        \n",
    "        self._loss_ls = losses\n",
    "        return self.stepsize\n",
    "\n",
    "    def stepsize_armijo(self, x_t, d_t, max_step = 1):\n",
    "        info_step = {}\n",
    "        x_tc = x_t.clone().detach()\n",
    "        d_tc = d_t.clone().detach()\n",
    "        step_size = max_step\n",
    "        best_stepsize = max_step\n",
    "        gamma = 0.5\n",
    "        delta = 0.5\n",
    "        initial_loss = self.ls_criterion(self.model(self.renorm(x_tc)), self.ls_target)#F.cross_entropy(self.model(x_k), target).item()\n",
    "        min_loss = float('inf')\n",
    "        \n",
    "        while step_size > 1e-4:\n",
    "            new_point = self.renorm(x_tc + step_size * d_tc)\n",
    "            new_loss = self.ls_criterion(self.model(new_point), self.ls_target)#F.cross_entropy(self.model(new_point), target).item()\n",
    "            RHS = initial_loss + gamma * step_size * torch.sum(self.x_t_grad * d_tc).item()\n",
    "            if new_loss < min_loss:\n",
    "                min_loss = new_loss\n",
    "                best_stepsize = step_size\n",
    "            if new_loss <= RHS:\n",
    "                return step_size\n",
    "            \n",
    "            step_size *= delta\n",
    "        \n",
    "        return best_stepsize\n",
    "\n",
    "\n",
    "    def get_stepsize(self, x_t, d_t, max_step = 1):\n",
    "        if self.strat == 'ls':\n",
    "            #fw_stepsize = self.exact_ls(x_t, d_t, max_step)\n",
    "            fw_stepsize = self.stepsize_linesearch(x_t, d_t, max_step)\n",
    "        elif self.strat == 'amjo':\n",
    "            fw_stepsize = self.stepsize_armijo(x_t, d_t, max_step)\n",
    "        else:\n",
    "            fw_stepsize = self.stepsize\n",
    "        fw_stepsize = min(fw_stepsize, max_step)\n",
    "        return fw_stepsize\n",
    "\n",
    "def early_stopper(criterion, t, success, first_success, info, gap_FW_tol, max_fw_iter, gap_FW):\n",
    "    new_correct = 0\n",
    "    if (criterion == 'pred') and first_success:\n",
    "        # The attack was successful so the classification was not correct\n",
    "        stop = True\n",
    "        stop_reason = 'pred'\n",
    "    elif (criterion == 'gap_FW') and (gap_FW < gap_FW_tol):\n",
    "        if not success: # attack failed\n",
    "            new_correct +=1\n",
    "        stop = True\n",
    "        stop_reason = 'gap'\n",
    "    elif (t == max_fw_iter - 1): # Stop condition: Hit max FW iters\n",
    "        stop = True\n",
    "        stop_reason = 'max_iter'\n",
    "        if not success: # attack failed\n",
    "            new_correct +=1\n",
    "    elif (criterion == 'gap_pairwise') and (info is not None) and (info['gap_pairwise'] < gap_FW_tol):\n",
    "        if not success: # attack failed\n",
    "            new_correct +=1\n",
    "        stop = True\n",
    "        stop_reason = 'gap_pairwise'\n",
    "    else:\n",
    "        # no stop criteria met, continue\n",
    "        stop = False\n",
    "        stop_reason = None\n",
    "    return stop, stop_reason, new_correct\n",
    "\n",
    "class example_saver():\n",
    "    def __init__(self, num_adv_ex = 10, num_failed_ex = 10) -> None:\n",
    "        self.num_adv_ex = num_adv_ex\n",
    "        self.num_failed_ex = num_failed_ex\n",
    "        self.adv_true = []\n",
    "        self.adv_pred = []\n",
    "        self.adv_x0 = []\n",
    "        self.adv_atk = []\n",
    "        self.adv_xt = []\n",
    "        self.adv_true_init_prob = []\n",
    "        self.adv_final_prob = []\n",
    "        self.adv_ex = []\n",
    "        self.failed_ex = []\n",
    "        self.info = []\n",
    "        pass\n",
    "\n",
    "    def save_ex(self, perturbed_image, x0, true, final_pred, success, true_class_prob0, pred_class_prob):\n",
    "        self.info.append(true)\n",
    "        \n",
    "        if (len(self.adv_ex) >= self.num_adv_ex) and (len(self.failed_ex) >= self.num_failed_ex):\n",
    "            return\n",
    "\n",
    "        atk = perturbed_image - x0\n",
    "        atk = atk.detach().squeeze().cpu().numpy()\n",
    "        x0 = x0.detach().squeeze().cpu().numpy()\n",
    "        ex = perturbed_image.squeeze().detach().cpu().numpy()\n",
    "        if len(atk.shape) > 2:\n",
    "            atk = np.transpose(atk, (1, 2, 0))\n",
    "            x0 = np.transpose(x0, (1, 2, 0))\n",
    "            ex = np.transpose(ex, (1, 2, 0))\n",
    "\n",
    "\n",
    "        # Save some adv examples for visualization later\n",
    "        if success and (len(self.adv_ex) < self.num_adv_ex):\n",
    "            self.adv_ex.append( (true.item(), final_pred.item(), ex) )\n",
    "            self.adv_true.append(true.item())\n",
    "            self.adv_pred.append(final_pred.item())\n",
    "            self.adv_x0.append(x0)\n",
    "            self.adv_atk.append(atk)\n",
    "            self.adv_true_init_prob.append(true_class_prob0)\n",
    "            self.adv_final_prob.append(pred_class_prob)\n",
    "            self.adv_xt.append(ex)\n",
    "        if (not success) and (len(self.failed_ex) < self.num_failed_ex):\n",
    "            self.failed_ex.append( (true.item(), final_pred.item(), ex) )\n",
    "\n",
    "def test(target_model, device, epsilon, num_fw_iter, num_test=1000, method='fw', early_stopping=None, fw_stepsize_rule=1, gap_FW_tol=0.05, targeted=False, ex_saver=None, norm_p=-1, seed=42):\n",
    "    start = time.process_time()\n",
    "    target_model.query_count = 0\n",
    "    testloader = target_model.remake_testloader(seed)\n",
    "    model = target_model.model\n",
    "\n",
    "    # Accuracy counter\n",
    "    correct = 0\n",
    "    adv_examples = []\n",
    "    hist = []\n",
    "    ex_num = 0\n",
    "    # Loop over all examples in test set\n",
    "    for x0, target in tqdm(testloader):\n",
    "        x_t = x0.detach().clone().to(device)  # Clone and move to device\n",
    "        # Send the data and label to the device\n",
    "        x0, target = x0.to(device), target.to(device)\n",
    "        x0_denorm = target_model.denorm(x0)\n",
    "        if targeted:\n",
    "            # select a random target for attack that is not the true target.\n",
    "            adv_target = random.randint(0, target_model.num_classes - 2)\n",
    "            adv_target = adv_target if adv_target < target else adv_target + 1\n",
    "            criterion = AdversarialLoss(target_model.num_classes, specific_label=adv_target)\n",
    "        else:\n",
    "            criterion = AdversarialLoss(target_model.num_classes)\n",
    "        lmo = LMO(epsilon, x0_denorm, norm_p)\n",
    "        stepsize_method = stepsize(model, fw_stepsize_rule, x0_denorm, ls_criterion=criterion, ls_target=target, renorm=target_model.renorm)\n",
    "        attackStep = AttackStep(method, epsilon, x0_denorm, lmo, stepsize_method)\n",
    "        #x_t.requires_grad = True  #Set requires_grad attribute of tensor. Important for Attack\n",
    "        had_first_success = False\n",
    "        gap_FW = None\n",
    "        gap_AS = None\n",
    "        info = None\n",
    "        true_class_prob0 = 0\n",
    "\n",
    "        for t in range(num_fw_iter):\n",
    "            iter_start_time = time.process_time()\n",
    "            # Step size calculation\n",
    "            if stepsize_method.strat == 'decay':\n",
    "                stepsize_method.set_stepsize_decay(t)\n",
    "            x_t.requires_grad = True\n",
    "            # Forward pass the data through the model\n",
    "            output = model(x_t)\n",
    "            target_model.query_count += 1\n",
    "            class_probs = torch.softmax(output, dim=1)\n",
    "            # Calculate the loss\n",
    "            loss = criterion(output, target)\n",
    "\n",
    "            if t == 0:\n",
    "                # save init confidence in true class\n",
    "                true_class_prob0 = class_probs[0, target.item()].item()\n",
    "                stepsize_method.loss0 = loss.item()\n",
    "            init_pred = output.max(1, keepdim=True)[1]  # get the index of the max log-probability\n",
    "\n",
    "            # If the initial prediction is wrong, don't bother attacking, just move on\n",
    "            if (init_pred.item() != target.item()) and (t == 0):\n",
    "                ex_num -= 1  # don't count this example\n",
    "                break\n",
    "\n",
    "            # Zero all existing gradients\n",
    "            model.zero_grad()\n",
    "            # Calculate gradients of model in backward pass\n",
    "            loss.backward()\n",
    "            x_t_grad = x_t.grad  # .data\n",
    "            # Restore the data to its original scale\n",
    "            x_t_denorm = target_model.denorm(x_t)\n",
    "\n",
    "            # save information needed for linesearching stepsize rules\n",
    "            stepsize_method.x_t_grad = x_t_grad.clone().detach()\n",
    "\n",
    "            # Call Attack\n",
    "            with torch.no_grad():\n",
    "                perturbed_image, gap_FW, info = attackStep.step(x_t_denorm, x_t_grad)\n",
    "                gap_AS = info.get('gap_AS', None)\n",
    "\n",
    "            # Reapply normalization\n",
    "            x_t = target_model.renorm(perturbed_image)  # transforms.Normalize((0.1307,), (0.3081,))(perturbed_image).detach()\n",
    "            # Re-classify the perturbed image\n",
    "            x_t.requires_grad = False\n",
    "            output = model(x_t)\n",
    "            info['l_inf'] = torch.max(torch.abs(x0_denorm - perturbed_image)).item()\n",
    "            info['mdlLoss'] = loss.item()\n",
    "\n",
    "            # Check for success\n",
    "            final_pred = output.max(1, keepdim=True)[1]  # get the index of the max log-probability\n",
    "            if final_pred.item() == target.item():\n",
    "                success = False\n",
    "                first_success = False\n",
    "            else:\n",
    "                first_success = not had_first_success\n",
    "                had_first_success = True\n",
    "                success = True\n",
    "            stop, stop_reason, new_correct = early_stopper(early_stopping, t, success, first_success, info, gap_FW_tol, num_fw_iter, gap_FW)\n",
    "            correct += new_correct\n",
    "\n",
    "            # metric logging\n",
    "            iter_end_time = time.process_time()\n",
    "            iter_cpu_time = iter_end_time - iter_start_time\n",
    "            hist_iter = {\n",
    "                'example_idx': ex_num,\n",
    "                'FW_iter': t + 1,  # original example is 0\n",
    "                'gap_FW': gap_FW if gap_FW is not None else None,\n",
    "                'gap_AS': gap_AS if gap_AS is not None else None,\n",
    "                'success': success,\n",
    "                'first_success': first_success,\n",
    "                'target': target.item(),\n",
    "                'pred': final_pred.item(),\n",
    "                'stop_cond': stop_reason,\n",
    "                'cpu_time': iter_cpu_time,\n",
    "                'queries': target_model.query_count\n",
    "            }\n",
    "            if targeted:\n",
    "                hist_iter['adv_target'] = adv_target\n",
    "                targeted_success = (final_pred.item() == adv_target)\n",
    "                info['targeted_success'] = targeted_success\n",
    "            else:\n",
    "                targeted_success = False\n",
    "\n",
    "            if info is not None:\n",
    "                hist_iter.update(info)  # some methods output dict containing info at each step\n",
    "            hist.append(hist_iter)\n",
    "            if stop:\n",
    "                class_probs = torch.softmax(output, dim=1)\n",
    "                pred_class_prob = class_probs[0, final_pred.item()].item()\n",
    "                if ex_saver is not None:\n",
    "                    save_as_adv = targeted_success if targeted else success\n",
    "                    ex_saver.save_ex(perturbed_image, x0_denorm, target, final_pred, save_as_adv, true_class_prob0, pred_class_prob)\n",
    "                break\n",
    "        ex_num += 1\n",
    "        if ex_num >= num_test:  # limit test set for speed\n",
    "            break\n",
    "\n",
    "    # Calculate final accuracy for this epsilon\n",
    "    final_acc = correct / num_test\n",
    "    end = time.process_time()\n",
    "    print(f\"Attack Method: {method}\\tNorm: {norm_p}\\tTargeted: {targeted}\\tStep Rule: {fw_stepsize_rule}\")\n",
    "    print(f\"Epsilon: {epsilon}\\tCorrect Classifications (Failed Attacks) = {correct} / {num_test} = {final_acc}\" + f\"\\tTime: {end - start:.2f}s\")\n",
    "    print(f\"Total queries made: {target_model.query_count}\")\n",
    "\n",
    "    # Return the accuracy and an adversarial example\n",
    "    return final_acc, adv_examples, pd.DataFrame(hist)\n",
    "\n",
    "\n",
    "def display_examples(ex_saver, epsilon, classes, show_atk_mag = False, n_col = 3, offset = 2):\n",
    "    # classes either int corresponding to number of classes, or list with class names\n",
    "    if isinstance(classes, int):\n",
    "        classes = list(range(classes))\n",
    "    dim = len(ex_saver.adv_x0[0].shape)\n",
    "    \n",
    "    \n",
    "    n_col = min(n_col, len(ex_saver.adv_pred))\n",
    "    cmap = None if dim > 2 else 'gray'\n",
    "\n",
    "    fig, axs = plt.subplots(3,n_col)\n",
    "    for i in range(n_col):\n",
    "        ex_idx = i + offset\n",
    "        true = ex_saver.adv_true[ex_idx]\n",
    "        pred = ex_saver.adv_pred[ex_idx]\n",
    "        x0 = ex_saver.adv_x0[ex_idx]\n",
    "        atk = (ex_saver.adv_atk[ex_idx]+epsilon)/(2*epsilon)\n",
    "        if show_atk_mag:\n",
    "            atk = np.abs(atk-0.5)\n",
    "            atk *= 1/np.max(atk)\n",
    "        atk = np.clip(atk,0,1)\n",
    "        xt = ex_saver.adv_xt[ex_idx]\n",
    "        prob_true = ex_saver.adv_true_init_prob[ex_idx]\n",
    "        prob_adv = ex_saver.adv_final_prob[ex_idx]\n",
    "        axs[0, i].imshow(x0, cmap = cmap)\n",
    "        axs[0, i].axis('off')\n",
    "        axs[0, i].set_title(f\"Orginal: {classes[true]}\\np = {prob_true:.2f}\", fontsize=10)\n",
    "        axs[1, i].imshow(atk, cmap = cmap)\n",
    "        axs[1, i].axis('off')\n",
    "        axs[1, i].set_title(f\"Scaled offset:\\nϵ = {epsilon}\", fontsize=10)\n",
    "        axs[2, i].imshow(xt, cmap = cmap)\n",
    "        axs[2, i].axis('off')\n",
    "        axs[2, i].set_title(f\"Adv Pred: {classes[pred]}\\np = {prob_adv:.2f}\", fontsize=10)\n",
    "    plt.tight_layout(pad=1.0, w_pad=-15, h_pad=1.0)\n",
    "    plt.show()"
   ],
   "id": "cf6ce18a825adcdf",
   "outputs": [],
   "execution_count": 6
  },
  {
   "metadata": {},
   "cell_type": "markdown",
   "source": "",
   "id": "8a5c22a5f2b6ab97"
  },
  {
   "metadata": {},
   "cell_type": "markdown",
   "source": "# Attacks",
   "id": "b70ec4a2b32fd927"
  },
  {
   "metadata": {
    "ExecuteTime": {
     "end_time": "2024-07-05T18:11:40.716996Z",
     "start_time": "2024-07-05T18:11:40.706892Z"
    }
   },
   "cell_type": "code",
   "source": [
    "epsilons = [0.005, 0.01, 0.05, 0.3]\n",
    "attack_types = ['fw', 'fw_away', 'fw_pair']\n",
    "norm_types = [-1, 1, 2]\n",
    "targeted_options = [True, False]"
   ],
   "id": "f041d50103730267",
   "outputs": [],
   "execution_count": 7
  },
  {
   "metadata": {
    "ExecuteTime": {
     "end_time": "2024-07-05T18:11:40.727541Z",
     "start_time": "2024-07-05T18:11:40.716996Z"
    }
   },
   "cell_type": "code",
   "source": [
    "def run_experiment(epsilon, attack_type, norm_type, targeted, step_rule):\n",
    "    ex_saver = example_saver()\n",
    "    acc, ex, hist = test(target_mdl, device,\n",
    "                         epsilon=epsilon,\n",
    "                         num_fw_iter=20,\n",
    "                         method=attack_type,\n",
    "                         early_stopping='gap_FW' if attack_type != 'fw_away' else 'gap_AS',\n",
    "                         fw_stepsize_rule=step_rule,\n",
    "                         gap_FW_tol=0.1,\n",
    "                         targeted=targeted,\n",
    "                         num_test=100,\n",
    "                         ex_saver=ex_saver,\n",
    "                         norm_p=norm_type,\n",
    "                         seed=11)\n",
    "    \n",
    "    total_queries = target_mdl.query_count\n",
    "    \n",
    "    result = {\n",
    "        'epsilon': epsilon,\n",
    "        'attack_type': attack_type,\n",
    "        'norm_type': norm_type,\n",
    "        'targeted': targeted,\n",
    "        'step_rule': step_rule,\n",
    "        'accuracy': acc,\n",
    "        'total_queries': total_queries\n",
    "    }\n",
    "    \n",
    "    return result"
   ],
   "id": "2e194f32e4f928be",
   "outputs": [],
   "execution_count": 8
  },
  {
   "metadata": {},
   "cell_type": "markdown",
   "source": "",
   "id": "3c9c9664cbcb7f0a"
  },
  {
   "metadata": {
    "ExecuteTime": {
     "end_time": "2024-07-05T18:11:40.749545Z",
     "start_time": "2024-07-05T18:11:40.727541Z"
    }
   },
   "cell_type": "code",
   "source": [
    "from models.LeNet import *\n",
    "target_mdl = LeNet(\"models/lenet_mnist_model.pth\")\n",
    "model = target_mdl.model\n",
    "device = target_mdl.device\n",
    "test_loader = target_mdl.testloader\n",
    "mdl_name='MNIST'"
   ],
   "id": "dd25245c292e38ac",
   "outputs": [],
   "execution_count": 9
  },
  {
   "metadata": {
    "ExecuteTime": {
     "end_time": "2024-07-05T19:19:00.878437Z",
     "start_time": "2024-07-05T18:11:40.749545Z"
    }
   },
   "cell_type": "code",
   "source": [
    "step_rules = ['lipschitz_mnist','decay', 'amjo', 'ls']\n",
    "columns = ['epsilon', 'attack_type', 'norm_type', 'targeted', 'step_rule', 'accuracy', 'total_queries']\n",
    "results_df = pd.DataFrame(columns=columns)\n",
    "\n",
    "\n",
    "results_list = []\n",
    "\n",
    "for epsilon, attack_type, norm_type, targeted, step_rule in itertools.product(epsilons, attack_types, norm_types, targeted_options, step_rules):\n",
    "    result = run_experiment(epsilon, attack_type, norm_type, targeted, step_rule)\n",
    "    results_list.append(result)\n",
    "    "
   ],
   "id": "41f1f36d64665980",
   "outputs": [
    {
     "name": "stderr",
     "output_type": "stream",
     "text": [
      "  1%|          | 101/10000 [00:04<07:30, 21.95it/s]\n"
     ]
    },
    {
     "name": "stdout",
     "output_type": "stream",
     "text": [
      "Attack Method: fw\tNorm: -1\tTargeted: True\tStep Rule: lipschitz_mnist\n",
      "Epsilon: 0.005\tCorrect Classifications (Failed Attacks) = 100 / 100 = 1.0\tTime: 22.30s\n",
      "Total queries made: 1948\n"
     ]
    },
    {
     "name": "stderr",
     "output_type": "stream",
     "text": [
      "  1%|          | 101/10000 [00:04<07:22, 22.36it/s]\n"
     ]
    },
    {
     "name": "stdout",
     "output_type": "stream",
     "text": [
      "Attack Method: fw\tNorm: -1\tTargeted: True\tStep Rule: decay\n",
      "Epsilon: 0.005\tCorrect Classifications (Failed Attacks) = 100 / 100 = 1.0\tTime: 22.20s\n",
      "Total queries made: 1948\n"
     ]
    },
    {
     "name": "stderr",
     "output_type": "stream",
     "text": [
      "  1%|          | 101/10000 [00:06<11:13, 14.71it/s]\n"
     ]
    },
    {
     "name": "stdout",
     "output_type": "stream",
     "text": [
      "Attack Method: fw\tNorm: -1\tTargeted: True\tStep Rule: amjo\n",
      "Epsilon: 0.005\tCorrect Classifications (Failed Attacks) = 100 / 100 = 1.0\tTime: 32.36s\n",
      "Total queries made: 1948\n"
     ]
    },
    {
     "name": "stderr",
     "output_type": "stream",
     "text": [
      "  1%|          | 101/10000 [01:05<1:47:00,  1.54it/s]\n"
     ]
    },
    {
     "name": "stdout",
     "output_type": "stream",
     "text": [
      "Attack Method: fw\tNorm: -1\tTargeted: True\tStep Rule: ls\n",
      "Epsilon: 0.005\tCorrect Classifications (Failed Attacks) = 100 / 100 = 1.0\tTime: 260.91s\n",
      "Total queries made: 1948\n"
     ]
    },
    {
     "name": "stderr",
     "output_type": "stream",
     "text": [
      "  1%|          | 101/10000 [00:04<07:45, 21.27it/s]\n"
     ]
    },
    {
     "name": "stdout",
     "output_type": "stream",
     "text": [
      "Attack Method: fw\tNorm: -1\tTargeted: False\tStep Rule: lipschitz_mnist\n",
      "Epsilon: 0.005\tCorrect Classifications (Failed Attacks) = 100 / 100 = 1.0\tTime: 19.05s\n",
      "Total queries made: 1876\n"
     ]
    },
    {
     "name": "stderr",
     "output_type": "stream",
     "text": [
      "  1%|          | 101/10000 [00:04<07:31, 21.90it/s]\n"
     ]
    },
    {
     "name": "stdout",
     "output_type": "stream",
     "text": [
      "Attack Method: fw\tNorm: -1\tTargeted: False\tStep Rule: decay\n",
      "Epsilon: 0.005\tCorrect Classifications (Failed Attacks) = 100 / 100 = 1.0\tTime: 20.55s\n",
      "Total queries made: 1861\n"
     ]
    },
    {
     "name": "stderr",
     "output_type": "stream",
     "text": [
      "  1%|          | 101/10000 [00:07<11:40, 14.13it/s]\n"
     ]
    },
    {
     "name": "stdout",
     "output_type": "stream",
     "text": [
      "Attack Method: fw\tNorm: -1\tTargeted: False\tStep Rule: amjo\n",
      "Epsilon: 0.005\tCorrect Classifications (Failed Attacks) = 100 / 100 = 1.0\tTime: 33.08s\n",
      "Total queries made: 1876\n"
     ]
    },
    {
     "name": "stderr",
     "output_type": "stream",
     "text": [
      "  1%|          | 101/10000 [01:04<1:46:03,  1.56it/s]\n"
     ]
    },
    {
     "name": "stdout",
     "output_type": "stream",
     "text": [
      "Attack Method: fw\tNorm: -1\tTargeted: False\tStep Rule: ls\n",
      "Epsilon: 0.005\tCorrect Classifications (Failed Attacks) = 100 / 100 = 1.0\tTime: 300.38s\n",
      "Total queries made: 1876\n"
     ]
    },
    {
     "name": "stderr",
     "output_type": "stream",
     "text": [
      "  1%|          | 101/10000 [00:00<00:49, 198.95it/s]\n"
     ]
    },
    {
     "name": "stdout",
     "output_type": "stream",
     "text": [
      "Attack Method: fw\tNorm: 1\tTargeted: True\tStep Rule: lipschitz_mnist\n",
      "Epsilon: 0.005\tCorrect Classifications (Failed Attacks) = 9 / 100 = 0.09\tTime: 2.17s\n",
      "Total queries made: 202\n"
     ]
    },
    {
     "name": "stderr",
     "output_type": "stream",
     "text": [
      "  1%|          | 101/10000 [00:00<00:49, 198.25it/s]\n"
     ]
    },
    {
     "name": "stdout",
     "output_type": "stream",
     "text": [
      "Attack Method: fw\tNorm: 1\tTargeted: True\tStep Rule: decay\n",
      "Epsilon: 0.005\tCorrect Classifications (Failed Attacks) = 9 / 100 = 0.09\tTime: 2.48s\n",
      "Total queries made: 202\n"
     ]
    },
    {
     "name": "stderr",
     "output_type": "stream",
     "text": [
      "  1%|          | 101/10000 [00:01<02:12, 74.51it/s]\n"
     ]
    },
    {
     "name": "stdout",
     "output_type": "stream",
     "text": [
      "Attack Method: fw\tNorm: 1\tTargeted: True\tStep Rule: amjo\n",
      "Epsilon: 0.005\tCorrect Classifications (Failed Attacks) = 9 / 100 = 0.09\tTime: 6.48s\n",
      "Total queries made: 202\n"
     ]
    },
    {
     "name": "stderr",
     "output_type": "stream",
     "text": [
      "  1%|          | 101/10000 [00:06<10:39, 15.48it/s]\n"
     ]
    },
    {
     "name": "stdout",
     "output_type": "stream",
     "text": [
      "Attack Method: fw\tNorm: 1\tTargeted: True\tStep Rule: ls\n",
      "Epsilon: 0.005\tCorrect Classifications (Failed Attacks) = 23 / 100 = 0.23\tTime: 29.91s\n",
      "Total queries made: 205\n"
     ]
    },
    {
     "name": "stderr",
     "output_type": "stream",
     "text": [
      "  1%|          | 101/10000 [00:00<00:52, 187.76it/s]\n"
     ]
    },
    {
     "name": "stdout",
     "output_type": "stream",
     "text": [
      "Attack Method: fw\tNorm: 1\tTargeted: False\tStep Rule: lipschitz_mnist\n",
      "Epsilon: 0.005\tCorrect Classifications (Failed Attacks) = 9 / 100 = 0.09\tTime: 2.42s\n",
      "Total queries made: 202\n"
     ]
    },
    {
     "name": "stderr",
     "output_type": "stream",
     "text": [
      "  1%|          | 101/10000 [00:00<00:53, 183.77it/s]\n"
     ]
    },
    {
     "name": "stdout",
     "output_type": "stream",
     "text": [
      "Attack Method: fw\tNorm: 1\tTargeted: False\tStep Rule: decay\n",
      "Epsilon: 0.005\tCorrect Classifications (Failed Attacks) = 9 / 100 = 0.09\tTime: 2.58s\n",
      "Total queries made: 202\n"
     ]
    },
    {
     "name": "stderr",
     "output_type": "stream",
     "text": [
      "  1%|          | 101/10000 [00:00<01:37, 101.74it/s]\n"
     ]
    },
    {
     "name": "stdout",
     "output_type": "stream",
     "text": [
      "Attack Method: fw\tNorm: 1\tTargeted: False\tStep Rule: amjo\n",
      "Epsilon: 0.005\tCorrect Classifications (Failed Attacks) = 9 / 100 = 0.09\tTime: 4.58s\n",
      "Total queries made: 202\n"
     ]
    },
    {
     "name": "stderr",
     "output_type": "stream",
     "text": [
      "  1%|          | 101/10000 [00:06<11:24, 14.47it/s]\n"
     ]
    },
    {
     "name": "stdout",
     "output_type": "stream",
     "text": [
      "Attack Method: fw\tNorm: 1\tTargeted: False\tStep Rule: ls\n",
      "Epsilon: 0.005\tCorrect Classifications (Failed Attacks) = 9 / 100 = 0.09\tTime: 33.52s\n",
      "Total queries made: 202\n"
     ]
    },
    {
     "name": "stderr",
     "output_type": "stream",
     "text": [
      "  1%|          | 101/10000 [00:00<00:42, 233.67it/s]\n"
     ]
    },
    {
     "name": "stdout",
     "output_type": "stream",
     "text": [
      "Attack Method: fw\tNorm: 2\tTargeted: True\tStep Rule: lipschitz_mnist\n",
      "Epsilon: 0.005\tCorrect Classifications (Failed Attacks) = 100 / 100 = 1.0\tTime: 2.11s\n",
      "Total queries made: 170\n"
     ]
    },
    {
     "name": "stderr",
     "output_type": "stream",
     "text": [
      "  1%|          | 101/10000 [00:00<00:43, 228.69it/s]\n"
     ]
    },
    {
     "name": "stdout",
     "output_type": "stream",
     "text": [
      "Attack Method: fw\tNorm: 2\tTargeted: True\tStep Rule: decay\n",
      "Epsilon: 0.005\tCorrect Classifications (Failed Attacks) = 100 / 100 = 1.0\tTime: 1.91s\n",
      "Total queries made: 170\n"
     ]
    },
    {
     "name": "stderr",
     "output_type": "stream",
     "text": [
      "  1%|          | 101/10000 [00:00<01:04, 154.45it/s]\n"
     ]
    },
    {
     "name": "stdout",
     "output_type": "stream",
     "text": [
      "Attack Method: fw\tNorm: 2\tTargeted: True\tStep Rule: amjo\n",
      "Epsilon: 0.005\tCorrect Classifications (Failed Attacks) = 100 / 100 = 1.0\tTime: 2.83s\n",
      "Total queries made: 170\n"
     ]
    },
    {
     "name": "stderr",
     "output_type": "stream",
     "text": [
      "  1%|          | 101/10000 [00:05<08:55, 18.49it/s]\n"
     ]
    },
    {
     "name": "stdout",
     "output_type": "stream",
     "text": [
      "Attack Method: fw\tNorm: 2\tTargeted: True\tStep Rule: ls\n",
      "Epsilon: 0.005\tCorrect Classifications (Failed Attacks) = 100 / 100 = 1.0\tTime: 23.89s\n",
      "Total queries made: 170\n"
     ]
    },
    {
     "name": "stderr",
     "output_type": "stream",
     "text": [
      "  1%|          | 101/10000 [00:00<00:33, 292.53it/s]\n"
     ]
    },
    {
     "name": "stdout",
     "output_type": "stream",
     "text": [
      "Attack Method: fw\tNorm: 2\tTargeted: False\tStep Rule: lipschitz_mnist\n",
      "Epsilon: 0.005\tCorrect Classifications (Failed Attacks) = 100 / 100 = 1.0\tTime: 1.55s\n",
      "Total queries made: 124\n"
     ]
    },
    {
     "name": "stderr",
     "output_type": "stream",
     "text": [
      "  1%|          | 101/10000 [00:00<00:33, 291.86it/s]\n"
     ]
    },
    {
     "name": "stdout",
     "output_type": "stream",
     "text": [
      "Attack Method: fw\tNorm: 2\tTargeted: False\tStep Rule: decay\n",
      "Epsilon: 0.005\tCorrect Classifications (Failed Attacks) = 100 / 100 = 1.0\tTime: 1.28s\n",
      "Total queries made: 124\n"
     ]
    },
    {
     "name": "stderr",
     "output_type": "stream",
     "text": [
      "  1%|          | 101/10000 [00:00<00:49, 200.01it/s]\n"
     ]
    },
    {
     "name": "stdout",
     "output_type": "stream",
     "text": [
      "Attack Method: fw\tNorm: 2\tTargeted: False\tStep Rule: amjo\n",
      "Epsilon: 0.005\tCorrect Classifications (Failed Attacks) = 100 / 100 = 1.0\tTime: 2.36s\n",
      "Total queries made: 124\n"
     ]
    },
    {
     "name": "stderr",
     "output_type": "stream",
     "text": [
      "  1%|          | 101/10000 [00:04<06:59, 23.57it/s]\n"
     ]
    },
    {
     "name": "stdout",
     "output_type": "stream",
     "text": [
      "Attack Method: fw\tNorm: 2\tTargeted: False\tStep Rule: ls\n",
      "Epsilon: 0.005\tCorrect Classifications (Failed Attacks) = 100 / 100 = 1.0\tTime: 19.75s\n",
      "Total queries made: 124\n"
     ]
    },
    {
     "name": "stderr",
     "output_type": "stream",
     "text": [
      "  1%|          | 101/10000 [00:05<08:21, 19.73it/s]\n"
     ]
    },
    {
     "name": "stdout",
     "output_type": "stream",
     "text": [
      "Attack Method: fw_away\tNorm: -1\tTargeted: True\tStep Rule: lipschitz_mnist\n",
      "Epsilon: 0.005\tCorrect Classifications (Failed Attacks) = 100 / 100 = 1.0\tTime: 22.00s\n",
      "Total queries made: 2002\n"
     ]
    },
    {
     "name": "stderr",
     "output_type": "stream",
     "text": [
      "  1%|          | 101/10000 [00:05<09:45, 16.90it/s]\n"
     ]
    },
    {
     "name": "stdout",
     "output_type": "stream",
     "text": [
      "Attack Method: fw_away\tNorm: -1\tTargeted: True\tStep Rule: decay\n",
      "Epsilon: 0.005\tCorrect Classifications (Failed Attacks) = 100 / 100 = 1.0\tTime: 25.45s\n",
      "Total queries made: 2002\n"
     ]
    },
    {
     "name": "stderr",
     "output_type": "stream",
     "text": [
      "  1%|          | 101/10000 [00:07<12:33, 13.14it/s]\n"
     ]
    },
    {
     "name": "stdout",
     "output_type": "stream",
     "text": [
      "Attack Method: fw_away\tNorm: -1\tTargeted: True\tStep Rule: amjo\n",
      "Epsilon: 0.005\tCorrect Classifications (Failed Attacks) = 100 / 100 = 1.0\tTime: 33.25s\n",
      "Total queries made: 2002\n"
     ]
    },
    {
     "name": "stderr",
     "output_type": "stream",
     "text": [
      "  1%|          | 101/10000 [01:07<1:49:58,  1.50it/s]\n"
     ]
    },
    {
     "name": "stdout",
     "output_type": "stream",
     "text": [
      "Attack Method: fw_away\tNorm: -1\tTargeted: True\tStep Rule: ls\n",
      "Epsilon: 0.005\tCorrect Classifications (Failed Attacks) = 100 / 100 = 1.0\tTime: 257.31s\n",
      "Total queries made: 2002\n"
     ]
    },
    {
     "name": "stderr",
     "output_type": "stream",
     "text": [
      "  1%|          | 101/10000 [00:05<08:43, 18.92it/s]\n"
     ]
    },
    {
     "name": "stdout",
     "output_type": "stream",
     "text": [
      "Attack Method: fw_away\tNorm: -1\tTargeted: False\tStep Rule: lipschitz_mnist\n",
      "Epsilon: 0.005\tCorrect Classifications (Failed Attacks) = 100 / 100 = 1.0\tTime: 23.59s\n",
      "Total queries made: 2002\n"
     ]
    },
    {
     "name": "stderr",
     "output_type": "stream",
     "text": [
      "  1%|          | 101/10000 [00:06<10:23, 15.89it/s]\n"
     ]
    },
    {
     "name": "stdout",
     "output_type": "stream",
     "text": [
      "Attack Method: fw_away\tNorm: -1\tTargeted: False\tStep Rule: decay\n",
      "Epsilon: 0.005\tCorrect Classifications (Failed Attacks) = 100 / 100 = 1.0\tTime: 22.86s\n",
      "Total queries made: 2002\n"
     ]
    },
    {
     "name": "stderr",
     "output_type": "stream",
     "text": [
      "  1%|          | 101/10000 [00:08<13:09, 12.54it/s]\n"
     ]
    },
    {
     "name": "stdout",
     "output_type": "stream",
     "text": [
      "Attack Method: fw_away\tNorm: -1\tTargeted: False\tStep Rule: amjo\n",
      "Epsilon: 0.005\tCorrect Classifications (Failed Attacks) = 100 / 100 = 1.0\tTime: 35.36s\n",
      "Total queries made: 2002\n"
     ]
    },
    {
     "name": "stderr",
     "output_type": "stream",
     "text": [
      "  1%|          | 101/10000 [01:10<1:55:34,  1.43it/s]\n"
     ]
    },
    {
     "name": "stdout",
     "output_type": "stream",
     "text": [
      "Attack Method: fw_away\tNorm: -1\tTargeted: False\tStep Rule: ls\n",
      "Epsilon: 0.005\tCorrect Classifications (Failed Attacks) = 100 / 100 = 1.0\tTime: 295.52s\n",
      "Total queries made: 2002\n"
     ]
    },
    {
     "name": "stderr",
     "output_type": "stream",
     "text": [
      "  1%|          | 101/10000 [00:05<08:14, 20.02it/s]\n"
     ]
    },
    {
     "name": "stdout",
     "output_type": "stream",
     "text": [
      "Attack Method: fw_away\tNorm: 1\tTargeted: True\tStep Rule: lipschitz_mnist\n",
      "Epsilon: 0.005\tCorrect Classifications (Failed Attacks) = 9 / 100 = 0.09\tTime: 23.25s\n",
      "Total queries made: 2002\n"
     ]
    },
    {
     "name": "stderr",
     "output_type": "stream",
     "text": [
      "  1%|          | 101/10000 [00:05<08:29, 19.43it/s]\n"
     ]
    },
    {
     "name": "stdout",
     "output_type": "stream",
     "text": [
      "Attack Method: fw_away\tNorm: 1\tTargeted: True\tStep Rule: decay\n",
      "Epsilon: 0.005\tCorrect Classifications (Failed Attacks) = 9 / 100 = 0.09\tTime: 23.19s\n",
      "Total queries made: 2002\n"
     ]
    },
    {
     "name": "stderr",
     "output_type": "stream",
     "text": [
      "  1%|          | 101/10000 [00:14<23:10,  7.12it/s]\n"
     ]
    },
    {
     "name": "stdout",
     "output_type": "stream",
     "text": [
      "Attack Method: fw_away\tNorm: 1\tTargeted: True\tStep Rule: amjo\n",
      "Epsilon: 0.005\tCorrect Classifications (Failed Attacks) = 9 / 100 = 0.09\tTime: 66.11s\n",
      "Total queries made: 2002\n"
     ]
    },
    {
     "name": "stderr",
     "output_type": "stream",
     "text": [
      "  1%|          | 101/10000 [01:05<1:46:14,  1.55it/s]\n"
     ]
    },
    {
     "name": "stdout",
     "output_type": "stream",
     "text": [
      "Attack Method: fw_away\tNorm: 1\tTargeted: True\tStep Rule: ls\n",
      "Epsilon: 0.005\tCorrect Classifications (Failed Attacks) = 25 / 100 = 0.25\tTime: 283.73s\n",
      "Total queries made: 2002\n"
     ]
    },
    {
     "name": "stderr",
     "output_type": "stream",
     "text": [
      "  1%|          | 101/10000 [00:05<08:41, 19.00it/s]\n"
     ]
    },
    {
     "name": "stdout",
     "output_type": "stream",
     "text": [
      "Attack Method: fw_away\tNorm: 1\tTargeted: False\tStep Rule: lipschitz_mnist\n",
      "Epsilon: 0.005\tCorrect Classifications (Failed Attacks) = 9 / 100 = 0.09\tTime: 23.70s\n",
      "Total queries made: 2002\n"
     ]
    },
    {
     "name": "stderr",
     "output_type": "stream",
     "text": [
      "  1%|          | 101/10000 [00:05<08:44, 18.87it/s]\n"
     ]
    },
    {
     "name": "stdout",
     "output_type": "stream",
     "text": [
      "Attack Method: fw_away\tNorm: 1\tTargeted: False\tStep Rule: decay\n",
      "Epsilon: 0.005\tCorrect Classifications (Failed Attacks) = 9 / 100 = 0.09\tTime: 24.92s\n",
      "Total queries made: 2002\n"
     ]
    },
    {
     "name": "stderr",
     "output_type": "stream",
     "text": [
      "  1%|          | 101/10000 [00:12<21:10,  7.79it/s]\n"
     ]
    },
    {
     "name": "stdout",
     "output_type": "stream",
     "text": [
      "Attack Method: fw_away\tNorm: 1\tTargeted: False\tStep Rule: amjo\n",
      "Epsilon: 0.005\tCorrect Classifications (Failed Attacks) = 9 / 100 = 0.09\tTime: 56.86s\n",
      "Total queries made: 2002\n"
     ]
    },
    {
     "name": "stderr",
     "output_type": "stream",
     "text": [
      "  1%|          | 101/10000 [01:10<1:55:02,  1.43it/s]\n"
     ]
    },
    {
     "name": "stdout",
     "output_type": "stream",
     "text": [
      "Attack Method: fw_away\tNorm: 1\tTargeted: False\tStep Rule: ls\n",
      "Epsilon: 0.005\tCorrect Classifications (Failed Attacks) = 9 / 100 = 0.09\tTime: 313.73s\n",
      "Total queries made: 2002\n"
     ]
    },
    {
     "name": "stderr",
     "output_type": "stream",
     "text": [
      "  1%|          | 101/10000 [00:05<08:26, 19.55it/s]\n"
     ]
    },
    {
     "name": "stdout",
     "output_type": "stream",
     "text": [
      "Attack Method: fw_away\tNorm: 2\tTargeted: True\tStep Rule: lipschitz_mnist\n",
      "Epsilon: 0.005\tCorrect Classifications (Failed Attacks) = 100 / 100 = 1.0\tTime: 21.73s\n",
      "Total queries made: 2002\n"
     ]
    },
    {
     "name": "stderr",
     "output_type": "stream",
     "text": [
      "  1%|          | 101/10000 [00:05<09:46, 16.88it/s]\n"
     ]
    },
    {
     "name": "stdout",
     "output_type": "stream",
     "text": [
      "Attack Method: fw_away\tNorm: 2\tTargeted: True\tStep Rule: decay\n",
      "Epsilon: 0.005\tCorrect Classifications (Failed Attacks) = 100 / 100 = 1.0\tTime: 21.88s\n",
      "Total queries made: 2002\n"
     ]
    },
    {
     "name": "stderr",
     "output_type": "stream",
     "text": [
      "  1%|          | 101/10000 [00:07<12:48, 12.89it/s]\n"
     ]
    },
    {
     "name": "stdout",
     "output_type": "stream",
     "text": [
      "Attack Method: fw_away\tNorm: 2\tTargeted: True\tStep Rule: amjo\n",
      "Epsilon: 0.005\tCorrect Classifications (Failed Attacks) = 100 / 100 = 1.0\tTime: 31.22s\n",
      "Total queries made: 2002\n"
     ]
    },
    {
     "name": "stderr",
     "output_type": "stream",
     "text": [
      "  1%|          | 101/10000 [01:04<1:45:15,  1.57it/s]\n"
     ]
    },
    {
     "name": "stdout",
     "output_type": "stream",
     "text": [
      "Attack Method: fw_away\tNorm: 2\tTargeted: True\tStep Rule: ls\n",
      "Epsilon: 0.005\tCorrect Classifications (Failed Attacks) = 100 / 100 = 1.0\tTime: 208.64s\n",
      "Total queries made: 2002\n"
     ]
    },
    {
     "name": "stderr",
     "output_type": "stream",
     "text": [
      "  1%|          | 101/10000 [00:05<08:31, 19.34it/s]\n"
     ]
    },
    {
     "name": "stdout",
     "output_type": "stream",
     "text": [
      "Attack Method: fw_away\tNorm: 2\tTargeted: False\tStep Rule: lipschitz_mnist\n",
      "Epsilon: 0.005\tCorrect Classifications (Failed Attacks) = 100 / 100 = 1.0\tTime: 17.55s\n",
      "Total queries made: 2002\n"
     ]
    },
    {
     "name": "stderr",
     "output_type": "stream",
     "text": [
      "  1%|          | 101/10000 [00:05<09:26, 17.49it/s]\n"
     ]
    },
    {
     "name": "stdout",
     "output_type": "stream",
     "text": [
      "Attack Method: fw_away\tNorm: 2\tTargeted: False\tStep Rule: decay\n",
      "Epsilon: 0.005\tCorrect Classifications (Failed Attacks) = 100 / 100 = 1.0\tTime: 17.23s\n",
      "Total queries made: 2002\n"
     ]
    },
    {
     "name": "stderr",
     "output_type": "stream",
     "text": [
      "  1%|          | 101/10000 [00:07<12:50, 12.85it/s]\n"
     ]
    },
    {
     "name": "stdout",
     "output_type": "stream",
     "text": [
      "Attack Method: fw_away\tNorm: 2\tTargeted: False\tStep Rule: amjo\n",
      "Epsilon: 0.005\tCorrect Classifications (Failed Attacks) = 100 / 100 = 1.0\tTime: 25.89s\n",
      "Total queries made: 2002\n"
     ]
    },
    {
     "name": "stderr",
     "output_type": "stream",
     "text": [
      "  1%|          | 101/10000 [01:07<1:50:58,  1.49it/s]\n"
     ]
    },
    {
     "name": "stdout",
     "output_type": "stream",
     "text": [
      "Attack Method: fw_away\tNorm: 2\tTargeted: False\tStep Rule: ls\n",
      "Epsilon: 0.005\tCorrect Classifications (Failed Attacks) = 100 / 100 = 1.0\tTime: 293.05s\n",
      "Total queries made: 2002\n"
     ]
    },
    {
     "name": "stderr",
     "output_type": "stream",
     "text": [
      "  1%|          | 101/10000 [00:04<07:38, 21.61it/s]\n"
     ]
    },
    {
     "name": "stdout",
     "output_type": "stream",
     "text": [
      "Attack Method: fw_pair\tNorm: -1\tTargeted: True\tStep Rule: lipschitz_mnist\n",
      "Epsilon: 0.005\tCorrect Classifications (Failed Attacks) = 100 / 100 = 1.0\tTime: 21.50s\n",
      "Total queries made: 1948\n"
     ]
    },
    {
     "name": "stderr",
     "output_type": "stream",
     "text": [
      "  1%|          | 101/10000 [00:04<08:06, 20.34it/s]\n"
     ]
    },
    {
     "name": "stdout",
     "output_type": "stream",
     "text": [
      "Attack Method: fw_pair\tNorm: -1\tTargeted: True\tStep Rule: decay\n",
      "Epsilon: 0.005\tCorrect Classifications (Failed Attacks) = 100 / 100 = 1.0\tTime: 22.61s\n",
      "Total queries made: 1948\n"
     ]
    },
    {
     "name": "stderr",
     "output_type": "stream",
     "text": [
      "  1%|          | 101/10000 [00:09<16:02, 10.28it/s]\n"
     ]
    },
    {
     "name": "stdout",
     "output_type": "stream",
     "text": [
      "Attack Method: fw_pair\tNorm: -1\tTargeted: True\tStep Rule: amjo\n",
      "Epsilon: 0.005\tCorrect Classifications (Failed Attacks) = 100 / 100 = 1.0\tTime: 43.28s\n",
      "Total queries made: 1948\n"
     ]
    },
    {
     "name": "stderr",
     "output_type": "stream",
     "text": [
      "  1%|          | 101/10000 [01:01<1:40:22,  1.64it/s]\n"
     ]
    },
    {
     "name": "stdout",
     "output_type": "stream",
     "text": [
      "Attack Method: fw_pair\tNorm: -1\tTargeted: True\tStep Rule: ls\n",
      "Epsilon: 0.005\tCorrect Classifications (Failed Attacks) = 100 / 100 = 1.0\tTime: 250.23s\n",
      "Total queries made: 1948\n"
     ]
    },
    {
     "name": "stderr",
     "output_type": "stream",
     "text": [
      "  1%|          | 101/10000 [00:04<07:38, 21.57it/s]\n"
     ]
    },
    {
     "name": "stdout",
     "output_type": "stream",
     "text": [
      "Attack Method: fw_pair\tNorm: -1\tTargeted: False\tStep Rule: lipschitz_mnist\n",
      "Epsilon: 0.005\tCorrect Classifications (Failed Attacks) = 100 / 100 = 1.0\tTime: 21.67s\n",
      "Total queries made: 1876\n"
     ]
    },
    {
     "name": "stderr",
     "output_type": "stream",
     "text": [
      "  1%|          | 101/10000 [00:04<07:57, 20.74it/s]\n"
     ]
    },
    {
     "name": "stdout",
     "output_type": "stream",
     "text": [
      "Attack Method: fw_pair\tNorm: -1\tTargeted: False\tStep Rule: decay\n",
      "Epsilon: 0.005\tCorrect Classifications (Failed Attacks) = 100 / 100 = 1.0\tTime: 22.59s\n",
      "Total queries made: 1866\n"
     ]
    },
    {
     "name": "stderr",
     "output_type": "stream",
     "text": [
      "  1%|          | 101/10000 [00:10<16:47,  9.82it/s]\n"
     ]
    },
    {
     "name": "stdout",
     "output_type": "stream",
     "text": [
      "Attack Method: fw_pair\tNorm: -1\tTargeted: False\tStep Rule: amjo\n",
      "Epsilon: 0.005\tCorrect Classifications (Failed Attacks) = 100 / 100 = 1.0\tTime: 33.84s\n",
      "Total queries made: 1860\n"
     ]
    },
    {
     "name": "stderr",
     "output_type": "stream",
     "text": [
      "  1%|          | 101/10000 [01:03<1:43:48,  1.59it/s]\n"
     ]
    },
    {
     "name": "stdout",
     "output_type": "stream",
     "text": [
      "Attack Method: fw_pair\tNorm: -1\tTargeted: False\tStep Rule: ls\n",
      "Epsilon: 0.005\tCorrect Classifications (Failed Attacks) = 100 / 100 = 1.0\tTime: 262.86s\n",
      "Total queries made: 1858\n"
     ]
    },
    {
     "name": "stderr",
     "output_type": "stream",
     "text": [
      "  1%|          | 101/10000 [00:00<00:50, 197.36it/s]\n"
     ]
    },
    {
     "name": "stdout",
     "output_type": "stream",
     "text": [
      "Attack Method: fw_pair\tNorm: 1\tTargeted: True\tStep Rule: lipschitz_mnist\n",
      "Epsilon: 0.005\tCorrect Classifications (Failed Attacks) = 9 / 100 = 0.09\tTime: 2.36s\n",
      "Total queries made: 202\n"
     ]
    },
    {
     "name": "stderr",
     "output_type": "stream",
     "text": [
      "  1%|          | 101/10000 [00:00<00:51, 192.07it/s]\n"
     ]
    },
    {
     "name": "stdout",
     "output_type": "stream",
     "text": [
      "Attack Method: fw_pair\tNorm: 1\tTargeted: True\tStep Rule: decay\n",
      "Epsilon: 0.005\tCorrect Classifications (Failed Attacks) = 9 / 100 = 0.09\tTime: 2.45s\n",
      "Total queries made: 202\n"
     ]
    },
    {
     "name": "stderr",
     "output_type": "stream",
     "text": [
      "  1%|          | 101/10000 [00:01<02:12, 74.49it/s]\n"
     ]
    },
    {
     "name": "stdout",
     "output_type": "stream",
     "text": [
      "Attack Method: fw_pair\tNorm: 1\tTargeted: True\tStep Rule: amjo\n",
      "Epsilon: 0.005\tCorrect Classifications (Failed Attacks) = 9 / 100 = 0.09\tTime: 6.44s\n",
      "Total queries made: 202\n"
     ]
    },
    {
     "name": "stderr",
     "output_type": "stream",
     "text": [
      "  1%|          | 101/10000 [00:06<10:34, 15.60it/s]\n"
     ]
    },
    {
     "name": "stdout",
     "output_type": "stream",
     "text": [
      "Attack Method: fw_pair\tNorm: 1\tTargeted: True\tStep Rule: ls\n",
      "Epsilon: 0.005\tCorrect Classifications (Failed Attacks) = 24 / 100 = 0.24\tTime: 26.52s\n",
      "Total queries made: 205\n"
     ]
    },
    {
     "name": "stderr",
     "output_type": "stream",
     "text": [
      "  1%|          | 101/10000 [00:00<00:54, 181.32it/s]\n"
     ]
    },
    {
     "name": "stdout",
     "output_type": "stream",
     "text": [
      "Attack Method: fw_pair\tNorm: 1\tTargeted: False\tStep Rule: lipschitz_mnist\n",
      "Epsilon: 0.005\tCorrect Classifications (Failed Attacks) = 9 / 100 = 0.09\tTime: 2.31s\n",
      "Total queries made: 202\n"
     ]
    },
    {
     "name": "stderr",
     "output_type": "stream",
     "text": [
      "  1%|          | 101/10000 [00:00<00:52, 188.42it/s]\n"
     ]
    },
    {
     "name": "stdout",
     "output_type": "stream",
     "text": [
      "Attack Method: fw_pair\tNorm: 1\tTargeted: False\tStep Rule: decay\n",
      "Epsilon: 0.005\tCorrect Classifications (Failed Attacks) = 9 / 100 = 0.09\tTime: 2.45s\n",
      "Total queries made: 202\n"
     ]
    },
    {
     "name": "stderr",
     "output_type": "stream",
     "text": [
      "  1%|          | 101/10000 [00:01<01:40, 98.31it/s]\n"
     ]
    },
    {
     "name": "stdout",
     "output_type": "stream",
     "text": [
      "Attack Method: fw_pair\tNorm: 1\tTargeted: False\tStep Rule: amjo\n",
      "Epsilon: 0.005\tCorrect Classifications (Failed Attacks) = 9 / 100 = 0.09\tTime: 4.55s\n",
      "Total queries made: 202\n"
     ]
    },
    {
     "name": "stderr",
     "output_type": "stream",
     "text": [
      "  1%|          | 101/10000 [00:06<10:57, 15.06it/s]\n"
     ]
    },
    {
     "name": "stdout",
     "output_type": "stream",
     "text": [
      "Attack Method: fw_pair\tNorm: 1\tTargeted: False\tStep Rule: ls\n",
      "Epsilon: 0.005\tCorrect Classifications (Failed Attacks) = 9 / 100 = 0.09\tTime: 31.08s\n",
      "Total queries made: 202\n"
     ]
    },
    {
     "name": "stderr",
     "output_type": "stream",
     "text": [
      "  1%|          | 101/10000 [00:00<00:41, 237.63it/s]\n"
     ]
    },
    {
     "name": "stdout",
     "output_type": "stream",
     "text": [
      "Attack Method: fw_pair\tNorm: 2\tTargeted: True\tStep Rule: lipschitz_mnist\n",
      "Epsilon: 0.005\tCorrect Classifications (Failed Attacks) = 100 / 100 = 1.0\tTime: 2.06s\n",
      "Total queries made: 170\n"
     ]
    },
    {
     "name": "stderr",
     "output_type": "stream",
     "text": [
      "  1%|          | 101/10000 [00:00<00:44, 223.91it/s]\n"
     ]
    },
    {
     "name": "stdout",
     "output_type": "stream",
     "text": [
      "Attack Method: fw_pair\tNorm: 2\tTargeted: True\tStep Rule: decay\n",
      "Epsilon: 0.005\tCorrect Classifications (Failed Attacks) = 100 / 100 = 1.0\tTime: 2.00s\n",
      "Total queries made: 170\n"
     ]
    },
    {
     "name": "stderr",
     "output_type": "stream",
     "text": [
      "  1%|          | 101/10000 [00:00<01:02, 157.31it/s]\n"
     ]
    },
    {
     "name": "stdout",
     "output_type": "stream",
     "text": [
      "Attack Method: fw_pair\tNorm: 2\tTargeted: True\tStep Rule: amjo\n",
      "Epsilon: 0.005\tCorrect Classifications (Failed Attacks) = 100 / 100 = 1.0\tTime: 3.19s\n",
      "Total queries made: 170\n"
     ]
    },
    {
     "name": "stderr",
     "output_type": "stream",
     "text": [
      "  1%|          | 101/10000 [00:05<08:28, 19.48it/s]\n"
     ]
    },
    {
     "name": "stdout",
     "output_type": "stream",
     "text": [
      "Attack Method: fw_pair\tNorm: 2\tTargeted: True\tStep Rule: ls\n",
      "Epsilon: 0.005\tCorrect Classifications (Failed Attacks) = 100 / 100 = 1.0\tTime: 23.94s\n",
      "Total queries made: 170\n"
     ]
    },
    {
     "name": "stderr",
     "output_type": "stream",
     "text": [
      "  1%|          | 101/10000 [00:00<00:33, 292.24it/s]\n"
     ]
    },
    {
     "name": "stdout",
     "output_type": "stream",
     "text": [
      "Attack Method: fw_pair\tNorm: 2\tTargeted: False\tStep Rule: lipschitz_mnist\n",
      "Epsilon: 0.005\tCorrect Classifications (Failed Attacks) = 100 / 100 = 1.0\tTime: 1.55s\n",
      "Total queries made: 124\n"
     ]
    },
    {
     "name": "stderr",
     "output_type": "stream",
     "text": [
      "  1%|          | 101/10000 [00:00<00:33, 292.25it/s]\n"
     ]
    },
    {
     "name": "stdout",
     "output_type": "stream",
     "text": [
      "Attack Method: fw_pair\tNorm: 2\tTargeted: False\tStep Rule: decay\n",
      "Epsilon: 0.005\tCorrect Classifications (Failed Attacks) = 100 / 100 = 1.0\tTime: 1.48s\n",
      "Total queries made: 124\n"
     ]
    },
    {
     "name": "stderr",
     "output_type": "stream",
     "text": [
      "  1%|          | 101/10000 [00:00<00:48, 204.60it/s]\n"
     ]
    },
    {
     "name": "stdout",
     "output_type": "stream",
     "text": [
      "Attack Method: fw_pair\tNorm: 2\tTargeted: False\tStep Rule: amjo\n",
      "Epsilon: 0.005\tCorrect Classifications (Failed Attacks) = 100 / 100 = 1.0\tTime: 2.22s\n",
      "Total queries made: 124\n"
     ]
    },
    {
     "name": "stderr",
     "output_type": "stream",
     "text": [
      "  1%|          | 101/10000 [00:04<06:57, 23.72it/s]\n"
     ]
    },
    {
     "name": "stdout",
     "output_type": "stream",
     "text": [
      "Attack Method: fw_pair\tNorm: 2\tTargeted: False\tStep Rule: ls\n",
      "Epsilon: 0.005\tCorrect Classifications (Failed Attacks) = 100 / 100 = 1.0\tTime: 19.25s\n",
      "Total queries made: 124\n"
     ]
    },
    {
     "name": "stderr",
     "output_type": "stream",
     "text": [
      "  1%|          | 101/10000 [00:04<07:35, 21.72it/s]\n"
     ]
    },
    {
     "name": "stdout",
     "output_type": "stream",
     "text": [
      "Attack Method: fw\tNorm: -1\tTargeted: True\tStep Rule: lipschitz_mnist\n",
      "Epsilon: 0.01\tCorrect Classifications (Failed Attacks) = 100 / 100 = 1.0\tTime: 18.75s\n",
      "Total queries made: 2002\n"
     ]
    },
    {
     "name": "stderr",
     "output_type": "stream",
     "text": [
      "  1%|          | 101/10000 [00:04<07:23, 22.31it/s]\n"
     ]
    },
    {
     "name": "stdout",
     "output_type": "stream",
     "text": [
      "Attack Method: fw\tNorm: -1\tTargeted: True\tStep Rule: decay\n",
      "Epsilon: 0.01\tCorrect Classifications (Failed Attacks) = 100 / 100 = 1.0\tTime: 20.97s\n",
      "Total queries made: 2002\n"
     ]
    },
    {
     "name": "stderr",
     "output_type": "stream",
     "text": [
      "  1%|          | 101/10000 [00:06<11:18, 14.59it/s]\n"
     ]
    },
    {
     "name": "stdout",
     "output_type": "stream",
     "text": [
      "Attack Method: fw\tNorm: -1\tTargeted: True\tStep Rule: amjo\n",
      "Epsilon: 0.01\tCorrect Classifications (Failed Attacks) = 100 / 100 = 1.0\tTime: 31.17s\n",
      "Total queries made: 2002\n"
     ]
    },
    {
     "name": "stderr",
     "output_type": "stream",
     "text": [
      "  1%|          | 101/10000 [01:02<1:42:44,  1.61it/s]\n"
     ]
    },
    {
     "name": "stdout",
     "output_type": "stream",
     "text": [
      "Attack Method: fw\tNorm: -1\tTargeted: True\tStep Rule: ls\n",
      "Epsilon: 0.01\tCorrect Classifications (Failed Attacks) = 100 / 100 = 1.0\tTime: 253.53s\n",
      "Total queries made: 2002\n"
     ]
    },
    {
     "name": "stderr",
     "output_type": "stream",
     "text": [
      "  1%|          | 101/10000 [00:04<07:30, 21.96it/s]\n"
     ]
    },
    {
     "name": "stdout",
     "output_type": "stream",
     "text": [
      "Attack Method: fw\tNorm: -1\tTargeted: False\tStep Rule: lipschitz_mnist\n",
      "Epsilon: 0.01\tCorrect Classifications (Failed Attacks) = 99 / 100 = 0.99\tTime: 21.91s\n",
      "Total queries made: 1984\n"
     ]
    },
    {
     "name": "stderr",
     "output_type": "stream",
     "text": [
      "  1%|          | 101/10000 [00:04<07:30, 21.97it/s]\n"
     ]
    },
    {
     "name": "stdout",
     "output_type": "stream",
     "text": [
      "Attack Method: fw\tNorm: -1\tTargeted: False\tStep Rule: decay\n",
      "Epsilon: 0.01\tCorrect Classifications (Failed Attacks) = 99 / 100 = 0.99\tTime: 22.66s\n",
      "Total queries made: 1969\n"
     ]
    },
    {
     "name": "stderr",
     "output_type": "stream",
     "text": [
      "  1%|          | 101/10000 [00:07<12:06, 13.63it/s]\n"
     ]
    },
    {
     "name": "stdout",
     "output_type": "stream",
     "text": [
      "Attack Method: fw\tNorm: -1\tTargeted: False\tStep Rule: amjo\n",
      "Epsilon: 0.01\tCorrect Classifications (Failed Attacks) = 99 / 100 = 0.99\tTime: 33.20s\n",
      "Total queries made: 1984\n"
     ]
    },
    {
     "name": "stderr",
     "output_type": "stream",
     "text": [
      "  1%|          | 101/10000 [01:07<1:50:14,  1.50it/s]\n"
     ]
    },
    {
     "name": "stdout",
     "output_type": "stream",
     "text": [
      "Attack Method: fw\tNorm: -1\tTargeted: False\tStep Rule: ls\n",
      "Epsilon: 0.01\tCorrect Classifications (Failed Attacks) = 99 / 100 = 0.99\tTime: 263.39s\n",
      "Total queries made: 1984\n"
     ]
    },
    {
     "name": "stderr",
     "output_type": "stream",
     "text": [
      "  1%|          | 101/10000 [00:00<00:51, 191.86it/s]\n"
     ]
    },
    {
     "name": "stdout",
     "output_type": "stream",
     "text": [
      "Attack Method: fw\tNorm: 1\tTargeted: True\tStep Rule: lipschitz_mnist\n",
      "Epsilon: 0.01\tCorrect Classifications (Failed Attacks) = 9 / 100 = 0.09\tTime: 1.77s\n",
      "Total queries made: 202\n"
     ]
    },
    {
     "name": "stderr",
     "output_type": "stream",
     "text": [
      "  1%|          | 101/10000 [00:00<00:50, 197.17it/s]\n"
     ]
    },
    {
     "name": "stdout",
     "output_type": "stream",
     "text": [
      "Attack Method: fw\tNorm: 1\tTargeted: True\tStep Rule: decay\n",
      "Epsilon: 0.01\tCorrect Classifications (Failed Attacks) = 9 / 100 = 0.09\tTime: 1.67s\n",
      "Total queries made: 202\n"
     ]
    },
    {
     "name": "stderr",
     "output_type": "stream",
     "text": [
      "  1%|          | 101/10000 [00:01<02:14, 73.67it/s]\n"
     ]
    },
    {
     "name": "stdout",
     "output_type": "stream",
     "text": [
      "Attack Method: fw\tNorm: 1\tTargeted: True\tStep Rule: amjo\n",
      "Epsilon: 0.01\tCorrect Classifications (Failed Attacks) = 9 / 100 = 0.09\tTime: 4.83s\n",
      "Total queries made: 202\n"
     ]
    },
    {
     "name": "stderr",
     "output_type": "stream",
     "text": [
      "  1%|          | 101/10000 [00:06<10:38, 15.50it/s]\n"
     ]
    },
    {
     "name": "stdout",
     "output_type": "stream",
     "text": [
      "Attack Method: fw\tNorm: 1\tTargeted: True\tStep Rule: ls\n",
      "Epsilon: 0.01\tCorrect Classifications (Failed Attacks) = 23 / 100 = 0.23\tTime: 23.09s\n",
      "Total queries made: 205\n"
     ]
    },
    {
     "name": "stderr",
     "output_type": "stream",
     "text": [
      "  1%|          | 101/10000 [00:00<00:51, 191.35it/s]\n"
     ]
    },
    {
     "name": "stdout",
     "output_type": "stream",
     "text": [
      "Attack Method: fw\tNorm: 1\tTargeted: False\tStep Rule: lipschitz_mnist\n",
      "Epsilon: 0.01\tCorrect Classifications (Failed Attacks) = 9 / 100 = 0.09\tTime: 2.36s\n",
      "Total queries made: 202\n"
     ]
    },
    {
     "name": "stderr",
     "output_type": "stream",
     "text": [
      "  1%|          | 101/10000 [00:00<00:51, 193.84it/s]\n"
     ]
    },
    {
     "name": "stdout",
     "output_type": "stream",
     "text": [
      "Attack Method: fw\tNorm: 1\tTargeted: False\tStep Rule: decay\n",
      "Epsilon: 0.01\tCorrect Classifications (Failed Attacks) = 9 / 100 = 0.09\tTime: 2.48s\n",
      "Total queries made: 202\n"
     ]
    },
    {
     "name": "stderr",
     "output_type": "stream",
     "text": [
      "  1%|          | 101/10000 [00:00<01:37, 101.69it/s]\n"
     ]
    },
    {
     "name": "stdout",
     "output_type": "stream",
     "text": [
      "Attack Method: fw\tNorm: 1\tTargeted: False\tStep Rule: amjo\n",
      "Epsilon: 0.01\tCorrect Classifications (Failed Attacks) = 9 / 100 = 0.09\tTime: 4.53s\n",
      "Total queries made: 202\n"
     ]
    },
    {
     "name": "stderr",
     "output_type": "stream",
     "text": [
      "  1%|          | 101/10000 [00:06<10:56, 15.07it/s]\n"
     ]
    },
    {
     "name": "stdout",
     "output_type": "stream",
     "text": [
      "Attack Method: fw\tNorm: 1\tTargeted: False\tStep Rule: ls\n",
      "Epsilon: 0.01\tCorrect Classifications (Failed Attacks) = 9 / 100 = 0.09\tTime: 32.70s\n",
      "Total queries made: 202\n"
     ]
    },
    {
     "name": "stderr",
     "output_type": "stream",
     "text": [
      "  1%|          | 101/10000 [00:00<00:47, 206.33it/s]\n"
     ]
    },
    {
     "name": "stdout",
     "output_type": "stream",
     "text": [
      "Attack Method: fw\tNorm: 2\tTargeted: True\tStep Rule: lipschitz_mnist\n",
      "Epsilon: 0.01\tCorrect Classifications (Failed Attacks) = 100 / 100 = 1.0\tTime: 2.08s\n",
      "Total queries made: 202\n"
     ]
    },
    {
     "name": "stderr",
     "output_type": "stream",
     "text": [
      "  1%|          | 101/10000 [00:00<00:48, 203.19it/s]\n"
     ]
    },
    {
     "name": "stdout",
     "output_type": "stream",
     "text": [
      "Attack Method: fw\tNorm: 2\tTargeted: True\tStep Rule: decay\n",
      "Epsilon: 0.01\tCorrect Classifications (Failed Attacks) = 100 / 100 = 1.0\tTime: 2.41s\n",
      "Total queries made: 202\n"
     ]
    },
    {
     "name": "stderr",
     "output_type": "stream",
     "text": [
      "  1%|          | 101/10000 [00:00<01:11, 138.26it/s]\n"
     ]
    },
    {
     "name": "stdout",
     "output_type": "stream",
     "text": [
      "Attack Method: fw\tNorm: 2\tTargeted: True\tStep Rule: amjo\n",
      "Epsilon: 0.01\tCorrect Classifications (Failed Attacks) = 100 / 100 = 1.0\tTime: 3.11s\n",
      "Total queries made: 202\n"
     ]
    },
    {
     "name": "stderr",
     "output_type": "stream",
     "text": [
      "  1%|          | 101/10000 [00:06<10:27, 15.76it/s]\n"
     ]
    },
    {
     "name": "stdout",
     "output_type": "stream",
     "text": [
      "Attack Method: fw\tNorm: 2\tTargeted: True\tStep Rule: ls\n",
      "Epsilon: 0.01\tCorrect Classifications (Failed Attacks) = 100 / 100 = 1.0\tTime: 26.41s\n",
      "Total queries made: 202\n"
     ]
    },
    {
     "name": "stderr",
     "output_type": "stream",
     "text": [
      "  1%|          | 101/10000 [00:00<00:50, 195.16it/s]\n"
     ]
    },
    {
     "name": "stdout",
     "output_type": "stream",
     "text": [
      "Attack Method: fw\tNorm: 2\tTargeted: False\tStep Rule: lipschitz_mnist\n",
      "Epsilon: 0.01\tCorrect Classifications (Failed Attacks) = 100 / 100 = 1.0\tTime: 2.38s\n",
      "Total queries made: 202\n"
     ]
    },
    {
     "name": "stderr",
     "output_type": "stream",
     "text": [
      "  1%|          | 101/10000 [00:00<00:51, 192.47it/s]\n"
     ]
    },
    {
     "name": "stdout",
     "output_type": "stream",
     "text": [
      "Attack Method: fw\tNorm: 2\tTargeted: False\tStep Rule: decay\n",
      "Epsilon: 0.01\tCorrect Classifications (Failed Attacks) = 100 / 100 = 1.0\tTime: 2.34s\n",
      "Total queries made: 202\n"
     ]
    },
    {
     "name": "stderr",
     "output_type": "stream",
     "text": [
      "  1%|          | 101/10000 [00:00<01:20, 123.50it/s]\n"
     ]
    },
    {
     "name": "stdout",
     "output_type": "stream",
     "text": [
      "Attack Method: fw\tNorm: 2\tTargeted: False\tStep Rule: amjo\n",
      "Epsilon: 0.01\tCorrect Classifications (Failed Attacks) = 100 / 100 = 1.0\tTime: 3.39s\n",
      "Total queries made: 202\n"
     ]
    },
    {
     "name": "stderr",
     "output_type": "stream",
     "text": [
      "  1%|          | 101/10000 [00:06<11:16, 14.63it/s]\n"
     ]
    },
    {
     "name": "stdout",
     "output_type": "stream",
     "text": [
      "Attack Method: fw\tNorm: 2\tTargeted: False\tStep Rule: ls\n",
      "Epsilon: 0.01\tCorrect Classifications (Failed Attacks) = 100 / 100 = 1.0\tTime: 30.77s\n",
      "Total queries made: 202\n"
     ]
    },
    {
     "name": "stderr",
     "output_type": "stream",
     "text": [
      "  1%|          | 101/10000 [00:04<07:55, 20.80it/s]\n"
     ]
    },
    {
     "name": "stdout",
     "output_type": "stream",
     "text": [
      "Attack Method: fw_away\tNorm: -1\tTargeted: True\tStep Rule: lipschitz_mnist\n",
      "Epsilon: 0.01\tCorrect Classifications (Failed Attacks) = 100 / 100 = 1.0\tTime: 22.72s\n",
      "Total queries made: 2002\n"
     ]
    },
    {
     "name": "stderr",
     "output_type": "stream",
     "text": [
      "  1%|          | 101/10000 [00:05<09:19, 17.69it/s]\n"
     ]
    },
    {
     "name": "stdout",
     "output_type": "stream",
     "text": [
      "Attack Method: fw_away\tNorm: -1\tTargeted: True\tStep Rule: decay\n",
      "Epsilon: 0.01\tCorrect Classifications (Failed Attacks) = 100 / 100 = 1.0\tTime: 23.14s\n",
      "Total queries made: 2002\n"
     ]
    },
    {
     "name": "stderr",
     "output_type": "stream",
     "text": [
      "  1%|          | 101/10000 [00:07<11:55, 13.84it/s]\n"
     ]
    },
    {
     "name": "stdout",
     "output_type": "stream",
     "text": [
      "Attack Method: fw_away\tNorm: -1\tTargeted: True\tStep Rule: amjo\n",
      "Epsilon: 0.01\tCorrect Classifications (Failed Attacks) = 100 / 100 = 1.0\tTime: 33.41s\n",
      "Total queries made: 2002\n"
     ]
    },
    {
     "name": "stderr",
     "output_type": "stream",
     "text": [
      "  1%|          | 101/10000 [01:04<1:45:00,  1.57it/s]\n"
     ]
    },
    {
     "name": "stdout",
     "output_type": "stream",
     "text": [
      "Attack Method: fw_away\tNorm: -1\tTargeted: True\tStep Rule: ls\n",
      "Epsilon: 0.01\tCorrect Classifications (Failed Attacks) = 100 / 100 = 1.0\tTime: 221.94s\n",
      "Total queries made: 2002\n"
     ]
    },
    {
     "name": "stderr",
     "output_type": "stream",
     "text": [
      "  1%|          | 101/10000 [00:05<08:31, 19.34it/s]\n"
     ]
    },
    {
     "name": "stdout",
     "output_type": "stream",
     "text": [
      "Attack Method: fw_away\tNorm: -1\tTargeted: False\tStep Rule: lipschitz_mnist\n",
      "Epsilon: 0.01\tCorrect Classifications (Failed Attacks) = 99 / 100 = 0.99\tTime: 18.55s\n",
      "Total queries made: 2002\n"
     ]
    },
    {
     "name": "stderr",
     "output_type": "stream",
     "text": [
      "  1%|          | 101/10000 [00:06<09:53, 16.68it/s]\n"
     ]
    },
    {
     "name": "stdout",
     "output_type": "stream",
     "text": [
      "Attack Method: fw_away\tNorm: -1\tTargeted: False\tStep Rule: decay\n",
      "Epsilon: 0.01\tCorrect Classifications (Failed Attacks) = 99 / 100 = 0.99\tTime: 20.02s\n",
      "Total queries made: 2002\n"
     ]
    },
    {
     "name": "stderr",
     "output_type": "stream",
     "text": [
      "  1%|          | 101/10000 [00:07<12:54, 12.79it/s]\n"
     ]
    },
    {
     "name": "stdout",
     "output_type": "stream",
     "text": [
      "Attack Method: fw_away\tNorm: -1\tTargeted: False\tStep Rule: amjo\n",
      "Epsilon: 0.01\tCorrect Classifications (Failed Attacks) = 99 / 100 = 0.99\tTime: 29.31s\n",
      "Total queries made: 2002\n"
     ]
    },
    {
     "name": "stderr",
     "output_type": "stream",
     "text": [
      "  1%|          | 101/10000 [01:07<1:50:32,  1.49it/s]\n"
     ]
    },
    {
     "name": "stdout",
     "output_type": "stream",
     "text": [
      "Attack Method: fw_away\tNorm: -1\tTargeted: False\tStep Rule: ls\n",
      "Epsilon: 0.01\tCorrect Classifications (Failed Attacks) = 99 / 100 = 0.99\tTime: 303.42s\n",
      "Total queries made: 2002\n"
     ]
    },
    {
     "name": "stderr",
     "output_type": "stream",
     "text": [
      "  1%|          | 101/10000 [00:04<08:05, 20.40it/s]\n"
     ]
    },
    {
     "name": "stdout",
     "output_type": "stream",
     "text": [
      "Attack Method: fw_away\tNorm: 1\tTargeted: True\tStep Rule: lipschitz_mnist\n",
      "Epsilon: 0.01\tCorrect Classifications (Failed Attacks) = 9 / 100 = 0.09\tTime: 22.72s\n",
      "Total queries made: 2002\n"
     ]
    },
    {
     "name": "stderr",
     "output_type": "stream",
     "text": [
      "  1%|          | 101/10000 [00:05<08:11, 20.15it/s]\n"
     ]
    },
    {
     "name": "stdout",
     "output_type": "stream",
     "text": [
      "Attack Method: fw_away\tNorm: 1\tTargeted: True\tStep Rule: decay\n",
      "Epsilon: 0.01\tCorrect Classifications (Failed Attacks) = 9 / 100 = 0.09\tTime: 22.66s\n",
      "Total queries made: 2002\n"
     ]
    },
    {
     "name": "stderr",
     "output_type": "stream",
     "text": [
      "  1%|          | 101/10000 [00:14<23:08,  7.13it/s]\n"
     ]
    },
    {
     "name": "stdout",
     "output_type": "stream",
     "text": [
      "Attack Method: fw_away\tNorm: 1\tTargeted: True\tStep Rule: amjo\n",
      "Epsilon: 0.01\tCorrect Classifications (Failed Attacks) = 9 / 100 = 0.09\tTime: 63.64s\n",
      "Total queries made: 2002\n"
     ]
    },
    {
     "name": "stderr",
     "output_type": "stream",
     "text": [
      "  1%|          | 101/10000 [01:00<1:38:33,  1.67it/s]\n"
     ]
    },
    {
     "name": "stdout",
     "output_type": "stream",
     "text": [
      "Attack Method: fw_away\tNorm: 1\tTargeted: True\tStep Rule: ls\n",
      "Epsilon: 0.01\tCorrect Classifications (Failed Attacks) = 25 / 100 = 0.25\tTime: 266.58s\n",
      "Total queries made: 2002\n"
     ]
    },
    {
     "name": "stderr",
     "output_type": "stream",
     "text": [
      "  1%|          | 101/10000 [00:05<08:35, 19.20it/s]\n"
     ]
    },
    {
     "name": "stdout",
     "output_type": "stream",
     "text": [
      "Attack Method: fw_away\tNorm: 1\tTargeted: False\tStep Rule: lipschitz_mnist\n",
      "Epsilon: 0.01\tCorrect Classifications (Failed Attacks) = 9 / 100 = 0.09\tTime: 17.11s\n",
      "Total queries made: 2002\n"
     ]
    },
    {
     "name": "stderr",
     "output_type": "stream",
     "text": [
      "  1%|          | 101/10000 [00:05<08:32, 19.32it/s]\n"
     ]
    },
    {
     "name": "stdout",
     "output_type": "stream",
     "text": [
      "Attack Method: fw_away\tNorm: 1\tTargeted: False\tStep Rule: decay\n",
      "Epsilon: 0.01\tCorrect Classifications (Failed Attacks) = 9 / 100 = 0.09\tTime: 19.42s\n",
      "Total queries made: 2002\n"
     ]
    },
    {
     "name": "stderr",
     "output_type": "stream",
     "text": [
      "  1%|          | 101/10000 [00:14<22:55,  7.20it/s]\n"
     ]
    },
    {
     "name": "stdout",
     "output_type": "stream",
     "text": [
      "Attack Method: fw_away\tNorm: 1\tTargeted: False\tStep Rule: amjo\n",
      "Epsilon: 0.01\tCorrect Classifications (Failed Attacks) = 9 / 100 = 0.09\tTime: 61.41s\n",
      "Total queries made: 2002\n"
     ]
    },
    {
     "name": "stderr",
     "output_type": "stream",
     "text": [
      "  1%|          | 101/10000 [01:09<1:53:13,  1.46it/s]\n"
     ]
    },
    {
     "name": "stdout",
     "output_type": "stream",
     "text": [
      "Attack Method: fw_away\tNorm: 1\tTargeted: False\tStep Rule: ls\n",
      "Epsilon: 0.01\tCorrect Classifications (Failed Attacks) = 9 / 100 = 0.09\tTime: 290.45s\n",
      "Total queries made: 2002\n"
     ]
    },
    {
     "name": "stderr",
     "output_type": "stream",
     "text": [
      "  1%|          | 101/10000 [00:05<08:23, 19.67it/s]\n"
     ]
    },
    {
     "name": "stdout",
     "output_type": "stream",
     "text": [
      "Attack Method: fw_away\tNorm: 2\tTargeted: True\tStep Rule: lipschitz_mnist\n",
      "Epsilon: 0.01\tCorrect Classifications (Failed Attacks) = 100 / 100 = 1.0\tTime: 18.78s\n",
      "Total queries made: 2002\n"
     ]
    },
    {
     "name": "stderr",
     "output_type": "stream",
     "text": [
      "  1%|          | 101/10000 [00:05<09:08, 18.04it/s]\n"
     ]
    },
    {
     "name": "stdout",
     "output_type": "stream",
     "text": [
      "Attack Method: fw_away\tNorm: 2\tTargeted: True\tStep Rule: decay\n",
      "Epsilon: 0.01\tCorrect Classifications (Failed Attacks) = 100 / 100 = 1.0\tTime: 17.39s\n",
      "Total queries made: 2002\n"
     ]
    },
    {
     "name": "stderr",
     "output_type": "stream",
     "text": [
      "  1%|          | 101/10000 [00:07<12:11, 13.53it/s]\n"
     ]
    },
    {
     "name": "stdout",
     "output_type": "stream",
     "text": [
      "Attack Method: fw_away\tNorm: 2\tTargeted: True\tStep Rule: amjo\n",
      "Epsilon: 0.01\tCorrect Classifications (Failed Attacks) = 100 / 100 = 1.0\tTime: 24.81s\n",
      "Total queries made: 2002\n"
     ]
    },
    {
     "name": "stderr",
     "output_type": "stream",
     "text": [
      "  1%|          | 101/10000 [01:01<1:41:10,  1.63it/s]\n"
     ]
    },
    {
     "name": "stdout",
     "output_type": "stream",
     "text": [
      "Attack Method: fw_away\tNorm: 2\tTargeted: True\tStep Rule: ls\n",
      "Epsilon: 0.01\tCorrect Classifications (Failed Attacks) = 100 / 100 = 1.0\tTime: 233.50s\n",
      "Total queries made: 2002\n"
     ]
    },
    {
     "name": "stderr",
     "output_type": "stream",
     "text": [
      "  1%|          | 101/10000 [00:05<08:11, 20.14it/s]\n"
     ]
    },
    {
     "name": "stdout",
     "output_type": "stream",
     "text": [
      "Attack Method: fw_away\tNorm: 2\tTargeted: False\tStep Rule: lipschitz_mnist\n",
      "Epsilon: 0.01\tCorrect Classifications (Failed Attacks) = 100 / 100 = 1.0\tTime: 19.92s\n",
      "Total queries made: 2002\n"
     ]
    },
    {
     "name": "stderr",
     "output_type": "stream",
     "text": [
      "  1%|          | 101/10000 [00:05<08:49, 18.68it/s]\n"
     ]
    },
    {
     "name": "stdout",
     "output_type": "stream",
     "text": [
      "Attack Method: fw_away\tNorm: 2\tTargeted: False\tStep Rule: decay\n",
      "Epsilon: 0.01\tCorrect Classifications (Failed Attacks) = 100 / 100 = 1.0\tTime: 22.38s\n",
      "Total queries made: 2002\n"
     ]
    },
    {
     "name": "stderr",
     "output_type": "stream",
     "text": [
      "  1%|          | 101/10000 [00:07<12:20, 13.36it/s]\n"
     ]
    },
    {
     "name": "stdout",
     "output_type": "stream",
     "text": [
      "Attack Method: fw_away\tNorm: 2\tTargeted: False\tStep Rule: amjo\n",
      "Epsilon: 0.01\tCorrect Classifications (Failed Attacks) = 100 / 100 = 1.0\tTime: 30.64s\n",
      "Total queries made: 2002\n"
     ]
    },
    {
     "name": "stderr",
     "output_type": "stream",
     "text": [
      "  1%|          | 101/10000 [01:07<1:50:33,  1.49it/s]\n"
     ]
    },
    {
     "name": "stdout",
     "output_type": "stream",
     "text": [
      "Attack Method: fw_away\tNorm: 2\tTargeted: False\tStep Rule: ls\n",
      "Epsilon: 0.01\tCorrect Classifications (Failed Attacks) = 100 / 100 = 1.0\tTime: 235.69s\n",
      "Total queries made: 2002\n"
     ]
    },
    {
     "name": "stderr",
     "output_type": "stream",
     "text": [
      "  1%|          | 101/10000 [00:05<08:28, 19.47it/s]\n"
     ]
    },
    {
     "name": "stdout",
     "output_type": "stream",
     "text": [
      "Attack Method: fw_pair\tNorm: -1\tTargeted: True\tStep Rule: lipschitz_mnist\n",
      "Epsilon: 0.01\tCorrect Classifications (Failed Attacks) = 100 / 100 = 1.0\tTime: 17.20s\n",
      "Total queries made: 2002\n"
     ]
    },
    {
     "name": "stderr",
     "output_type": "stream",
     "text": [
      "  1%|          | 101/10000 [00:05<09:06, 18.12it/s]\n"
     ]
    },
    {
     "name": "stdout",
     "output_type": "stream",
     "text": [
      "Attack Method: fw_pair\tNorm: -1\tTargeted: True\tStep Rule: decay\n",
      "Epsilon: 0.01\tCorrect Classifications (Failed Attacks) = 100 / 100 = 1.0\tTime: 16.16s\n",
      "Total queries made: 2002\n"
     ]
    },
    {
     "name": "stderr",
     "output_type": "stream",
     "text": [
      "  1%|          | 101/10000 [00:10<17:00,  9.70it/s]\n"
     ]
    },
    {
     "name": "stdout",
     "output_type": "stream",
     "text": [
      "Attack Method: fw_pair\tNorm: -1\tTargeted: True\tStep Rule: amjo\n",
      "Epsilon: 0.01\tCorrect Classifications (Failed Attacks) = 100 / 100 = 1.0\tTime: 30.17s\n",
      "Total queries made: 2002\n"
     ]
    },
    {
     "name": "stderr",
     "output_type": "stream",
     "text": [
      "  1%|          | 101/10000 [01:02<1:41:46,  1.62it/s]\n"
     ]
    },
    {
     "name": "stdout",
     "output_type": "stream",
     "text": [
      "Attack Method: fw_pair\tNorm: -1\tTargeted: True\tStep Rule: ls\n",
      "Epsilon: 0.01\tCorrect Classifications (Failed Attacks) = 100 / 100 = 1.0\tTime: 222.27s\n",
      "Total queries made: 2002\n"
     ]
    },
    {
     "name": "stderr",
     "output_type": "stream",
     "text": [
      "  1%|          | 101/10000 [00:04<07:54, 20.88it/s]\n"
     ]
    },
    {
     "name": "stdout",
     "output_type": "stream",
     "text": [
      "Attack Method: fw_pair\tNorm: -1\tTargeted: False\tStep Rule: lipschitz_mnist\n",
      "Epsilon: 0.01\tCorrect Classifications (Failed Attacks) = 99 / 100 = 0.99\tTime: 19.86s\n",
      "Total queries made: 1984\n"
     ]
    },
    {
     "name": "stderr",
     "output_type": "stream",
     "text": [
      "  1%|          | 101/10000 [00:05<08:30, 19.38it/s]\n"
     ]
    },
    {
     "name": "stdout",
     "output_type": "stream",
     "text": [
      "Attack Method: fw_pair\tNorm: -1\tTargeted: False\tStep Rule: decay\n",
      "Epsilon: 0.01\tCorrect Classifications (Failed Attacks) = 99 / 100 = 0.99\tTime: 18.48s\n",
      "Total queries made: 1984\n"
     ]
    },
    {
     "name": "stderr",
     "output_type": "stream",
     "text": [
      "  1%|          | 101/10000 [00:10<17:05,  9.65it/s]\n"
     ]
    },
    {
     "name": "stdout",
     "output_type": "stream",
     "text": [
      "Attack Method: fw_pair\tNorm: -1\tTargeted: False\tStep Rule: amjo\n",
      "Epsilon: 0.01\tCorrect Classifications (Failed Attacks) = 99 / 100 = 0.99\tTime: 41.97s\n",
      "Total queries made: 1984\n"
     ]
    },
    {
     "name": "stderr",
     "output_type": "stream",
     "text": [
      "  1%|          | 101/10000 [01:07<1:50:14,  1.50it/s]\n"
     ]
    },
    {
     "name": "stdout",
     "output_type": "stream",
     "text": [
      "Attack Method: fw_pair\tNorm: -1\tTargeted: False\tStep Rule: ls\n",
      "Epsilon: 0.01\tCorrect Classifications (Failed Attacks) = 99 / 100 = 0.99\tTime: 273.77s\n",
      "Total queries made: 1971\n"
     ]
    },
    {
     "name": "stderr",
     "output_type": "stream",
     "text": [
      "  1%|          | 101/10000 [00:00<00:50, 195.69it/s]\n"
     ]
    },
    {
     "name": "stdout",
     "output_type": "stream",
     "text": [
      "Attack Method: fw_pair\tNorm: 1\tTargeted: True\tStep Rule: lipschitz_mnist\n",
      "Epsilon: 0.01\tCorrect Classifications (Failed Attacks) = 9 / 100 = 0.09\tTime: 2.06s\n",
      "Total queries made: 202\n"
     ]
    },
    {
     "name": "stderr",
     "output_type": "stream",
     "text": [
      "  1%|          | 101/10000 [00:00<00:50, 197.81it/s]\n"
     ]
    },
    {
     "name": "stdout",
     "output_type": "stream",
     "text": [
      "Attack Method: fw_pair\tNorm: 1\tTargeted: True\tStep Rule: decay\n",
      "Epsilon: 0.01\tCorrect Classifications (Failed Attacks) = 9 / 100 = 0.09\tTime: 2.38s\n",
      "Total queries made: 202\n"
     ]
    },
    {
     "name": "stderr",
     "output_type": "stream",
     "text": [
      "  1%|          | 101/10000 [00:01<02:10, 75.82it/s]\n"
     ]
    },
    {
     "name": "stdout",
     "output_type": "stream",
     "text": [
      "Attack Method: fw_pair\tNorm: 1\tTargeted: True\tStep Rule: amjo\n",
      "Epsilon: 0.01\tCorrect Classifications (Failed Attacks) = 9 / 100 = 0.09\tTime: 5.58s\n",
      "Total queries made: 202\n"
     ]
    },
    {
     "name": "stderr",
     "output_type": "stream",
     "text": [
      "  1%|          | 101/10000 [00:06<10:28, 15.75it/s]\n"
     ]
    },
    {
     "name": "stdout",
     "output_type": "stream",
     "text": [
      "Attack Method: fw_pair\tNorm: 1\tTargeted: True\tStep Rule: ls\n",
      "Epsilon: 0.01\tCorrect Classifications (Failed Attacks) = 24 / 100 = 0.24\tTime: 27.36s\n",
      "Total queries made: 205\n"
     ]
    },
    {
     "name": "stderr",
     "output_type": "stream",
     "text": [
      "  1%|          | 101/10000 [00:00<00:54, 183.09it/s]\n"
     ]
    },
    {
     "name": "stdout",
     "output_type": "stream",
     "text": [
      "Attack Method: fw_pair\tNorm: 1\tTargeted: False\tStep Rule: lipschitz_mnist\n",
      "Epsilon: 0.01\tCorrect Classifications (Failed Attacks) = 9 / 100 = 0.09\tTime: 2.47s\n",
      "Total queries made: 202\n"
     ]
    },
    {
     "name": "stderr",
     "output_type": "stream",
     "text": [
      "  1%|          | 101/10000 [00:00<00:53, 184.82it/s]\n"
     ]
    },
    {
     "name": "stdout",
     "output_type": "stream",
     "text": [
      "Attack Method: fw_pair\tNorm: 1\tTargeted: False\tStep Rule: decay\n",
      "Epsilon: 0.01\tCorrect Classifications (Failed Attacks) = 9 / 100 = 0.09\tTime: 2.36s\n",
      "Total queries made: 202\n"
     ]
    },
    {
     "name": "stderr",
     "output_type": "stream",
     "text": [
      "  1%|          | 101/10000 [00:01<01:41, 97.80it/s]\n"
     ]
    },
    {
     "name": "stdout",
     "output_type": "stream",
     "text": [
      "Attack Method: fw_pair\tNorm: 1\tTargeted: False\tStep Rule: amjo\n",
      "Epsilon: 0.01\tCorrect Classifications (Failed Attacks) = 9 / 100 = 0.09\tTime: 4.69s\n",
      "Total queries made: 202\n"
     ]
    },
    {
     "name": "stderr",
     "output_type": "stream",
     "text": [
      "  1%|          | 101/10000 [00:06<11:18, 14.60it/s]\n"
     ]
    },
    {
     "name": "stdout",
     "output_type": "stream",
     "text": [
      "Attack Method: fw_pair\tNorm: 1\tTargeted: False\tStep Rule: ls\n",
      "Epsilon: 0.01\tCorrect Classifications (Failed Attacks) = 9 / 100 = 0.09\tTime: 29.44s\n",
      "Total queries made: 202\n"
     ]
    },
    {
     "name": "stderr",
     "output_type": "stream",
     "text": [
      "  1%|          | 101/10000 [00:00<00:51, 190.91it/s]\n"
     ]
    },
    {
     "name": "stdout",
     "output_type": "stream",
     "text": [
      "Attack Method: fw_pair\tNorm: 2\tTargeted: True\tStep Rule: lipschitz_mnist\n",
      "Epsilon: 0.01\tCorrect Classifications (Failed Attacks) = 100 / 100 = 1.0\tTime: 1.91s\n",
      "Total queries made: 202\n"
     ]
    },
    {
     "name": "stderr",
     "output_type": "stream",
     "text": [
      "  1%|          | 101/10000 [00:00<00:51, 191.76it/s]\n"
     ]
    },
    {
     "name": "stdout",
     "output_type": "stream",
     "text": [
      "Attack Method: fw_pair\tNorm: 2\tTargeted: True\tStep Rule: decay\n",
      "Epsilon: 0.01\tCorrect Classifications (Failed Attacks) = 100 / 100 = 1.0\tTime: 1.98s\n",
      "Total queries made: 202\n"
     ]
    },
    {
     "name": "stderr",
     "output_type": "stream",
     "text": [
      "  1%|          | 101/10000 [00:00<01:14, 132.84it/s]\n"
     ]
    },
    {
     "name": "stdout",
     "output_type": "stream",
     "text": [
      "Attack Method: fw_pair\tNorm: 2\tTargeted: True\tStep Rule: amjo\n",
      "Epsilon: 0.01\tCorrect Classifications (Failed Attacks) = 100 / 100 = 1.0\tTime: 3.03s\n",
      "Total queries made: 202\n"
     ]
    },
    {
     "name": "stderr",
     "output_type": "stream",
     "text": [
      "  1%|          | 101/10000 [00:06<10:16, 16.06it/s]\n"
     ]
    },
    {
     "name": "stdout",
     "output_type": "stream",
     "text": [
      "Attack Method: fw_pair\tNorm: 2\tTargeted: True\tStep Rule: ls\n",
      "Epsilon: 0.01\tCorrect Classifications (Failed Attacks) = 100 / 100 = 1.0\tTime: 27.52s\n",
      "Total queries made: 202\n"
     ]
    },
    {
     "name": "stderr",
     "output_type": "stream",
     "text": [
      "  1%|          | 101/10000 [00:00<00:54, 180.74it/s]\n"
     ]
    },
    {
     "name": "stdout",
     "output_type": "stream",
     "text": [
      "Attack Method: fw_pair\tNorm: 2\tTargeted: False\tStep Rule: lipschitz_mnist\n",
      "Epsilon: 0.01\tCorrect Classifications (Failed Attacks) = 100 / 100 = 1.0\tTime: 2.53s\n",
      "Total queries made: 202\n"
     ]
    },
    {
     "name": "stderr",
     "output_type": "stream",
     "text": [
      "  1%|          | 101/10000 [00:00<00:55, 179.98it/s]\n"
     ]
    },
    {
     "name": "stdout",
     "output_type": "stream",
     "text": [
      "Attack Method: fw_pair\tNorm: 2\tTargeted: False\tStep Rule: decay\n",
      "Epsilon: 0.01\tCorrect Classifications (Failed Attacks) = 100 / 100 = 1.0\tTime: 2.56s\n",
      "Total queries made: 202\n"
     ]
    },
    {
     "name": "stderr",
     "output_type": "stream",
     "text": [
      "  1%|          | 101/10000 [00:00<01:20, 122.82it/s]\n"
     ]
    },
    {
     "name": "stdout",
     "output_type": "stream",
     "text": [
      "Attack Method: fw_pair\tNorm: 2\tTargeted: False\tStep Rule: amjo\n",
      "Epsilon: 0.01\tCorrect Classifications (Failed Attacks) = 100 / 100 = 1.0\tTime: 3.28s\n",
      "Total queries made: 202\n"
     ]
    },
    {
     "name": "stderr",
     "output_type": "stream",
     "text": [
      "  1%|          | 101/10000 [00:06<11:04, 14.90it/s]\n"
     ]
    },
    {
     "name": "stdout",
     "output_type": "stream",
     "text": [
      "Attack Method: fw_pair\tNorm: 2\tTargeted: False\tStep Rule: ls\n",
      "Epsilon: 0.01\tCorrect Classifications (Failed Attacks) = 100 / 100 = 1.0\tTime: 29.19s\n",
      "Total queries made: 202\n"
     ]
    },
    {
     "name": "stderr",
     "output_type": "stream",
     "text": [
      "  1%|          | 101/10000 [00:04<07:43, 21.34it/s]\n"
     ]
    },
    {
     "name": "stdout",
     "output_type": "stream",
     "text": [
      "Attack Method: fw\tNorm: -1\tTargeted: True\tStep Rule: lipschitz_mnist\n",
      "Epsilon: 0.05\tCorrect Classifications (Failed Attacks) = 99 / 100 = 0.99\tTime: 19.86s\n",
      "Total queries made: 2002\n"
     ]
    },
    {
     "name": "stderr",
     "output_type": "stream",
     "text": [
      "  1%|          | 101/10000 [00:04<07:29, 22.03it/s]\n"
     ]
    },
    {
     "name": "stdout",
     "output_type": "stream",
     "text": [
      "Attack Method: fw\tNorm: -1\tTargeted: True\tStep Rule: decay\n",
      "Epsilon: 0.05\tCorrect Classifications (Failed Attacks) = 99 / 100 = 0.99\tTime: 19.92s\n",
      "Total queries made: 2002\n"
     ]
    },
    {
     "name": "stderr",
     "output_type": "stream",
     "text": [
      "  1%|          | 101/10000 [00:06<11:20, 14.55it/s]\n"
     ]
    },
    {
     "name": "stdout",
     "output_type": "stream",
     "text": [
      "Attack Method: fw\tNorm: -1\tTargeted: True\tStep Rule: amjo\n",
      "Epsilon: 0.05\tCorrect Classifications (Failed Attacks) = 99 / 100 = 0.99\tTime: 30.61s\n",
      "Total queries made: 2002\n"
     ]
    },
    {
     "name": "stderr",
     "output_type": "stream",
     "text": [
      "  1%|          | 101/10000 [01:01<1:40:10,  1.65it/s]\n"
     ]
    },
    {
     "name": "stdout",
     "output_type": "stream",
     "text": [
      "Attack Method: fw\tNorm: -1\tTargeted: True\tStep Rule: ls\n",
      "Epsilon: 0.05\tCorrect Classifications (Failed Attacks) = 99 / 100 = 0.99\tTime: 269.78s\n",
      "Total queries made: 2002\n"
     ]
    },
    {
     "name": "stderr",
     "output_type": "stream",
     "text": [
      "  1%|          | 101/10000 [00:04<07:39, 21.53it/s]\n"
     ]
    },
    {
     "name": "stdout",
     "output_type": "stream",
     "text": [
      "Attack Method: fw\tNorm: -1\tTargeted: False\tStep Rule: lipschitz_mnist\n",
      "Epsilon: 0.05\tCorrect Classifications (Failed Attacks) = 95 / 100 = 0.95\tTime: 19.77s\n",
      "Total queries made: 1949\n"
     ]
    },
    {
     "name": "stderr",
     "output_type": "stream",
     "text": [
      "  1%|          | 101/10000 [00:04<07:28, 22.06it/s]\n"
     ]
    },
    {
     "name": "stdout",
     "output_type": "stream",
     "text": [
      "Attack Method: fw\tNorm: -1\tTargeted: False\tStep Rule: decay\n",
      "Epsilon: 0.05\tCorrect Classifications (Failed Attacks) = 93 / 100 = 0.93\tTime: 20.02s\n",
      "Total queries made: 1933\n"
     ]
    },
    {
     "name": "stderr",
     "output_type": "stream",
     "text": [
      "  1%|          | 101/10000 [00:07<11:55, 13.83it/s]\n"
     ]
    },
    {
     "name": "stdout",
     "output_type": "stream",
     "text": [
      "Attack Method: fw\tNorm: -1\tTargeted: False\tStep Rule: amjo\n",
      "Epsilon: 0.05\tCorrect Classifications (Failed Attacks) = 95 / 100 = 0.95\tTime: 31.52s\n",
      "Total queries made: 1933\n"
     ]
    },
    {
     "name": "stderr",
     "output_type": "stream",
     "text": [
      "  1%|          | 101/10000 [01:06<1:47:48,  1.53it/s]\n"
     ]
    },
    {
     "name": "stdout",
     "output_type": "stream",
     "text": [
      "Attack Method: fw\tNorm: -1\tTargeted: False\tStep Rule: ls\n",
      "Epsilon: 0.05\tCorrect Classifications (Failed Attacks) = 95 / 100 = 0.95\tTime: 284.88s\n",
      "Total queries made: 1949\n"
     ]
    },
    {
     "name": "stderr",
     "output_type": "stream",
     "text": [
      "  1%|          | 101/10000 [00:00<00:49, 201.13it/s]\n"
     ]
    },
    {
     "name": "stdout",
     "output_type": "stream",
     "text": [
      "Attack Method: fw\tNorm: 1\tTargeted: True\tStep Rule: lipschitz_mnist\n",
      "Epsilon: 0.05\tCorrect Classifications (Failed Attacks) = 9 / 100 = 0.09\tTime: 2.23s\n",
      "Total queries made: 202\n"
     ]
    },
    {
     "name": "stderr",
     "output_type": "stream",
     "text": [
      "  1%|          | 101/10000 [00:00<00:47, 207.68it/s]\n"
     ]
    },
    {
     "name": "stdout",
     "output_type": "stream",
     "text": [
      "Attack Method: fw\tNorm: 1\tTargeted: True\tStep Rule: decay\n",
      "Epsilon: 0.05\tCorrect Classifications (Failed Attacks) = 9 / 100 = 0.09\tTime: 2.42s\n",
      "Total queries made: 202\n"
     ]
    },
    {
     "name": "stderr",
     "output_type": "stream",
     "text": [
      "  1%|          | 101/10000 [00:01<02:08, 76.88it/s]\n"
     ]
    },
    {
     "name": "stdout",
     "output_type": "stream",
     "text": [
      "Attack Method: fw\tNorm: 1\tTargeted: True\tStep Rule: amjo\n",
      "Epsilon: 0.05\tCorrect Classifications (Failed Attacks) = 9 / 100 = 0.09\tTime: 4.78s\n",
      "Total queries made: 202\n"
     ]
    },
    {
     "name": "stderr",
     "output_type": "stream",
     "text": [
      "  1%|          | 101/10000 [00:06<10:36, 15.55it/s]\n"
     ]
    },
    {
     "name": "stdout",
     "output_type": "stream",
     "text": [
      "Attack Method: fw\tNorm: 1\tTargeted: True\tStep Rule: ls\n",
      "Epsilon: 0.05\tCorrect Classifications (Failed Attacks) = 23 / 100 = 0.23\tTime: 27.20s\n",
      "Total queries made: 205\n"
     ]
    },
    {
     "name": "stderr",
     "output_type": "stream",
     "text": [
      "  1%|          | 101/10000 [00:00<00:52, 187.18it/s]\n"
     ]
    },
    {
     "name": "stdout",
     "output_type": "stream",
     "text": [
      "Attack Method: fw\tNorm: 1\tTargeted: False\tStep Rule: lipschitz_mnist\n",
      "Epsilon: 0.05\tCorrect Classifications (Failed Attacks) = 9 / 100 = 0.09\tTime: 2.64s\n",
      "Total queries made: 202\n"
     ]
    },
    {
     "name": "stderr",
     "output_type": "stream",
     "text": [
      "  1%|          | 101/10000 [00:00<00:49, 200.75it/s]\n"
     ]
    },
    {
     "name": "stdout",
     "output_type": "stream",
     "text": [
      "Attack Method: fw\tNorm: 1\tTargeted: False\tStep Rule: decay\n",
      "Epsilon: 0.05\tCorrect Classifications (Failed Attacks) = 9 / 100 = 0.09\tTime: 2.36s\n",
      "Total queries made: 202\n"
     ]
    },
    {
     "name": "stderr",
     "output_type": "stream",
     "text": [
      "  1%|          | 101/10000 [00:00<01:33, 105.42it/s]\n"
     ]
    },
    {
     "name": "stdout",
     "output_type": "stream",
     "text": [
      "Attack Method: fw\tNorm: 1\tTargeted: False\tStep Rule: amjo\n",
      "Epsilon: 0.05\tCorrect Classifications (Failed Attacks) = 9 / 100 = 0.09\tTime: 4.33s\n",
      "Total queries made: 202\n"
     ]
    },
    {
     "name": "stderr",
     "output_type": "stream",
     "text": [
      "  1%|          | 101/10000 [00:06<11:22, 14.51it/s]\n"
     ]
    },
    {
     "name": "stdout",
     "output_type": "stream",
     "text": [
      "Attack Method: fw\tNorm: 1\tTargeted: False\tStep Rule: ls\n",
      "Epsilon: 0.05\tCorrect Classifications (Failed Attacks) = 9 / 100 = 0.09\tTime: 27.36s\n",
      "Total queries made: 202\n"
     ]
    },
    {
     "name": "stderr",
     "output_type": "stream",
     "text": [
      "  1%|          | 101/10000 [00:04<07:39, 21.53it/s]\n"
     ]
    },
    {
     "name": "stdout",
     "output_type": "stream",
     "text": [
      "Attack Method: fw\tNorm: 2\tTargeted: True\tStep Rule: lipschitz_mnist\n",
      "Epsilon: 0.05\tCorrect Classifications (Failed Attacks) = 100 / 100 = 1.0\tTime: 18.56s\n",
      "Total queries made: 2002\n"
     ]
    },
    {
     "name": "stderr",
     "output_type": "stream",
     "text": [
      "  1%|          | 101/10000 [00:04<07:38, 21.59it/s]\n"
     ]
    },
    {
     "name": "stdout",
     "output_type": "stream",
     "text": [
      "Attack Method: fw\tNorm: 2\tTargeted: True\tStep Rule: decay\n",
      "Epsilon: 0.05\tCorrect Classifications (Failed Attacks) = 100 / 100 = 1.0\tTime: 18.00s\n",
      "Total queries made: 2002\n"
     ]
    },
    {
     "name": "stderr",
     "output_type": "stream",
     "text": [
      "  1%|          | 101/10000 [00:06<11:18, 14.59it/s]\n"
     ]
    },
    {
     "name": "stdout",
     "output_type": "stream",
     "text": [
      "Attack Method: fw\tNorm: 2\tTargeted: True\tStep Rule: amjo\n",
      "Epsilon: 0.05\tCorrect Classifications (Failed Attacks) = 100 / 100 = 1.0\tTime: 30.91s\n",
      "Total queries made: 2002\n"
     ]
    },
    {
     "name": "stderr",
     "output_type": "stream",
     "text": [
      "  1%|          | 101/10000 [00:59<1:36:43,  1.71it/s]\n"
     ]
    },
    {
     "name": "stdout",
     "output_type": "stream",
     "text": [
      "Attack Method: fw\tNorm: 2\tTargeted: True\tStep Rule: ls\n",
      "Epsilon: 0.05\tCorrect Classifications (Failed Attacks) = 100 / 100 = 1.0\tTime: 274.50s\n",
      "Total queries made: 2002\n"
     ]
    },
    {
     "name": "stderr",
     "output_type": "stream",
     "text": [
      "  1%|          | 101/10000 [00:04<07:20, 22.49it/s]\n"
     ]
    },
    {
     "name": "stdout",
     "output_type": "stream",
     "text": [
      "Attack Method: fw\tNorm: 2\tTargeted: False\tStep Rule: lipschitz_mnist\n",
      "Epsilon: 0.05\tCorrect Classifications (Failed Attacks) = 99 / 100 = 0.99\tTime: 20.44s\n",
      "Total queries made: 1984\n"
     ]
    },
    {
     "name": "stderr",
     "output_type": "stream",
     "text": [
      "  1%|          | 101/10000 [00:04<07:24, 22.28it/s]\n"
     ]
    },
    {
     "name": "stdout",
     "output_type": "stream",
     "text": [
      "Attack Method: fw\tNorm: 2\tTargeted: False\tStep Rule: decay\n",
      "Epsilon: 0.05\tCorrect Classifications (Failed Attacks) = 99 / 100 = 0.99\tTime: 20.91s\n",
      "Total queries made: 1984\n"
     ]
    },
    {
     "name": "stderr",
     "output_type": "stream",
     "text": [
      "  1%|          | 101/10000 [00:07<11:31, 14.31it/s]\n"
     ]
    },
    {
     "name": "stdout",
     "output_type": "stream",
     "text": [
      "Attack Method: fw\tNorm: 2\tTargeted: False\tStep Rule: amjo\n",
      "Epsilon: 0.05\tCorrect Classifications (Failed Attacks) = 99 / 100 = 0.99\tTime: 33.83s\n",
      "Total queries made: 1984\n"
     ]
    },
    {
     "name": "stderr",
     "output_type": "stream",
     "text": [
      "  1%|          | 101/10000 [01:03<1:43:43,  1.59it/s]\n"
     ]
    },
    {
     "name": "stdout",
     "output_type": "stream",
     "text": [
      "Attack Method: fw\tNorm: 2\tTargeted: False\tStep Rule: ls\n",
      "Epsilon: 0.05\tCorrect Classifications (Failed Attacks) = 99 / 100 = 0.99\tTime: 297.91s\n",
      "Total queries made: 1984\n"
     ]
    },
    {
     "name": "stderr",
     "output_type": "stream",
     "text": [
      "  1%|          | 101/10000 [00:04<07:39, 21.53it/s]\n"
     ]
    },
    {
     "name": "stdout",
     "output_type": "stream",
     "text": [
      "Attack Method: fw_away\tNorm: -1\tTargeted: True\tStep Rule: lipschitz_mnist\n",
      "Epsilon: 0.05\tCorrect Classifications (Failed Attacks) = 99 / 100 = 0.99\tTime: 21.50s\n",
      "Total queries made: 2002\n"
     ]
    },
    {
     "name": "stderr",
     "output_type": "stream",
     "text": [
      "  1%|          | 101/10000 [00:05<08:38, 19.10it/s]\n"
     ]
    },
    {
     "name": "stdout",
     "output_type": "stream",
     "text": [
      "Attack Method: fw_away\tNorm: -1\tTargeted: True\tStep Rule: decay\n",
      "Epsilon: 0.05\tCorrect Classifications (Failed Attacks) = 99 / 100 = 0.99\tTime: 24.19s\n",
      "Total queries made: 2002\n"
     ]
    },
    {
     "name": "stderr",
     "output_type": "stream",
     "text": [
      "  1%|          | 101/10000 [00:07<11:45, 14.04it/s]\n"
     ]
    },
    {
     "name": "stdout",
     "output_type": "stream",
     "text": [
      "Attack Method: fw_away\tNorm: -1\tTargeted: True\tStep Rule: amjo\n",
      "Epsilon: 0.05\tCorrect Classifications (Failed Attacks) = 99 / 100 = 0.99\tTime: 33.22s\n",
      "Total queries made: 2002\n"
     ]
    },
    {
     "name": "stderr",
     "output_type": "stream",
     "text": [
      "  1%|          | 101/10000 [01:01<1:39:44,  1.65it/s]\n"
     ]
    },
    {
     "name": "stdout",
     "output_type": "stream",
     "text": [
      "Attack Method: fw_away\tNorm: -1\tTargeted: True\tStep Rule: ls\n",
      "Epsilon: 0.05\tCorrect Classifications (Failed Attacks) = 99 / 100 = 0.99\tTime: 242.58s\n",
      "Total queries made: 2002\n"
     ]
    },
    {
     "name": "stderr",
     "output_type": "stream",
     "text": [
      "  1%|          | 101/10000 [00:05<08:26, 19.54it/s]\n"
     ]
    },
    {
     "name": "stdout",
     "output_type": "stream",
     "text": [
      "Attack Method: fw_away\tNorm: -1\tTargeted: False\tStep Rule: lipschitz_mnist\n",
      "Epsilon: 0.05\tCorrect Classifications (Failed Attacks) = 95 / 100 = 0.95\tTime: 17.23s\n",
      "Total queries made: 2002\n"
     ]
    },
    {
     "name": "stderr",
     "output_type": "stream",
     "text": [
      "  1%|          | 101/10000 [00:05<09:17, 17.74it/s]\n"
     ]
    },
    {
     "name": "stdout",
     "output_type": "stream",
     "text": [
      "Attack Method: fw_away\tNorm: -1\tTargeted: False\tStep Rule: decay\n",
      "Epsilon: 0.05\tCorrect Classifications (Failed Attacks) = 93 / 100 = 0.93\tTime: 18.89s\n",
      "Total queries made: 2002\n"
     ]
    },
    {
     "name": "stderr",
     "output_type": "stream",
     "text": [
      "  1%|          | 101/10000 [00:07<12:32, 13.16it/s]\n"
     ]
    },
    {
     "name": "stdout",
     "output_type": "stream",
     "text": [
      "Attack Method: fw_away\tNorm: -1\tTargeted: False\tStep Rule: amjo\n",
      "Epsilon: 0.05\tCorrect Classifications (Failed Attacks) = 95 / 100 = 0.95\tTime: 26.25s\n",
      "Total queries made: 2002\n"
     ]
    },
    {
     "name": "stderr",
     "output_type": "stream",
     "text": [
      "  1%|          | 101/10000 [01:06<1:48:02,  1.53it/s]\n"
     ]
    },
    {
     "name": "stdout",
     "output_type": "stream",
     "text": [
      "Attack Method: fw_away\tNorm: -1\tTargeted: False\tStep Rule: ls\n",
      "Epsilon: 0.05\tCorrect Classifications (Failed Attacks) = 95 / 100 = 0.95\tTime: 254.69s\n",
      "Total queries made: 2002\n"
     ]
    },
    {
     "name": "stderr",
     "output_type": "stream",
     "text": [
      "  1%|          | 101/10000 [00:04<08:03, 20.49it/s]\n"
     ]
    },
    {
     "name": "stdout",
     "output_type": "stream",
     "text": [
      "Attack Method: fw_away\tNorm: 1\tTargeted: True\tStep Rule: lipschitz_mnist\n",
      "Epsilon: 0.05\tCorrect Classifications (Failed Attacks) = 9 / 100 = 0.09\tTime: 19.77s\n",
      "Total queries made: 2002\n"
     ]
    },
    {
     "name": "stderr",
     "output_type": "stream",
     "text": [
      "  1%|          | 101/10000 [00:05<08:32, 19.33it/s]\n"
     ]
    },
    {
     "name": "stdout",
     "output_type": "stream",
     "text": [
      "Attack Method: fw_away\tNorm: 1\tTargeted: True\tStep Rule: decay\n",
      "Epsilon: 0.05\tCorrect Classifications (Failed Attacks) = 9 / 100 = 0.09\tTime: 14.66s\n",
      "Total queries made: 2002\n"
     ]
    },
    {
     "name": "stderr",
     "output_type": "stream",
     "text": [
      "  1%|          | 101/10000 [00:14<23:49,  6.92it/s]\n"
     ]
    },
    {
     "name": "stdout",
     "output_type": "stream",
     "text": [
      "Attack Method: fw_away\tNorm: 1\tTargeted: True\tStep Rule: amjo\n",
      "Epsilon: 0.05\tCorrect Classifications (Failed Attacks) = 9 / 100 = 0.09\tTime: 47.72s\n",
      "Total queries made: 2002\n"
     ]
    },
    {
     "name": "stderr",
     "output_type": "stream",
     "text": [
      "  1%|          | 101/10000 [01:04<1:45:10,  1.57it/s]\n"
     ]
    },
    {
     "name": "stdout",
     "output_type": "stream",
     "text": [
      "Attack Method: fw_away\tNorm: 1\tTargeted: True\tStep Rule: ls\n",
      "Epsilon: 0.05\tCorrect Classifications (Failed Attacks) = 28 / 100 = 0.28\tTime: 211.42s\n",
      "Total queries made: 2002\n"
     ]
    },
    {
     "name": "stderr",
     "output_type": "stream",
     "text": [
      "  1%|          | 101/10000 [00:05<08:41, 18.96it/s]\n"
     ]
    },
    {
     "name": "stdout",
     "output_type": "stream",
     "text": [
      "Attack Method: fw_away\tNorm: 1\tTargeted: False\tStep Rule: lipschitz_mnist\n",
      "Epsilon: 0.05\tCorrect Classifications (Failed Attacks) = 9 / 100 = 0.09\tTime: 18.11s\n",
      "Total queries made: 2002\n"
     ]
    },
    {
     "name": "stderr",
     "output_type": "stream",
     "text": [
      "  1%|          | 101/10000 [00:05<09:42, 17.00it/s]\n"
     ]
    },
    {
     "name": "stdout",
     "output_type": "stream",
     "text": [
      "Attack Method: fw_away\tNorm: 1\tTargeted: False\tStep Rule: decay\n",
      "Epsilon: 0.05\tCorrect Classifications (Failed Attacks) = 9 / 100 = 0.09\tTime: 18.25s\n",
      "Total queries made: 2002\n"
     ]
    },
    {
     "name": "stderr",
     "output_type": "stream",
     "text": [
      "  1%|          | 101/10000 [00:12<21:05,  7.82it/s]\n"
     ]
    },
    {
     "name": "stdout",
     "output_type": "stream",
     "text": [
      "Attack Method: fw_away\tNorm: 1\tTargeted: False\tStep Rule: amjo\n",
      "Epsilon: 0.05\tCorrect Classifications (Failed Attacks) = 9 / 100 = 0.09\tTime: 42.09s\n",
      "Total queries made: 2002\n"
     ]
    },
    {
     "name": "stderr",
     "output_type": "stream",
     "text": [
      "  1%|          | 101/10000 [01:11<1:57:31,  1.40it/s]\n"
     ]
    },
    {
     "name": "stdout",
     "output_type": "stream",
     "text": [
      "Attack Method: fw_away\tNorm: 1\tTargeted: False\tStep Rule: ls\n",
      "Epsilon: 0.05\tCorrect Classifications (Failed Attacks) = 9 / 100 = 0.09\tTime: 240.14s\n",
      "Total queries made: 2002\n"
     ]
    },
    {
     "name": "stderr",
     "output_type": "stream",
     "text": [
      "  1%|          | 101/10000 [00:05<08:10, 20.20it/s]\n"
     ]
    },
    {
     "name": "stdout",
     "output_type": "stream",
     "text": [
      "Attack Method: fw_away\tNorm: 2\tTargeted: True\tStep Rule: lipschitz_mnist\n",
      "Epsilon: 0.05\tCorrect Classifications (Failed Attacks) = 100 / 100 = 1.0\tTime: 15.80s\n",
      "Total queries made: 2002\n"
     ]
    },
    {
     "name": "stderr",
     "output_type": "stream",
     "text": [
      "  1%|          | 101/10000 [00:05<09:18, 17.74it/s]\n"
     ]
    },
    {
     "name": "stdout",
     "output_type": "stream",
     "text": [
      "Attack Method: fw_away\tNorm: 2\tTargeted: True\tStep Rule: decay\n",
      "Epsilon: 0.05\tCorrect Classifications (Failed Attacks) = 100 / 100 = 1.0\tTime: 17.73s\n",
      "Total queries made: 2002\n"
     ]
    },
    {
     "name": "stderr",
     "output_type": "stream",
     "text": [
      "  1%|          | 101/10000 [00:07<11:57, 13.79it/s]\n"
     ]
    },
    {
     "name": "stdout",
     "output_type": "stream",
     "text": [
      "Attack Method: fw_away\tNorm: 2\tTargeted: True\tStep Rule: amjo\n",
      "Epsilon: 0.05\tCorrect Classifications (Failed Attacks) = 100 / 100 = 1.0\tTime: 23.91s\n",
      "Total queries made: 2002\n"
     ]
    },
    {
     "name": "stderr",
     "output_type": "stream",
     "text": [
      "  1%|          | 101/10000 [01:03<1:43:53,  1.59it/s]\n"
     ]
    },
    {
     "name": "stdout",
     "output_type": "stream",
     "text": [
      "Attack Method: fw_away\tNorm: 2\tTargeted: True\tStep Rule: ls\n",
      "Epsilon: 0.05\tCorrect Classifications (Failed Attacks) = 100 / 100 = 1.0\tTime: 218.31s\n",
      "Total queries made: 2002\n"
     ]
    },
    {
     "name": "stderr",
     "output_type": "stream",
     "text": [
      "  1%|          | 101/10000 [00:05<08:30, 19.41it/s]\n"
     ]
    },
    {
     "name": "stdout",
     "output_type": "stream",
     "text": [
      "Attack Method: fw_away\tNorm: 2\tTargeted: False\tStep Rule: lipschitz_mnist\n",
      "Epsilon: 0.05\tCorrect Classifications (Failed Attacks) = 99 / 100 = 0.99\tTime: 19.09s\n",
      "Total queries made: 2002\n"
     ]
    },
    {
     "name": "stderr",
     "output_type": "stream",
     "text": [
      "  1%|          | 101/10000 [00:05<09:32, 17.31it/s]\n"
     ]
    },
    {
     "name": "stdout",
     "output_type": "stream",
     "text": [
      "Attack Method: fw_away\tNorm: 2\tTargeted: False\tStep Rule: decay\n",
      "Epsilon: 0.05\tCorrect Classifications (Failed Attacks) = 99 / 100 = 0.99\tTime: 20.73s\n",
      "Total queries made: 2002\n"
     ]
    },
    {
     "name": "stderr",
     "output_type": "stream",
     "text": [
      "  1%|          | 101/10000 [00:08<13:07, 12.57it/s]\n"
     ]
    },
    {
     "name": "stdout",
     "output_type": "stream",
     "text": [
      "Attack Method: fw_away\tNorm: 2\tTargeted: False\tStep Rule: amjo\n",
      "Epsilon: 0.05\tCorrect Classifications (Failed Attacks) = 99 / 100 = 0.99\tTime: 25.42s\n",
      "Total queries made: 2002\n"
     ]
    },
    {
     "name": "stderr",
     "output_type": "stream",
     "text": [
      "  1%|          | 101/10000 [01:07<1:49:38,  1.50it/s]\n"
     ]
    },
    {
     "name": "stdout",
     "output_type": "stream",
     "text": [
      "Attack Method: fw_away\tNorm: 2\tTargeted: False\tStep Rule: ls\n",
      "Epsilon: 0.05\tCorrect Classifications (Failed Attacks) = 99 / 100 = 0.99\tTime: 228.84s\n",
      "Total queries made: 2002\n"
     ]
    },
    {
     "name": "stderr",
     "output_type": "stream",
     "text": [
      "  1%|          | 101/10000 [00:04<07:43, 21.35it/s]\n"
     ]
    },
    {
     "name": "stdout",
     "output_type": "stream",
     "text": [
      "Attack Method: fw_pair\tNorm: -1\tTargeted: True\tStep Rule: lipschitz_mnist\n",
      "Epsilon: 0.05\tCorrect Classifications (Failed Attacks) = 99 / 100 = 0.99\tTime: 15.72s\n",
      "Total queries made: 2002\n"
     ]
    },
    {
     "name": "stderr",
     "output_type": "stream",
     "text": [
      "  1%|          | 101/10000 [00:05<08:11, 20.15it/s]\n"
     ]
    },
    {
     "name": "stdout",
     "output_type": "stream",
     "text": [
      "Attack Method: fw_pair\tNorm: -1\tTargeted: True\tStep Rule: decay\n",
      "Epsilon: 0.05\tCorrect Classifications (Failed Attacks) = 99 / 100 = 0.99\tTime: 17.28s\n",
      "Total queries made: 2002\n"
     ]
    },
    {
     "name": "stderr",
     "output_type": "stream",
     "text": [
      "  1%|          | 101/10000 [00:09<14:57, 11.03it/s]\n"
     ]
    },
    {
     "name": "stdout",
     "output_type": "stream",
     "text": [
      "Attack Method: fw_pair\tNorm: -1\tTargeted: True\tStep Rule: amjo\n",
      "Epsilon: 0.05\tCorrect Classifications (Failed Attacks) = 99 / 100 = 0.99\tTime: 27.17s\n",
      "Total queries made: 2002\n"
     ]
    },
    {
     "name": "stderr",
     "output_type": "stream",
     "text": [
      "  1%|          | 101/10000 [01:06<1:49:08,  1.51it/s]\n"
     ]
    },
    {
     "name": "stdout",
     "output_type": "stream",
     "text": [
      "Attack Method: fw_pair\tNorm: -1\tTargeted: True\tStep Rule: ls\n",
      "Epsilon: 0.05\tCorrect Classifications (Failed Attacks) = 99 / 100 = 0.99\tTime: 250.34s\n",
      "Total queries made: 2002\n"
     ]
    },
    {
     "name": "stderr",
     "output_type": "stream",
     "text": [
      "  1%|          | 101/10000 [00:05<08:39, 19.07it/s]\n"
     ]
    },
    {
     "name": "stdout",
     "output_type": "stream",
     "text": [
      "Attack Method: fw_pair\tNorm: -1\tTargeted: False\tStep Rule: lipschitz_mnist\n",
      "Epsilon: 0.05\tCorrect Classifications (Failed Attacks) = 95 / 100 = 0.95\tTime: 17.72s\n",
      "Total queries made: 1949\n"
     ]
    },
    {
     "name": "stderr",
     "output_type": "stream",
     "text": [
      "  1%|          | 101/10000 [00:05<08:32, 19.32it/s]\n"
     ]
    },
    {
     "name": "stdout",
     "output_type": "stream",
     "text": [
      "Attack Method: fw_pair\tNorm: -1\tTargeted: False\tStep Rule: decay\n",
      "Epsilon: 0.05\tCorrect Classifications (Failed Attacks) = 93 / 100 = 0.93\tTime: 23.94s\n",
      "Total queries made: 1934\n"
     ]
    },
    {
     "name": "stderr",
     "output_type": "stream",
     "text": [
      "  1%|          | 101/10000 [00:09<14:48, 11.14it/s]\n"
     ]
    },
    {
     "name": "stdout",
     "output_type": "stream",
     "text": [
      "Attack Method: fw_pair\tNorm: -1\tTargeted: False\tStep Rule: amjo\n",
      "Epsilon: 0.05\tCorrect Classifications (Failed Attacks) = 93 / 100 = 0.93\tTime: 42.00s\n",
      "Total queries made: 1935\n"
     ]
    },
    {
     "name": "stderr",
     "output_type": "stream",
     "text": [
      "  1%|          | 101/10000 [01:07<1:49:30,  1.51it/s]\n"
     ]
    },
    {
     "name": "stdout",
     "output_type": "stream",
     "text": [
      "Attack Method: fw_pair\tNorm: -1\tTargeted: False\tStep Rule: ls\n",
      "Epsilon: 0.05\tCorrect Classifications (Failed Attacks) = 93 / 100 = 0.93\tTime: 308.38s\n",
      "Total queries made: 1935\n"
     ]
    },
    {
     "name": "stderr",
     "output_type": "stream",
     "text": [
      "  1%|          | 101/10000 [00:00<00:53, 185.39it/s]\n"
     ]
    },
    {
     "name": "stdout",
     "output_type": "stream",
     "text": [
      "Attack Method: fw_pair\tNorm: 1\tTargeted: True\tStep Rule: lipschitz_mnist\n",
      "Epsilon: 0.05\tCorrect Classifications (Failed Attacks) = 9 / 100 = 0.09\tTime: 2.55s\n",
      "Total queries made: 202\n"
     ]
    },
    {
     "name": "stderr",
     "output_type": "stream",
     "text": [
      "  1%|          | 101/10000 [00:00<00:53, 184.82it/s]\n"
     ]
    },
    {
     "name": "stdout",
     "output_type": "stream",
     "text": [
      "Attack Method: fw_pair\tNorm: 1\tTargeted: True\tStep Rule: decay\n",
      "Epsilon: 0.05\tCorrect Classifications (Failed Attacks) = 9 / 100 = 0.09\tTime: 2.67s\n",
      "Total queries made: 202\n"
     ]
    },
    {
     "name": "stderr",
     "output_type": "stream",
     "text": [
      "  1%|          | 101/10000 [00:01<02:11, 75.46it/s]\n"
     ]
    },
    {
     "name": "stdout",
     "output_type": "stream",
     "text": [
      "Attack Method: fw_pair\tNorm: 1\tTargeted: True\tStep Rule: amjo\n",
      "Epsilon: 0.05\tCorrect Classifications (Failed Attacks) = 9 / 100 = 0.09\tTime: 6.20s\n",
      "Total queries made: 202\n"
     ]
    },
    {
     "name": "stderr",
     "output_type": "stream",
     "text": [
      "  1%|          | 101/10000 [00:06<10:31, 15.67it/s]\n"
     ]
    },
    {
     "name": "stdout",
     "output_type": "stream",
     "text": [
      "Attack Method: fw_pair\tNorm: 1\tTargeted: True\tStep Rule: ls\n",
      "Epsilon: 0.05\tCorrect Classifications (Failed Attacks) = 24 / 100 = 0.24\tTime: 30.38s\n",
      "Total queries made: 205\n"
     ]
    },
    {
     "name": "stderr",
     "output_type": "stream",
     "text": [
      "  1%|          | 101/10000 [00:00<00:54, 183.10it/s]\n"
     ]
    },
    {
     "name": "stdout",
     "output_type": "stream",
     "text": [
      "Attack Method: fw_pair\tNorm: 1\tTargeted: False\tStep Rule: lipschitz_mnist\n",
      "Epsilon: 0.05\tCorrect Classifications (Failed Attacks) = 9 / 100 = 0.09\tTime: 2.45s\n",
      "Total queries made: 202\n"
     ]
    },
    {
     "name": "stderr",
     "output_type": "stream",
     "text": [
      "  1%|          | 101/10000 [00:00<00:54, 181.95it/s]\n"
     ]
    },
    {
     "name": "stdout",
     "output_type": "stream",
     "text": [
      "Attack Method: fw_pair\tNorm: 1\tTargeted: False\tStep Rule: decay\n",
      "Epsilon: 0.05\tCorrect Classifications (Failed Attacks) = 9 / 100 = 0.09\tTime: 2.47s\n",
      "Total queries made: 202\n"
     ]
    },
    {
     "name": "stderr",
     "output_type": "stream",
     "text": [
      "  1%|          | 101/10000 [00:01<01:40, 98.81it/s]\n"
     ]
    },
    {
     "name": "stdout",
     "output_type": "stream",
     "text": [
      "Attack Method: fw_pair\tNorm: 1\tTargeted: False\tStep Rule: amjo\n",
      "Epsilon: 0.05\tCorrect Classifications (Failed Attacks) = 9 / 100 = 0.09\tTime: 4.52s\n",
      "Total queries made: 202\n"
     ]
    },
    {
     "name": "stderr",
     "output_type": "stream",
     "text": [
      "  1%|          | 101/10000 [00:07<11:27, 14.39it/s]\n"
     ]
    },
    {
     "name": "stdout",
     "output_type": "stream",
     "text": [
      "Attack Method: fw_pair\tNorm: 1\tTargeted: False\tStep Rule: ls\n",
      "Epsilon: 0.05\tCorrect Classifications (Failed Attacks) = 9 / 100 = 0.09\tTime: 31.67s\n",
      "Total queries made: 202\n"
     ]
    },
    {
     "name": "stderr",
     "output_type": "stream",
     "text": [
      "  1%|          | 101/10000 [00:04<07:59, 20.66it/s]\n"
     ]
    },
    {
     "name": "stdout",
     "output_type": "stream",
     "text": [
      "Attack Method: fw_pair\tNorm: 2\tTargeted: True\tStep Rule: lipschitz_mnist\n",
      "Epsilon: 0.05\tCorrect Classifications (Failed Attacks) = 100 / 100 = 1.0\tTime: 23.08s\n",
      "Total queries made: 2002\n"
     ]
    },
    {
     "name": "stderr",
     "output_type": "stream",
     "text": [
      "  1%|          | 101/10000 [00:05<08:27, 19.50it/s]\n"
     ]
    },
    {
     "name": "stdout",
     "output_type": "stream",
     "text": [
      "Attack Method: fw_pair\tNorm: 2\tTargeted: True\tStep Rule: decay\n",
      "Epsilon: 0.05\tCorrect Classifications (Failed Attacks) = 100 / 100 = 1.0\tTime: 23.22s\n",
      "Total queries made: 2002\n"
     ]
    },
    {
     "name": "stderr",
     "output_type": "stream",
     "text": [
      "  1%|          | 101/10000 [00:09<15:55, 10.36it/s]\n"
     ]
    },
    {
     "name": "stdout",
     "output_type": "stream",
     "text": [
      "Attack Method: fw_pair\tNorm: 2\tTargeted: True\tStep Rule: amjo\n",
      "Epsilon: 0.05\tCorrect Classifications (Failed Attacks) = 100 / 100 = 1.0\tTime: 43.83s\n",
      "Total queries made: 2002\n"
     ]
    },
    {
     "name": "stderr",
     "output_type": "stream",
     "text": [
      "  1%|          | 101/10000 [01:03<1:44:26,  1.58it/s]\n"
     ]
    },
    {
     "name": "stdout",
     "output_type": "stream",
     "text": [
      "Attack Method: fw_pair\tNorm: 2\tTargeted: True\tStep Rule: ls\n",
      "Epsilon: 0.05\tCorrect Classifications (Failed Attacks) = 100 / 100 = 1.0\tTime: 287.94s\n",
      "Total queries made: 2002\n"
     ]
    },
    {
     "name": "stderr",
     "output_type": "stream",
     "text": [
      "  1%|          | 101/10000 [00:05<08:17, 19.89it/s]\n"
     ]
    },
    {
     "name": "stdout",
     "output_type": "stream",
     "text": [
      "Attack Method: fw_pair\tNorm: 2\tTargeted: False\tStep Rule: lipschitz_mnist\n",
      "Epsilon: 0.05\tCorrect Classifications (Failed Attacks) = 99 / 100 = 0.99\tTime: 22.75s\n",
      "Total queries made: 1984\n"
     ]
    },
    {
     "name": "stderr",
     "output_type": "stream",
     "text": [
      "  1%|          | 101/10000 [00:05<08:44, 18.86it/s]\n"
     ]
    },
    {
     "name": "stdout",
     "output_type": "stream",
     "text": [
      "Attack Method: fw_pair\tNorm: 2\tTargeted: False\tStep Rule: decay\n",
      "Epsilon: 0.05\tCorrect Classifications (Failed Attacks) = 99 / 100 = 0.99\tTime: 25.52s\n",
      "Total queries made: 1984\n"
     ]
    },
    {
     "name": "stderr",
     "output_type": "stream",
     "text": [
      "  1%|          | 101/10000 [00:10<16:44,  9.86it/s]\n"
     ]
    },
    {
     "name": "stdout",
     "output_type": "stream",
     "text": [
      "Attack Method: fw_pair\tNorm: 2\tTargeted: False\tStep Rule: amjo\n",
      "Epsilon: 0.05\tCorrect Classifications (Failed Attacks) = 99 / 100 = 0.99\tTime: 46.92s\n",
      "Total queries made: 1984\n"
     ]
    },
    {
     "name": "stderr",
     "output_type": "stream",
     "text": [
      "  1%|          | 101/10000 [01:08<1:52:11,  1.47it/s]\n"
     ]
    },
    {
     "name": "stdout",
     "output_type": "stream",
     "text": [
      "Attack Method: fw_pair\tNorm: 2\tTargeted: False\tStep Rule: ls\n",
      "Epsilon: 0.05\tCorrect Classifications (Failed Attacks) = 99 / 100 = 0.99\tTime: 321.94s\n",
      "Total queries made: 1984\n"
     ]
    },
    {
     "name": "stderr",
     "output_type": "stream",
     "text": [
      "  1%|          | 101/10000 [00:03<05:11, 31.81it/s]\n"
     ]
    },
    {
     "name": "stdout",
     "output_type": "stream",
     "text": [
      "Attack Method: fw\tNorm: -1\tTargeted: True\tStep Rule: lipschitz_mnist\n",
      "Epsilon: 0.3\tCorrect Classifications (Failed Attacks) = 45 / 100 = 0.45\tTime: 15.59s\n",
      "Total queries made: 1321\n"
     ]
    },
    {
     "name": "stderr",
     "output_type": "stream",
     "text": [
      "  1%|          | 101/10000 [00:01<02:54, 56.69it/s]\n"
     ]
    },
    {
     "name": "stdout",
     "output_type": "stream",
     "text": [
      "Attack Method: fw\tNorm: -1\tTargeted: True\tStep Rule: decay\n",
      "Epsilon: 0.3\tCorrect Classifications (Failed Attacks) = 3 / 100 = 0.03\tTime: 8.30s\n",
      "Total queries made: 734\n"
     ]
    },
    {
     "name": "stderr",
     "output_type": "stream",
     "text": [
      "  1%|          | 101/10000 [00:04<06:32, 25.19it/s]\n"
     ]
    },
    {
     "name": "stdout",
     "output_type": "stream",
     "text": [
      "Attack Method: fw\tNorm: -1\tTargeted: True\tStep Rule: amjo\n",
      "Epsilon: 0.3\tCorrect Classifications (Failed Attacks) = 2 / 100 = 0.02\tTime: 18.53s\n",
      "Total queries made: 742\n"
     ]
    },
    {
     "name": "stderr",
     "output_type": "stream",
     "text": [
      "  1%|          | 101/10000 [00:23<37:53,  4.35it/s] \n"
     ]
    },
    {
     "name": "stdout",
     "output_type": "stream",
     "text": [
      "Attack Method: fw\tNorm: -1\tTargeted: True\tStep Rule: ls\n",
      "Epsilon: 0.3\tCorrect Classifications (Failed Attacks) = 0 / 100 = 0.0\tTime: 108.17s\n",
      "Total queries made: 733\n"
     ]
    },
    {
     "name": "stderr",
     "output_type": "stream",
     "text": [
      "  1%|          | 101/10000 [00:00<01:37, 101.17it/s]\n"
     ]
    },
    {
     "name": "stdout",
     "output_type": "stream",
     "text": [
      "Attack Method: fw\tNorm: -1\tTargeted: False\tStep Rule: lipschitz_mnist\n",
      "Epsilon: 0.3\tCorrect Classifications (Failed Attacks) = 3 / 100 = 0.03\tTime: 4.80s\n",
      "Total queries made: 394\n"
     ]
    },
    {
     "name": "stderr",
     "output_type": "stream",
     "text": [
      "  1%|          | 101/10000 [00:00<01:24, 116.49it/s]\n"
     ]
    },
    {
     "name": "stdout",
     "output_type": "stream",
     "text": [
      "Attack Method: fw\tNorm: -1\tTargeted: False\tStep Rule: decay\n",
      "Epsilon: 0.3\tCorrect Classifications (Failed Attacks) = 1 / 100 = 0.01\tTime: 4.12s\n",
      "Total queries made: 355\n"
     ]
    },
    {
     "name": "stderr",
     "output_type": "stream",
     "text": [
      "  1%|          | 101/10000 [00:01<03:12, 51.41it/s]\n"
     ]
    },
    {
     "name": "stdout",
     "output_type": "stream",
     "text": [
      "Attack Method: fw\tNorm: -1\tTargeted: False\tStep Rule: amjo\n",
      "Epsilon: 0.3\tCorrect Classifications (Failed Attacks) = 0 / 100 = 0.0\tTime: 9.11s\n",
      "Total queries made: 371\n"
     ]
    },
    {
     "name": "stderr",
     "output_type": "stream",
     "text": [
      "  1%|          | 101/10000 [00:12<19:57,  8.27it/s]\n"
     ]
    },
    {
     "name": "stdout",
     "output_type": "stream",
     "text": [
      "Attack Method: fw\tNorm: -1\tTargeted: False\tStep Rule: ls\n",
      "Epsilon: 0.3\tCorrect Classifications (Failed Attacks) = 0 / 100 = 0.0\tTime: 55.73s\n",
      "Total queries made: 354\n"
     ]
    },
    {
     "name": "stderr",
     "output_type": "stream",
     "text": [
      "  1%|          | 101/10000 [00:00<00:51, 193.64it/s]\n"
     ]
    },
    {
     "name": "stdout",
     "output_type": "stream",
     "text": [
      "Attack Method: fw\tNorm: 1\tTargeted: True\tStep Rule: lipschitz_mnist\n",
      "Epsilon: 0.3\tCorrect Classifications (Failed Attacks) = 9 / 100 = 0.09\tTime: 2.50s\n",
      "Total queries made: 202\n"
     ]
    },
    {
     "name": "stderr",
     "output_type": "stream",
     "text": [
      "  1%|          | 101/10000 [00:00<00:51, 194.08it/s]\n"
     ]
    },
    {
     "name": "stdout",
     "output_type": "stream",
     "text": [
      "Attack Method: fw\tNorm: 1\tTargeted: True\tStep Rule: decay\n",
      "Epsilon: 0.3\tCorrect Classifications (Failed Attacks) = 9 / 100 = 0.09\tTime: 2.66s\n",
      "Total queries made: 202\n"
     ]
    },
    {
     "name": "stderr",
     "output_type": "stream",
     "text": [
      "  1%|          | 101/10000 [00:01<02:04, 79.44it/s]\n"
     ]
    },
    {
     "name": "stdout",
     "output_type": "stream",
     "text": [
      "Attack Method: fw\tNorm: 1\tTargeted: True\tStep Rule: amjo\n",
      "Epsilon: 0.3\tCorrect Classifications (Failed Attacks) = 9 / 100 = 0.09\tTime: 6.16s\n",
      "Total queries made: 202\n"
     ]
    },
    {
     "name": "stderr",
     "output_type": "stream",
     "text": [
      "  1%|          | 101/10000 [00:06<10:37, 15.53it/s]\n"
     ]
    },
    {
     "name": "stdout",
     "output_type": "stream",
     "text": [
      "Attack Method: fw\tNorm: 1\tTargeted: True\tStep Rule: ls\n",
      "Epsilon: 0.3\tCorrect Classifications (Failed Attacks) = 23 / 100 = 0.23\tTime: 31.16s\n",
      "Total queries made: 203\n"
     ]
    },
    {
     "name": "stderr",
     "output_type": "stream",
     "text": [
      "  1%|          | 101/10000 [00:00<00:54, 182.80it/s]\n"
     ]
    },
    {
     "name": "stdout",
     "output_type": "stream",
     "text": [
      "Attack Method: fw\tNorm: 1\tTargeted: False\tStep Rule: lipschitz_mnist\n",
      "Epsilon: 0.3\tCorrect Classifications (Failed Attacks) = 9 / 100 = 0.09\tTime: 2.70s\n",
      "Total queries made: 202\n"
     ]
    },
    {
     "name": "stderr",
     "output_type": "stream",
     "text": [
      "  1%|          | 101/10000 [00:00<00:53, 186.45it/s]\n"
     ]
    },
    {
     "name": "stdout",
     "output_type": "stream",
     "text": [
      "Attack Method: fw\tNorm: 1\tTargeted: False\tStep Rule: decay\n",
      "Epsilon: 0.3\tCorrect Classifications (Failed Attacks) = 9 / 100 = 0.09\tTime: 2.42s\n",
      "Total queries made: 202\n"
     ]
    },
    {
     "name": "stderr",
     "output_type": "stream",
     "text": [
      "  1%|          | 101/10000 [00:01<01:38, 100.12it/s]\n"
     ]
    },
    {
     "name": "stdout",
     "output_type": "stream",
     "text": [
      "Attack Method: fw\tNorm: 1\tTargeted: False\tStep Rule: amjo\n",
      "Epsilon: 0.3\tCorrect Classifications (Failed Attacks) = 9 / 100 = 0.09\tTime: 4.64s\n",
      "Total queries made: 202\n"
     ]
    },
    {
     "name": "stderr",
     "output_type": "stream",
     "text": [
      "  1%|          | 101/10000 [00:06<11:24, 14.46it/s]\n"
     ]
    },
    {
     "name": "stdout",
     "output_type": "stream",
     "text": [
      "Attack Method: fw\tNorm: 1\tTargeted: False\tStep Rule: ls\n",
      "Epsilon: 0.3\tCorrect Classifications (Failed Attacks) = 9 / 100 = 0.09\tTime: 33.78s\n",
      "Total queries made: 202\n"
     ]
    },
    {
     "name": "stderr",
     "output_type": "stream",
     "text": [
      "  1%|          | 101/10000 [00:04<07:45, 21.26it/s]\n"
     ]
    },
    {
     "name": "stdout",
     "output_type": "stream",
     "text": [
      "Attack Method: fw\tNorm: 2\tTargeted: True\tStep Rule: lipschitz_mnist\n",
      "Epsilon: 0.3\tCorrect Classifications (Failed Attacks) = 95 / 100 = 0.95\tTime: 21.53s\n",
      "Total queries made: 2002\n"
     ]
    },
    {
     "name": "stderr",
     "output_type": "stream",
     "text": [
      "  1%|          | 101/10000 [00:04<07:45, 21.27it/s]\n"
     ]
    },
    {
     "name": "stdout",
     "output_type": "stream",
     "text": [
      "Attack Method: fw\tNorm: 2\tTargeted: True\tStep Rule: decay\n",
      "Epsilon: 0.3\tCorrect Classifications (Failed Attacks) = 92 / 100 = 0.92\tTime: 21.84s\n",
      "Total queries made: 2002\n"
     ]
    },
    {
     "name": "stderr",
     "output_type": "stream",
     "text": [
      "  1%|          | 101/10000 [00:07<12:15, 13.46it/s]\n"
     ]
    },
    {
     "name": "stdout",
     "output_type": "stream",
     "text": [
      "Attack Method: fw\tNorm: 2\tTargeted: True\tStep Rule: amjo\n",
      "Epsilon: 0.3\tCorrect Classifications (Failed Attacks) = 94 / 100 = 0.94\tTime: 35.30s\n",
      "Total queries made: 2002\n"
     ]
    },
    {
     "name": "stderr",
     "output_type": "stream",
     "text": [
      "  1%|          | 101/10000 [01:03<1:43:48,  1.59it/s]\n"
     ]
    },
    {
     "name": "stdout",
     "output_type": "stream",
     "text": [
      "Attack Method: fw\tNorm: 2\tTargeted: True\tStep Rule: ls\n",
      "Epsilon: 0.3\tCorrect Classifications (Failed Attacks) = 95 / 100 = 0.95\tTime: 298.55s\n",
      "Total queries made: 2002\n"
     ]
    },
    {
     "name": "stderr",
     "output_type": "stream",
     "text": [
      "  1%|          | 101/10000 [00:04<07:38, 21.58it/s]\n"
     ]
    },
    {
     "name": "stdout",
     "output_type": "stream",
     "text": [
      "Attack Method: fw\tNorm: 2\tTargeted: False\tStep Rule: lipschitz_mnist\n",
      "Epsilon: 0.3\tCorrect Classifications (Failed Attacks) = 84 / 100 = 0.84\tTime: 21.97s\n",
      "Total queries made: 1851\n"
     ]
    },
    {
     "name": "stderr",
     "output_type": "stream",
     "text": [
      "  1%|          | 101/10000 [00:04<07:22, 22.35it/s]\n"
     ]
    },
    {
     "name": "stdout",
     "output_type": "stream",
     "text": [
      "Attack Method: fw\tNorm: 2\tTargeted: False\tStep Rule: decay\n",
      "Epsilon: 0.3\tCorrect Classifications (Failed Attacks) = 71 / 100 = 0.71\tTime: 19.12s\n",
      "Total queries made: 1793\n"
     ]
    },
    {
     "name": "stderr",
     "output_type": "stream",
     "text": [
      "  1%|          | 101/10000 [00:07<11:58, 13.77it/s]\n"
     ]
    },
    {
     "name": "stdout",
     "output_type": "stream",
     "text": [
      "Attack Method: fw\tNorm: 2\tTargeted: False\tStep Rule: amjo\n",
      "Epsilon: 0.3\tCorrect Classifications (Failed Attacks) = 74 / 100 = 0.74\tTime: 30.77s\n",
      "Total queries made: 1816\n"
     ]
    },
    {
     "name": "stderr",
     "output_type": "stream",
     "text": [
      "  1%|          | 101/10000 [01:03<1:43:22,  1.60it/s]\n"
     ]
    },
    {
     "name": "stdout",
     "output_type": "stream",
     "text": [
      "Attack Method: fw\tNorm: 2\tTargeted: False\tStep Rule: ls\n",
      "Epsilon: 0.3\tCorrect Classifications (Failed Attacks) = 78 / 100 = 0.78\tTime: 296.52s\n",
      "Total queries made: 1835\n"
     ]
    },
    {
     "name": "stderr",
     "output_type": "stream",
     "text": [
      "  1%|          | 101/10000 [00:05<08:25, 19.60it/s]\n"
     ]
    },
    {
     "name": "stdout",
     "output_type": "stream",
     "text": [
      "Attack Method: fw_away\tNorm: -1\tTargeted: True\tStep Rule: lipschitz_mnist\n",
      "Epsilon: 0.3\tCorrect Classifications (Failed Attacks) = 45 / 100 = 0.45\tTime: 24.33s\n",
      "Total queries made: 2002\n"
     ]
    },
    {
     "name": "stderr",
     "output_type": "stream",
     "text": [
      "  1%|          | 101/10000 [00:05<09:40, 17.04it/s]\n"
     ]
    },
    {
     "name": "stdout",
     "output_type": "stream",
     "text": [
      "Attack Method: fw_away\tNorm: -1\tTargeted: True\tStep Rule: decay\n",
      "Epsilon: 0.3\tCorrect Classifications (Failed Attacks) = 1 / 100 = 0.01\tTime: 27.31s\n",
      "Total queries made: 2002\n"
     ]
    },
    {
     "name": "stderr",
     "output_type": "stream",
     "text": [
      "  1%|          | 101/10000 [00:13<22:50,  7.22it/s]\n"
     ]
    },
    {
     "name": "stdout",
     "output_type": "stream",
     "text": [
      "Attack Method: fw_away\tNorm: -1\tTargeted: True\tStep Rule: amjo\n",
      "Epsilon: 0.3\tCorrect Classifications (Failed Attacks) = 2 / 100 = 0.02\tTime: 64.86s\n",
      "Total queries made: 2002\n"
     ]
    },
    {
     "name": "stderr",
     "output_type": "stream",
     "text": [
      "  1%|          | 101/10000 [01:04<1:45:09,  1.57it/s]\n"
     ]
    },
    {
     "name": "stdout",
     "output_type": "stream",
     "text": [
      "Attack Method: fw_away\tNorm: -1\tTargeted: True\tStep Rule: ls\n",
      "Epsilon: 0.3\tCorrect Classifications (Failed Attacks) = 0 / 100 = 0.0\tTime: 297.59s\n",
      "Total queries made: 2002\n"
     ]
    },
    {
     "name": "stderr",
     "output_type": "stream",
     "text": [
      "  1%|          | 101/10000 [00:05<08:46, 18.80it/s]\n"
     ]
    },
    {
     "name": "stdout",
     "output_type": "stream",
     "text": [
      "Attack Method: fw_away\tNorm: -1\tTargeted: False\tStep Rule: lipschitz_mnist\n",
      "Epsilon: 0.3\tCorrect Classifications (Failed Attacks) = 1 / 100 = 0.01\tTime: 25.20s\n",
      "Total queries made: 2002\n"
     ]
    },
    {
     "name": "stderr",
     "output_type": "stream",
     "text": [
      "  1%|          | 101/10000 [00:06<09:52, 16.71it/s]\n"
     ]
    },
    {
     "name": "stdout",
     "output_type": "stream",
     "text": [
      "Attack Method: fw_away\tNorm: -1\tTargeted: False\tStep Rule: decay\n",
      "Epsilon: 0.3\tCorrect Classifications (Failed Attacks) = 0 / 100 = 0.0\tTime: 26.70s\n",
      "Total queries made: 2002\n"
     ]
    },
    {
     "name": "stderr",
     "output_type": "stream",
     "text": [
      "  1%|          | 101/10000 [00:10<17:10,  9.61it/s]\n"
     ]
    },
    {
     "name": "stdout",
     "output_type": "stream",
     "text": [
      "Attack Method: fw_away\tNorm: -1\tTargeted: False\tStep Rule: amjo\n",
      "Epsilon: 0.3\tCorrect Classifications (Failed Attacks) = 0 / 100 = 0.0\tTime: 48.91s\n",
      "Total queries made: 2002\n"
     ]
    },
    {
     "name": "stderr",
     "output_type": "stream",
     "text": [
      "  1%|          | 101/10000 [01:10<1:54:42,  1.44it/s]\n"
     ]
    },
    {
     "name": "stdout",
     "output_type": "stream",
     "text": [
      "Attack Method: fw_away\tNorm: -1\tTargeted: False\tStep Rule: ls\n",
      "Epsilon: 0.3\tCorrect Classifications (Failed Attacks) = 0 / 100 = 0.0\tTime: 328.58s\n",
      "Total queries made: 2002\n"
     ]
    },
    {
     "name": "stderr",
     "output_type": "stream",
     "text": [
      "  1%|          | 101/10000 [00:05<08:34, 19.23it/s]\n"
     ]
    },
    {
     "name": "stdout",
     "output_type": "stream",
     "text": [
      "Attack Method: fw_away\tNorm: 1\tTargeted: True\tStep Rule: lipschitz_mnist\n",
      "Epsilon: 0.3\tCorrect Classifications (Failed Attacks) = 9 / 100 = 0.09\tTime: 23.80s\n",
      "Total queries made: 2002\n"
     ]
    },
    {
     "name": "stderr",
     "output_type": "stream",
     "text": [
      "  1%|          | 101/10000 [00:05<08:40, 19.00it/s]\n"
     ]
    },
    {
     "name": "stdout",
     "output_type": "stream",
     "text": [
      "Attack Method: fw_away\tNorm: 1\tTargeted: True\tStep Rule: decay\n",
      "Epsilon: 0.3\tCorrect Classifications (Failed Attacks) = 9 / 100 = 0.09\tTime: 23.02s\n",
      "Total queries made: 2002\n"
     ]
    },
    {
     "name": "stderr",
     "output_type": "stream",
     "text": [
      "  1%|          | 101/10000 [00:13<22:17,  7.40it/s]\n"
     ]
    },
    {
     "name": "stdout",
     "output_type": "stream",
     "text": [
      "Attack Method: fw_away\tNorm: 1\tTargeted: True\tStep Rule: amjo\n",
      "Epsilon: 0.3\tCorrect Classifications (Failed Attacks) = 9 / 100 = 0.09\tTime: 62.28s\n",
      "Total queries made: 2002\n"
     ]
    },
    {
     "name": "stderr",
     "output_type": "stream",
     "text": [
      "  1%|          | 101/10000 [01:04<1:44:41,  1.58it/s]\n"
     ]
    },
    {
     "name": "stdout",
     "output_type": "stream",
     "text": [
      "Attack Method: fw_away\tNorm: 1\tTargeted: True\tStep Rule: ls\n",
      "Epsilon: 0.3\tCorrect Classifications (Failed Attacks) = 27 / 100 = 0.27\tTime: 297.91s\n",
      "Total queries made: 2002\n"
     ]
    },
    {
     "name": "stderr",
     "output_type": "stream",
     "text": [
      "  1%|          | 101/10000 [00:05<08:26, 19.54it/s]\n"
     ]
    },
    {
     "name": "stdout",
     "output_type": "stream",
     "text": [
      "Attack Method: fw_away\tNorm: 1\tTargeted: False\tStep Rule: lipschitz_mnist\n",
      "Epsilon: 0.3\tCorrect Classifications (Failed Attacks) = 9 / 100 = 0.09\tTime: 24.69s\n",
      "Total queries made: 2002\n"
     ]
    },
    {
     "name": "stderr",
     "output_type": "stream",
     "text": [
      "  1%|          | 101/10000 [00:05<08:38, 19.10it/s]\n"
     ]
    },
    {
     "name": "stdout",
     "output_type": "stream",
     "text": [
      "Attack Method: fw_away\tNorm: 1\tTargeted: False\tStep Rule: decay\n",
      "Epsilon: 0.3\tCorrect Classifications (Failed Attacks) = 9 / 100 = 0.09\tTime: 24.62s\n",
      "Total queries made: 2002\n"
     ]
    },
    {
     "name": "stderr",
     "output_type": "stream",
     "text": [
      "  1%|          | 101/10000 [00:11<18:20,  9.00it/s]\n"
     ]
    },
    {
     "name": "stdout",
     "output_type": "stream",
     "text": [
      "Attack Method: fw_away\tNorm: 1\tTargeted: False\tStep Rule: amjo\n",
      "Epsilon: 0.3\tCorrect Classifications (Failed Attacks) = 9 / 100 = 0.09\tTime: 53.78s\n",
      "Total queries made: 2002\n"
     ]
    },
    {
     "name": "stderr",
     "output_type": "stream",
     "text": [
      "  1%|          | 101/10000 [01:08<1:51:24,  1.48it/s]\n"
     ]
    },
    {
     "name": "stdout",
     "output_type": "stream",
     "text": [
      "Attack Method: fw_away\tNorm: 1\tTargeted: False\tStep Rule: ls\n",
      "Epsilon: 0.3\tCorrect Classifications (Failed Attacks) = 9 / 100 = 0.09\tTime: 310.84s\n",
      "Total queries made: 2002\n"
     ]
    },
    {
     "name": "stderr",
     "output_type": "stream",
     "text": [
      "  1%|          | 101/10000 [00:04<08:05, 20.38it/s]\n"
     ]
    },
    {
     "name": "stdout",
     "output_type": "stream",
     "text": [
      "Attack Method: fw_away\tNorm: 2\tTargeted: True\tStep Rule: lipschitz_mnist\n",
      "Epsilon: 0.3\tCorrect Classifications (Failed Attacks) = 95 / 100 = 0.95\tTime: 22.39s\n",
      "Total queries made: 2002\n"
     ]
    },
    {
     "name": "stderr",
     "output_type": "stream",
     "text": [
      "  1%|          | 101/10000 [00:05<09:16, 17.78it/s]\n"
     ]
    },
    {
     "name": "stdout",
     "output_type": "stream",
     "text": [
      "Attack Method: fw_away\tNorm: 2\tTargeted: True\tStep Rule: decay\n",
      "Epsilon: 0.3\tCorrect Classifications (Failed Attacks) = 92 / 100 = 0.92\tTime: 24.45s\n",
      "Total queries made: 2002\n"
     ]
    },
    {
     "name": "stderr",
     "output_type": "stream",
     "text": [
      "  1%|          | 101/10000 [00:07<12:13, 13.50it/s]\n"
     ]
    },
    {
     "name": "stdout",
     "output_type": "stream",
     "text": [
      "Attack Method: fw_away\tNorm: 2\tTargeted: True\tStep Rule: amjo\n",
      "Epsilon: 0.3\tCorrect Classifications (Failed Attacks) = 94 / 100 = 0.94\tTime: 33.73s\n",
      "Total queries made: 2002\n"
     ]
    },
    {
     "name": "stderr",
     "output_type": "stream",
     "text": [
      "  1%|          | 101/10000 [01:01<1:39:55,  1.65it/s]\n"
     ]
    },
    {
     "name": "stdout",
     "output_type": "stream",
     "text": [
      "Attack Method: fw_away\tNorm: 2\tTargeted: True\tStep Rule: ls\n",
      "Epsilon: 0.3\tCorrect Classifications (Failed Attacks) = 95 / 100 = 0.95\tTime: 276.38s\n",
      "Total queries made: 2002\n"
     ]
    },
    {
     "name": "stderr",
     "output_type": "stream",
     "text": [
      "  1%|          | 101/10000 [00:05<08:23, 19.66it/s]\n"
     ]
    },
    {
     "name": "stdout",
     "output_type": "stream",
     "text": [
      "Attack Method: fw_away\tNorm: 2\tTargeted: False\tStep Rule: lipschitz_mnist\n",
      "Epsilon: 0.3\tCorrect Classifications (Failed Attacks) = 84 / 100 = 0.84\tTime: 22.77s\n",
      "Total queries made: 2002\n"
     ]
    },
    {
     "name": "stderr",
     "output_type": "stream",
     "text": [
      "  1%|          | 101/10000 [00:05<09:26, 17.48it/s]\n"
     ]
    },
    {
     "name": "stdout",
     "output_type": "stream",
     "text": [
      "Attack Method: fw_away\tNorm: 2\tTargeted: False\tStep Rule: decay\n",
      "Epsilon: 0.3\tCorrect Classifications (Failed Attacks) = 71 / 100 = 0.71\tTime: 26.44s\n",
      "Total queries made: 2002\n"
     ]
    },
    {
     "name": "stderr",
     "output_type": "stream",
     "text": [
      "  1%|          | 101/10000 [00:08<13:20, 12.36it/s]\n"
     ]
    },
    {
     "name": "stdout",
     "output_type": "stream",
     "text": [
      "Attack Method: fw_away\tNorm: 2\tTargeted: False\tStep Rule: amjo\n",
      "Epsilon: 0.3\tCorrect Classifications (Failed Attacks) = 74 / 100 = 0.74\tTime: 36.92s\n",
      "Total queries made: 2002\n"
     ]
    },
    {
     "name": "stderr",
     "output_type": "stream",
     "text": [
      "  1%|          | 101/10000 [01:09<1:53:03,  1.46it/s]\n"
     ]
    },
    {
     "name": "stdout",
     "output_type": "stream",
     "text": [
      "Attack Method: fw_away\tNorm: 2\tTargeted: False\tStep Rule: ls\n",
      "Epsilon: 0.3\tCorrect Classifications (Failed Attacks) = 78 / 100 = 0.78\tTime: 304.00s\n",
      "Total queries made: 2002\n"
     ]
    },
    {
     "name": "stderr",
     "output_type": "stream",
     "text": [
      "  1%|          | 101/10000 [00:03<05:24, 30.52it/s]\n"
     ]
    },
    {
     "name": "stdout",
     "output_type": "stream",
     "text": [
      "Attack Method: fw_pair\tNorm: -1\tTargeted: True\tStep Rule: lipschitz_mnist\n",
      "Epsilon: 0.3\tCorrect Classifications (Failed Attacks) = 45 / 100 = 0.45\tTime: 14.89s\n",
      "Total queries made: 1321\n"
     ]
    },
    {
     "name": "stderr",
     "output_type": "stream",
     "text": [
      "  1%|          | 101/10000 [00:02<03:46, 43.76it/s]\n"
     ]
    },
    {
     "name": "stdout",
     "output_type": "stream",
     "text": [
      "Attack Method: fw_pair\tNorm: -1\tTargeted: True\tStep Rule: decay\n",
      "Epsilon: 0.3\tCorrect Classifications (Failed Attacks) = 4 / 100 = 0.04\tTime: 10.55s\n",
      "Total queries made: 891\n"
     ]
    },
    {
     "name": "stderr",
     "output_type": "stream",
     "text": [
      "  1%|          | 101/10000 [00:04<07:54, 20.86it/s]\n"
     ]
    },
    {
     "name": "stdout",
     "output_type": "stream",
     "text": [
      "Attack Method: fw_pair\tNorm: -1\tTargeted: True\tStep Rule: amjo\n",
      "Epsilon: 0.3\tCorrect Classifications (Failed Attacks) = 5 / 100 = 0.05\tTime: 22.48s\n",
      "Total queries made: 911\n"
     ]
    },
    {
     "name": "stderr",
     "output_type": "stream",
     "text": [
      "  1%|          | 101/10000 [00:29<48:33,  3.40it/s] \n"
     ]
    },
    {
     "name": "stdout",
     "output_type": "stream",
     "text": [
      "Attack Method: fw_pair\tNorm: -1\tTargeted: True\tStep Rule: ls\n",
      "Epsilon: 0.3\tCorrect Classifications (Failed Attacks) = 3 / 100 = 0.03\tTime: 127.86s\n",
      "Total queries made: 925\n"
     ]
    },
    {
     "name": "stderr",
     "output_type": "stream",
     "text": [
      "  1%|          | 101/10000 [00:01<01:45, 94.07it/s]\n"
     ]
    },
    {
     "name": "stdout",
     "output_type": "stream",
     "text": [
      "Attack Method: fw_pair\tNorm: -1\tTargeted: False\tStep Rule: lipschitz_mnist\n",
      "Epsilon: 0.3\tCorrect Classifications (Failed Attacks) = 3 / 100 = 0.03\tTime: 4.06s\n",
      "Total queries made: 394\n"
     ]
    },
    {
     "name": "stderr",
     "output_type": "stream",
     "text": [
      "  1%|          | 101/10000 [00:01<01:49, 90.55it/s]\n"
     ]
    },
    {
     "name": "stdout",
     "output_type": "stream",
     "text": [
      "Attack Method: fw_pair\tNorm: -1\tTargeted: False\tStep Rule: decay\n",
      "Epsilon: 0.3\tCorrect Classifications (Failed Attacks) = 0 / 100 = 0.0\tTime: 4.62s\n",
      "Total queries made: 418\n"
     ]
    },
    {
     "name": "stderr",
     "output_type": "stream",
     "text": [
      "  1%|          | 101/10000 [00:02<03:26, 47.91it/s]\n"
     ]
    },
    {
     "name": "stdout",
     "output_type": "stream",
     "text": [
      "Attack Method: fw_pair\tNorm: -1\tTargeted: False\tStep Rule: amjo\n",
      "Epsilon: 0.3\tCorrect Classifications (Failed Attacks) = 2 / 100 = 0.02\tTime: 8.75s\n",
      "Total queries made: 424\n"
     ]
    },
    {
     "name": "stderr",
     "output_type": "stream",
     "text": [
      "  1%|          | 101/10000 [00:13<21:53,  7.53it/s]\n"
     ]
    },
    {
     "name": "stdout",
     "output_type": "stream",
     "text": [
      "Attack Method: fw_pair\tNorm: -1\tTargeted: False\tStep Rule: ls\n",
      "Epsilon: 0.3\tCorrect Classifications (Failed Attacks) = 1 / 100 = 0.01\tTime: 57.06s\n",
      "Total queries made: 380\n"
     ]
    },
    {
     "name": "stderr",
     "output_type": "stream",
     "text": [
      "  1%|          | 101/10000 [00:00<00:50, 197.44it/s]\n"
     ]
    },
    {
     "name": "stdout",
     "output_type": "stream",
     "text": [
      "Attack Method: fw_pair\tNorm: 1\tTargeted: True\tStep Rule: lipschitz_mnist\n",
      "Epsilon: 0.3\tCorrect Classifications (Failed Attacks) = 9 / 100 = 0.09\tTime: 2.42s\n",
      "Total queries made: 202\n"
     ]
    },
    {
     "name": "stderr",
     "output_type": "stream",
     "text": [
      "  1%|          | 101/10000 [00:00<00:50, 196.73it/s]\n"
     ]
    },
    {
     "name": "stdout",
     "output_type": "stream",
     "text": [
      "Attack Method: fw_pair\tNorm: 1\tTargeted: True\tStep Rule: decay\n",
      "Epsilon: 0.3\tCorrect Classifications (Failed Attacks) = 9 / 100 = 0.09\tTime: 2.28s\n",
      "Total queries made: 202\n"
     ]
    },
    {
     "name": "stderr",
     "output_type": "stream",
     "text": [
      "  1%|          | 101/10000 [00:01<02:08, 76.88it/s]\n"
     ]
    },
    {
     "name": "stdout",
     "output_type": "stream",
     "text": [
      "Attack Method: fw_pair\tNorm: 1\tTargeted: True\tStep Rule: amjo\n",
      "Epsilon: 0.3\tCorrect Classifications (Failed Attacks) = 9 / 100 = 0.09\tTime: 4.47s\n",
      "Total queries made: 202\n"
     ]
    },
    {
     "name": "stderr",
     "output_type": "stream",
     "text": [
      "  1%|          | 101/10000 [00:06<10:27, 15.77it/s]\n"
     ]
    },
    {
     "name": "stdout",
     "output_type": "stream",
     "text": [
      "Attack Method: fw_pair\tNorm: 1\tTargeted: True\tStep Rule: ls\n",
      "Epsilon: 0.3\tCorrect Classifications (Failed Attacks) = 23 / 100 = 0.23\tTime: 26.94s\n",
      "Total queries made: 203\n"
     ]
    },
    {
     "name": "stderr",
     "output_type": "stream",
     "text": [
      "  1%|          | 101/10000 [00:00<00:52, 187.27it/s]\n"
     ]
    },
    {
     "name": "stdout",
     "output_type": "stream",
     "text": [
      "Attack Method: fw_pair\tNorm: 1\tTargeted: False\tStep Rule: lipschitz_mnist\n",
      "Epsilon: 0.3\tCorrect Classifications (Failed Attacks) = 9 / 100 = 0.09\tTime: 2.52s\n",
      "Total queries made: 202\n"
     ]
    },
    {
     "name": "stderr",
     "output_type": "stream",
     "text": [
      "  1%|          | 101/10000 [00:00<00:52, 189.10it/s]\n"
     ]
    },
    {
     "name": "stdout",
     "output_type": "stream",
     "text": [
      "Attack Method: fw_pair\tNorm: 1\tTargeted: False\tStep Rule: decay\n",
      "Epsilon: 0.3\tCorrect Classifications (Failed Attacks) = 9 / 100 = 0.09\tTime: 2.45s\n",
      "Total queries made: 202\n"
     ]
    },
    {
     "name": "stderr",
     "output_type": "stream",
     "text": [
      "  1%|          | 101/10000 [00:00<01:36, 102.31it/s]\n"
     ]
    },
    {
     "name": "stdout",
     "output_type": "stream",
     "text": [
      "Attack Method: fw_pair\tNorm: 1\tTargeted: False\tStep Rule: amjo\n",
      "Epsilon: 0.3\tCorrect Classifications (Failed Attacks) = 9 / 100 = 0.09\tTime: 4.45s\n",
      "Total queries made: 202\n"
     ]
    },
    {
     "name": "stderr",
     "output_type": "stream",
     "text": [
      "  1%|          | 101/10000 [00:06<10:54, 15.13it/s]\n"
     ]
    },
    {
     "name": "stdout",
     "output_type": "stream",
     "text": [
      "Attack Method: fw_pair\tNorm: 1\tTargeted: False\tStep Rule: ls\n",
      "Epsilon: 0.3\tCorrect Classifications (Failed Attacks) = 9 / 100 = 0.09\tTime: 30.00s\n",
      "Total queries made: 202\n"
     ]
    },
    {
     "name": "stderr",
     "output_type": "stream",
     "text": [
      "  1%|          | 101/10000 [00:04<07:48, 21.14it/s]\n"
     ]
    },
    {
     "name": "stdout",
     "output_type": "stream",
     "text": [
      "Attack Method: fw_pair\tNorm: 2\tTargeted: True\tStep Rule: lipschitz_mnist\n",
      "Epsilon: 0.3\tCorrect Classifications (Failed Attacks) = 95 / 100 = 0.95\tTime: 22.30s\n",
      "Total queries made: 2002\n"
     ]
    },
    {
     "name": "stderr",
     "output_type": "stream",
     "text": [
      "  1%|          | 101/10000 [00:04<08:09, 20.23it/s]\n"
     ]
    },
    {
     "name": "stdout",
     "output_type": "stream",
     "text": [
      "Attack Method: fw_pair\tNorm: 2\tTargeted: True\tStep Rule: decay\n",
      "Epsilon: 0.3\tCorrect Classifications (Failed Attacks) = 93 / 100 = 0.93\tTime: 22.66s\n",
      "Total queries made: 2002\n"
     ]
    },
    {
     "name": "stderr",
     "output_type": "stream",
     "text": [
      "  1%|          | 101/10000 [00:08<13:51, 11.90it/s]\n"
     ]
    },
    {
     "name": "stdout",
     "output_type": "stream",
     "text": [
      "Attack Method: fw_pair\tNorm: 2\tTargeted: True\tStep Rule: amjo\n",
      "Epsilon: 0.3\tCorrect Classifications (Failed Attacks) = 92 / 100 = 0.92\tTime: 36.12s\n",
      "Total queries made: 2002\n"
     ]
    },
    {
     "name": "stderr",
     "output_type": "stream",
     "text": [
      "  1%|          | 101/10000 [01:02<1:42:33,  1.61it/s]\n"
     ]
    },
    {
     "name": "stdout",
     "output_type": "stream",
     "text": [
      "Attack Method: fw_pair\tNorm: 2\tTargeted: True\tStep Rule: ls\n",
      "Epsilon: 0.3\tCorrect Classifications (Failed Attacks) = 92 / 100 = 0.92\tTime: 288.97s\n",
      "Total queries made: 2002\n"
     ]
    },
    {
     "name": "stderr",
     "output_type": "stream",
     "text": [
      "  1%|          | 101/10000 [00:04<07:33, 21.83it/s]\n"
     ]
    },
    {
     "name": "stdout",
     "output_type": "stream",
     "text": [
      "Attack Method: fw_pair\tNorm: 2\tTargeted: False\tStep Rule: lipschitz_mnist\n",
      "Epsilon: 0.3\tCorrect Classifications (Failed Attacks) = 84 / 100 = 0.84\tTime: 21.69s\n",
      "Total queries made: 1851\n"
     ]
    },
    {
     "name": "stderr",
     "output_type": "stream",
     "text": [
      "  1%|          | 101/10000 [00:04<07:44, 21.32it/s]\n"
     ]
    },
    {
     "name": "stdout",
     "output_type": "stream",
     "text": [
      "Attack Method: fw_pair\tNorm: 2\tTargeted: False\tStep Rule: decay\n",
      "Epsilon: 0.3\tCorrect Classifications (Failed Attacks) = 71 / 100 = 0.71\tTime: 22.33s\n",
      "Total queries made: 1794\n"
     ]
    },
    {
     "name": "stderr",
     "output_type": "stream",
     "text": [
      "  1%|          | 101/10000 [00:07<12:48, 12.88it/s]\n"
     ]
    },
    {
     "name": "stdout",
     "output_type": "stream",
     "text": [
      "Attack Method: fw_pair\tNorm: 2\tTargeted: False\tStep Rule: amjo\n",
      "Epsilon: 0.3\tCorrect Classifications (Failed Attacks) = 70 / 100 = 0.7\tTime: 37.61s\n",
      "Total queries made: 1793\n"
     ]
    },
    {
     "name": "stderr",
     "output_type": "stream",
     "text": [
      "  1%|          | 101/10000 [01:01<1:40:17,  1.65it/s]"
     ]
    },
    {
     "name": "stdout",
     "output_type": "stream",
     "text": [
      "Attack Method: fw_pair\tNorm: 2\tTargeted: False\tStep Rule: ls\n",
      "Epsilon: 0.3\tCorrect Classifications (Failed Attacks) = 71 / 100 = 0.71\tTime: 290.31s\n",
      "Total queries made: 1797\n"
     ]
    },
    {
     "name": "stderr",
     "output_type": "stream",
     "text": [
      "\n"
     ]
    }
   ],
   "execution_count": 10
  },
  {
   "metadata": {
    "ExecuteTime": {
     "end_time": "2024-07-05T19:19:00.887789Z",
     "start_time": "2024-07-05T19:19:00.879447Z"
    }
   },
   "cell_type": "code",
   "source": [
    "results_df = pd.concat([results_df, pd.DataFrame(results_list)], ignore_index=True)\n",
    "\n",
    "results_df.to_csv('experiment_results.csv', index=False)\n"
   ],
   "id": "dfc3c4888c452fe8",
   "outputs": [
    {
     "name": "stderr",
     "output_type": "stream",
     "text": [
      "C:\\Users\\alepa\\AppData\\Local\\Temp\\ipykernel_25236\\4279589454.py:1: FutureWarning: The behavior of DataFrame concatenation with empty or all-NA entries is deprecated. In a future version, this will no longer exclude empty or all-NA columns when determining the result dtypes. To retain the old behavior, exclude the relevant entries before the concat operation.\n",
      "  results_df = pd.concat([results_df, pd.DataFrame(results_list)], ignore_index=True)\n"
     ]
    }
   ],
   "execution_count": 11
  },
  {
   "metadata": {
    "ExecuteTime": {
     "end_time": "2024-07-05T19:19:00.903511Z",
     "start_time": "2024-07-05T19:19:00.887789Z"
    }
   },
   "cell_type": "code",
   "source": "results_df",
   "id": "4b86bd97fa8ecd5a",
   "outputs": [
    {
     "data": {
      "text/plain": [
       "     epsilon attack_type norm_type targeted        step_rule  accuracy  \\\n",
       "0      0.005          fw        -1     True  lipschitz_mnist      1.00   \n",
       "1      0.005          fw        -1     True            decay      1.00   \n",
       "2      0.005          fw        -1     True             amjo      1.00   \n",
       "3      0.005          fw        -1     True               ls      1.00   \n",
       "4      0.005          fw        -1    False  lipschitz_mnist      1.00   \n",
       "..       ...         ...       ...      ...              ...       ...   \n",
       "283    0.300     fw_pair         2     True               ls      0.92   \n",
       "284    0.300     fw_pair         2    False  lipschitz_mnist      0.84   \n",
       "285    0.300     fw_pair         2    False            decay      0.71   \n",
       "286    0.300     fw_pair         2    False             amjo      0.70   \n",
       "287    0.300     fw_pair         2    False               ls      0.71   \n",
       "\n",
       "    total_queries  \n",
       "0            1948  \n",
       "1            1948  \n",
       "2            1948  \n",
       "3            1948  \n",
       "4            1876  \n",
       "..            ...  \n",
       "283          2002  \n",
       "284          1851  \n",
       "285          1794  \n",
       "286          1793  \n",
       "287          1797  \n",
       "\n",
       "[288 rows x 7 columns]"
      ],
      "text/html": [
       "<div>\n",
       "<style scoped>\n",
       "    .dataframe tbody tr th:only-of-type {\n",
       "        vertical-align: middle;\n",
       "    }\n",
       "\n",
       "    .dataframe tbody tr th {\n",
       "        vertical-align: top;\n",
       "    }\n",
       "\n",
       "    .dataframe thead th {\n",
       "        text-align: right;\n",
       "    }\n",
       "</style>\n",
       "<table border=\"1\" class=\"dataframe\">\n",
       "  <thead>\n",
       "    <tr style=\"text-align: right;\">\n",
       "      <th></th>\n",
       "      <th>epsilon</th>\n",
       "      <th>attack_type</th>\n",
       "      <th>norm_type</th>\n",
       "      <th>targeted</th>\n",
       "      <th>step_rule</th>\n",
       "      <th>accuracy</th>\n",
       "      <th>total_queries</th>\n",
       "    </tr>\n",
       "  </thead>\n",
       "  <tbody>\n",
       "    <tr>\n",
       "      <th>0</th>\n",
       "      <td>0.005</td>\n",
       "      <td>fw</td>\n",
       "      <td>-1</td>\n",
       "      <td>True</td>\n",
       "      <td>lipschitz_mnist</td>\n",
       "      <td>1.00</td>\n",
       "      <td>1948</td>\n",
       "    </tr>\n",
       "    <tr>\n",
       "      <th>1</th>\n",
       "      <td>0.005</td>\n",
       "      <td>fw</td>\n",
       "      <td>-1</td>\n",
       "      <td>True</td>\n",
       "      <td>decay</td>\n",
       "      <td>1.00</td>\n",
       "      <td>1948</td>\n",
       "    </tr>\n",
       "    <tr>\n",
       "      <th>2</th>\n",
       "      <td>0.005</td>\n",
       "      <td>fw</td>\n",
       "      <td>-1</td>\n",
       "      <td>True</td>\n",
       "      <td>amjo</td>\n",
       "      <td>1.00</td>\n",
       "      <td>1948</td>\n",
       "    </tr>\n",
       "    <tr>\n",
       "      <th>3</th>\n",
       "      <td>0.005</td>\n",
       "      <td>fw</td>\n",
       "      <td>-1</td>\n",
       "      <td>True</td>\n",
       "      <td>ls</td>\n",
       "      <td>1.00</td>\n",
       "      <td>1948</td>\n",
       "    </tr>\n",
       "    <tr>\n",
       "      <th>4</th>\n",
       "      <td>0.005</td>\n",
       "      <td>fw</td>\n",
       "      <td>-1</td>\n",
       "      <td>False</td>\n",
       "      <td>lipschitz_mnist</td>\n",
       "      <td>1.00</td>\n",
       "      <td>1876</td>\n",
       "    </tr>\n",
       "    <tr>\n",
       "      <th>...</th>\n",
       "      <td>...</td>\n",
       "      <td>...</td>\n",
       "      <td>...</td>\n",
       "      <td>...</td>\n",
       "      <td>...</td>\n",
       "      <td>...</td>\n",
       "      <td>...</td>\n",
       "    </tr>\n",
       "    <tr>\n",
       "      <th>283</th>\n",
       "      <td>0.300</td>\n",
       "      <td>fw_pair</td>\n",
       "      <td>2</td>\n",
       "      <td>True</td>\n",
       "      <td>ls</td>\n",
       "      <td>0.92</td>\n",
       "      <td>2002</td>\n",
       "    </tr>\n",
       "    <tr>\n",
       "      <th>284</th>\n",
       "      <td>0.300</td>\n",
       "      <td>fw_pair</td>\n",
       "      <td>2</td>\n",
       "      <td>False</td>\n",
       "      <td>lipschitz_mnist</td>\n",
       "      <td>0.84</td>\n",
       "      <td>1851</td>\n",
       "    </tr>\n",
       "    <tr>\n",
       "      <th>285</th>\n",
       "      <td>0.300</td>\n",
       "      <td>fw_pair</td>\n",
       "      <td>2</td>\n",
       "      <td>False</td>\n",
       "      <td>decay</td>\n",
       "      <td>0.71</td>\n",
       "      <td>1794</td>\n",
       "    </tr>\n",
       "    <tr>\n",
       "      <th>286</th>\n",
       "      <td>0.300</td>\n",
       "      <td>fw_pair</td>\n",
       "      <td>2</td>\n",
       "      <td>False</td>\n",
       "      <td>amjo</td>\n",
       "      <td>0.70</td>\n",
       "      <td>1793</td>\n",
       "    </tr>\n",
       "    <tr>\n",
       "      <th>287</th>\n",
       "      <td>0.300</td>\n",
       "      <td>fw_pair</td>\n",
       "      <td>2</td>\n",
       "      <td>False</td>\n",
       "      <td>ls</td>\n",
       "      <td>0.71</td>\n",
       "      <td>1797</td>\n",
       "    </tr>\n",
       "  </tbody>\n",
       "</table>\n",
       "<p>288 rows × 7 columns</p>\n",
       "</div>"
      ]
     },
     "execution_count": 12,
     "metadata": {},
     "output_type": "execute_result"
    }
   ],
   "execution_count": 12
  }
 ],
 "metadata": {
  "kernelspec": {
   "display_name": "Python 3",
   "language": "python",
   "name": "python3"
  },
  "language_info": {
   "codemirror_mode": {
    "name": "ipython",
    "version": 2
   },
   "file_extension": ".py",
   "mimetype": "text/x-python",
   "name": "python",
   "nbconvert_exporter": "python",
   "pygments_lexer": "ipython2",
   "version": "2.7.6"
  }
 },
 "nbformat": 4,
 "nbformat_minor": 5
}
