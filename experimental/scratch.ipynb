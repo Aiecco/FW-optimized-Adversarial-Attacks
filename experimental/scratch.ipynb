{
 "cells": [
  {
   "cell_type": "code",
   "execution_count": 60,
   "metadata": {},
   "outputs": [],
   "source": [
    "from models.LeNet import LeNet\n",
    "import pandas as pd\n",
    "from matplotlib import pyplot as plt\n",
    "import torch\n",
    "from torch import nn"
   ]
  },
  {
   "cell_type": "code",
   "execution_count": 2,
   "metadata": {},
   "outputs": [
    {
     "name": "stdout",
     "output_type": "stream",
     "text": [
      "Model weights loaded successfully\n"
     ]
    }
   ],
   "source": [
    "lenet = LeNet()"
   ]
  },
  {
   "cell_type": "code",
   "execution_count": 47,
   "metadata": {},
   "outputs": [
    {
     "data": {
      "image/png": "[encoded data removed]",
      "text/plain": [
       "<Figure size 640x480 with 1 Axes>"
      ]
     },
     "metadata": {},
     "output_type": "display_data"
    }
   ],
   "source": [
    "ex_num = 6\n",
    "x0, y = lenet.test_dataset[ex_num]\n",
    "x0_np = x0.squeeze()\n",
    "plt.imshow(x0_np)\n",
    "plt.title(f\"Target: {y}\")\n",
    "plt.show()"
   ]
  },
  {
   "cell_type": "code",
   "execution_count": 79,
   "metadata": {},
   "outputs": [
    {
     "name": "stdout",
     "output_type": "stream",
     "text": [
      "tensor([[[[ 1.1205e-07, -6.1321e-07,  8.4235e-06,  ...,  0.0000e+00,\n",
      "            0.0000e+00,  0.0000e+00],\n",
      "          [-1.1365e-07, -3.0929e-07,  2.9758e-06,  ..., -6.7196e-07,\n",
      "            0.0000e+00,  0.0000e+00],\n",
      "          [-3.7308e-06,  6.9984e-07, -1.2199e-06,  ..., -3.1294e-07,\n",
      "            0.0000e+00,  0.0000e+00],\n",
      "          ...,\n",
      "          [ 2.1634e-08, -4.0919e-08,  3.4889e-07,  ..., -6.1037e-07,\n",
      "           -1.2602e-06,  0.0000e+00],\n",
      "          [-4.2211e-08,  3.3172e-08,  2.4297e-07,  ..., -3.2375e-08,\n",
      "           -1.4948e-06,  0.0000e+00],\n",
      "          [ 0.0000e+00,  0.0000e+00,  0.0000e+00,  ...,  0.0000e+00,\n",
      "            0.0000e+00,  0.0000e+00]]]])\n"
     ]
    },
    {
     "data": {
      "text/plain": [
       "tensor(0.0010)"
      ]
     },
     "execution_count": 79,
     "metadata": {},
     "output_type": "execute_result"
    }
   ],
   "source": [
    "# Set device\n",
    "device = torch.device('cuda' if torch.cuda.is_available() else 'cpu')\n",
    "\n",
    "# Initialize the model\n",
    "model = lenet.model.to(device)\n",
    "model.eval()\n",
    "\n",
    "# Detatch PARAMETERS from computational graph\n",
    "# This is so we dont waste time calculating gradient of params (only used for training)\n",
    "# can still calulate grad wrt input wich is used for attacks\n",
    "for param in model.parameters():\n",
    "    param.requires_grad = False\n",
    "\n",
    "# for target attacks you can define a custom loss here\n",
    "criterion = nn.CrossEntropyLoss()#lenet.cost#\n",
    "\n",
    "def input_grad(x_t):\n",
    "    # Prepare the input tensor\n",
    "    input_tensor = x_t.view(1, 1, 32, 32).to(device)\n",
    "    input_tensor.requires_grad_()\n",
    "\n",
    "    # Forward pass\n",
    "    outputs = model(input_tensor)\n",
    "    target_tensor = torch.tensor([y]).to(device)\n",
    "    loss = criterion(outputs, target_tensor)\n",
    "    _, predicted_class = outputs.max(1)\n",
    "\n",
    "    # Backward pass to compute the gradients\n",
    "    loss.backward()\n",
    "    return input_tensor.grad, loss.item(), predicted_class.item(), outputs\n",
    "\n",
    "input_gradient, _, _, _= input_grad(x0)\n",
    "print(input_gradient)\n",
    "torch.norm(input_gradient)"
   ]
  },
  {
   "cell_type": "markdown",
   "metadata": {},
   "source": [
    "# Frank-Wolfe White-box Attack Algorithm\n",
    "As formulated by alg. 1 in attacks.pdf  \n",
    "Different from standard FW because of momentum"
   ]
  },
  {
   "cell_type": "code",
   "execution_count": 75,
   "metadata": {},
   "outputs": [],
   "source": [
    "eps = 0.5 # Max perturbation\n",
    "max_iter = 1000\n",
    "gamma_t = 1 # step size\n",
    "beta = 0.1 # momentum term\n",
    "\n",
    "# gradient does not need to be tracked in the FW\n",
    "# is handeled in the input_gradient method\n",
    "x_t = x0.detach().clone() \n",
    "m_t, _, _ = input_grad(x_t)\n",
    "hist = []\n",
    "\n",
    "for i in range(max_iter):\n",
    "    g_t, loss_value, y_pred = input_grad(x_t)\n",
    "    m_t = beta * m_t + (1 - beta) * g_t\n",
    "    # LMO - for infinity norm\n",
    "    # v_t = -eps * m_t.sign() + x0\n",
    "    # d_t = v_t - x_t\n",
    "    # x_t = x_t + gamma_t*d_t\n",
    "    x_t = x_t - gamma_t * eps * m_t.sign() - gamma_t*(x_t - x0)\n",
    "\n",
    "    # metrics\n",
    "    hist.append({\n",
    "        'loss': loss_value,\n",
    "        'y_pred': y_pred\n",
    "    })\n",
    "hist = pd.DataFrame(hist)"
   ]
  },
  {
   "cell_type": "code",
   "execution_count": 76,
   "metadata": {},
   "outputs": [
    {
     "data": {
      "text/html": [
       "<div>\n",
       "<style scoped>\n",
       "    .dataframe tbody tr th:only-of-type {\n",
       "        vertical-align: middle;\n",
       "    }\n",
       "\n",
       "    .dataframe tbody tr th {\n",
       "        vertical-align: top;\n",
       "    }\n",
       "\n",
       "    .dataframe thead th {\n",
       "        text-align: right;\n",
       "    }\n",
       "</style>\n",
       "<table border=\"1\" class=\"dataframe\">\n",
       "  <thead>\n",
       "    <tr style=\"text-align: right;\">\n",
       "      <th></th>\n",
       "      <th>loss</th>\n",
       "      <th>y_pred</th>\n",
       "    </tr>\n",
       "  </thead>\n",
       "  <tbody>\n",
       "    <tr>\n",
       "      <th>157</th>\n",
       "      <td>4.993977</td>\n",
       "      <td>5</td>\n",
       "    </tr>\n",
       "    <tr>\n",
       "      <th>188</th>\n",
       "      <td>1.137380</td>\n",
       "      <td>5</td>\n",
       "    </tr>\n",
       "    <tr>\n",
       "      <th>216</th>\n",
       "      <td>1.159927</td>\n",
       "      <td>5</td>\n",
       "    </tr>\n",
       "    <tr>\n",
       "      <th>348</th>\n",
       "      <td>6.759428</td>\n",
       "      <td>9</td>\n",
       "    </tr>\n",
       "    <tr>\n",
       "      <th>368</th>\n",
       "      <td>2.295010</td>\n",
       "      <td>5</td>\n",
       "    </tr>\n",
       "    <tr>\n",
       "      <th>404</th>\n",
       "      <td>6.730618</td>\n",
       "      <td>5</td>\n",
       "    </tr>\n",
       "    <tr>\n",
       "      <th>433</th>\n",
       "      <td>1.080103</td>\n",
       "      <td>5</td>\n",
       "    </tr>\n",
       "    <tr>\n",
       "      <th>455</th>\n",
       "      <td>3.992638</td>\n",
       "      <td>5</td>\n",
       "    </tr>\n",
       "    <tr>\n",
       "      <th>488</th>\n",
       "      <td>1.560071</td>\n",
       "      <td>5</td>\n",
       "    </tr>\n",
       "    <tr>\n",
       "      <th>567</th>\n",
       "      <td>2.181207</td>\n",
       "      <td>9</td>\n",
       "    </tr>\n",
       "    <tr>\n",
       "      <th>709</th>\n",
       "      <td>11.659280</td>\n",
       "      <td>5</td>\n",
       "    </tr>\n",
       "    <tr>\n",
       "      <th>796</th>\n",
       "      <td>2.071412</td>\n",
       "      <td>5</td>\n",
       "    </tr>\n",
       "    <tr>\n",
       "      <th>816</th>\n",
       "      <td>0.915106</td>\n",
       "      <td>5</td>\n",
       "    </tr>\n",
       "    <tr>\n",
       "      <th>960</th>\n",
       "      <td>9.910251</td>\n",
       "      <td>5</td>\n",
       "    </tr>\n",
       "  </tbody>\n",
       "</table>\n",
       "</div>"
      ],
      "text/plain": [
       "          loss  y_pred\n",
       "157   4.993977       5\n",
       "188   1.137380       5\n",
       "216   1.159927       5\n",
       "348   6.759428       9\n",
       "368   2.295010       5\n",
       "404   6.730618       5\n",
       "433   1.080103       5\n",
       "455   3.992638       5\n",
       "488   1.560071       5\n",
       "567   2.181207       9\n",
       "709  11.659280       5\n",
       "796   2.071412       5\n",
       "816   0.915106       5\n",
       "960   9.910251       5"
      ]
     },
     "execution_count": 76,
     "metadata": {},
     "output_type": "execute_result"
    }
   ],
   "source": [
    "hist[hist['y_pred'] != y]"
   ]
  },
  {
   "cell_type": "code",
   "execution_count": 80,
   "metadata": {},
   "outputs": [
    {
     "data": {
      "text/plain": [
       "(tensor([[[[ 1.1205e-07, -6.1321e-07,  8.4235e-06,  ...,  0.0000e+00,\n",
       "             0.0000e+00,  0.0000e+00],\n",
       "           [-1.1365e-07, -3.0929e-07,  2.9758e-06,  ..., -6.7196e-07,\n",
       "             0.0000e+00,  0.0000e+00],\n",
       "           [-3.7308e-06,  6.9984e-07, -1.2199e-06,  ..., -3.1294e-07,\n",
       "             0.0000e+00,  0.0000e+00],\n",
       "           ...,\n",
       "           [ 2.1634e-08, -4.0919e-08,  3.4889e-07,  ..., -6.1037e-07,\n",
       "            -1.2602e-06,  0.0000e+00],\n",
       "           [-4.2211e-08,  3.3172e-08,  2.4297e-07,  ..., -3.2375e-08,\n",
       "            -1.4948e-06,  0.0000e+00],\n",
       "           [ 0.0000e+00,  0.0000e+00,  0.0000e+00,  ...,  0.0000e+00,\n",
       "             0.0000e+00,  0.0000e+00]]]]),\n",
       " 0.0003033416287507862,\n",
       " 4,\n",
       " tensor([[-15.4686,  -4.0302,  -6.1724, -15.0093,  10.1469,  -1.4312,  -4.0681,\n",
       "           -4.5032,   1.3225,   1.3073]], grad_fn=<AddmmBackward0>))"
      ]
     },
     "execution_count": 80,
     "metadata": {},
     "output_type": "execute_result"
    }
   ],
   "source": [
    "input_grad(x0)"
   ]
  },
  {
   "cell_type": "code",
   "execution_count": 77,
   "metadata": {},
   "outputs": [
    {
     "data": {
      "text/plain": [
       "<Axes: >"
      ]
     },
     "execution_count": 77,
     "metadata": {},
     "output_type": "execute_result"
    },
    {
     "data": {
      "image/png": "[encoded data removed]",
      "text/plain": [
       "<Figure size 640x480 with 1 Axes>"
      ]
     },
     "metadata": {},
     "output_type": "display_data"
    }
   ],
   "source": [
    "hist['loss'].plot()"
   ]
  },
  {
   "cell_type": "code",
   "execution_count": 70,
   "metadata": {},
   "outputs": [
    {
     "data": {
      "text/plain": [
       "<matplotlib.image.AxesImage at 0x1926fa88e90>"
      ]
     },
     "execution_count": 70,
     "metadata": {},
     "output_type": "execute_result"
    },
    {
     "data": {
      "image/png": "[encoded data removed]",
      "text/plain": [
       "<Figure size 640x480 with 1 Axes>"
      ]
     },
     "metadata": {},
     "output_type": "display_data"
    }
   ],
   "source": [
    "plt.imshow((x_t).squeeze())"
   ]
  }
 ],
 "metadata": {
  "kernelspec": {
   "display_name": "Frank",
   "language": "python",
   "name": "python3"
  },
  "language_info": {
   "codemirror_mode": {
    "name": "ipython",
    "version": 3
   },
   "file_extension": ".py",
   "mimetype": "text/x-python",
   "name": "python",
   "nbconvert_exporter": "python",
   "pygments_lexer": "ipython3",
   "version": "3.11.4"
  }
 },
 "nbformat": 4,
 "nbformat_minor": 2
}
