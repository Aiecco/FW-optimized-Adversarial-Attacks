{
 "cells": [
  {
   "cell_type": "code",
   "id": "initial_id",
   "metadata": {
    "collapsed": true,
    "ExecuteTime": {
     "end_time": "2024-07-06T16:29:38.990349Z",
     "start_time": "2024-07-06T16:29:38.988007Z"
    }
   },
   "source": [
    "import pandas as pd\n",
    "import seaborn as sns\n",
    "import matplotlib.pyplot as plt"
   ],
   "outputs": [],
   "execution_count": 44
  },
  {
   "metadata": {},
   "cell_type": "markdown",
   "source": "",
   "id": "b1bccec59f117dd"
  },
  {
   "metadata": {
    "ExecuteTime": {
     "end_time": "2024-07-06T16:29:39.005297Z",
     "start_time": "2024-07-06T16:29:38.991354Z"
    }
   },
   "cell_type": "code",
   "source": [
    "df = pd.read_csv(r'C:\\Users\\alepa\\PycharmProjects\\pythonProject\\Optimization\\Project\\experiment_results.csv')\n",
    "df = pd.DataFrame(df)\n",
    "df"
   ],
   "id": "8430f8349304bdfa",
   "outputs": [
    {
     "data": {
      "text/plain": [
       "     epsilon attack_type  norm_type  targeted        step_rule  accuracy  \\\n",
       "0      0.005          fw         -1      True  lipschitz_mnist      1.00   \n",
       "1      0.005          fw         -1      True            decay      1.00   \n",
       "2      0.005          fw         -1      True             amjo      1.00   \n",
       "3      0.005          fw         -1      True               ls      1.00   \n",
       "4      0.005          fw         -1     False  lipschitz_mnist      1.00   \n",
       "..       ...         ...        ...       ...              ...       ...   \n",
       "283    0.300     fw_pair          2      True               ls      0.92   \n",
       "284    0.300     fw_pair          2     False  lipschitz_mnist      0.84   \n",
       "285    0.300     fw_pair          2     False            decay      0.71   \n",
       "286    0.300     fw_pair          2     False             amjo      0.70   \n",
       "287    0.300     fw_pair          2     False               ls      0.71   \n",
       "\n",
       "     total_queries  avg_queries  cpu_time    gap_FW    gap_AS  avg_iters  \n",
       "0             1948   974.737410  0.010631  0.229868       NaN  10.472251  \n",
       "1             1948   974.737410  0.012205  0.227714       NaN  10.472251  \n",
       "2             1948   974.737410  0.018949  0.229868       NaN  10.472251  \n",
       "3             1948   974.737410  0.139686  0.229868       NaN  10.472251  \n",
       "4             1876   938.736926  0.013232  0.154513       NaN  10.432764  \n",
       "..             ...          ...       ...       ...       ...        ...  \n",
       "283           2002  1001.740000  0.033844  2.068792 -1.767920  10.500000  \n",
       "284           1851   926.248242  0.002611  2.769143 -1.359159  10.372634  \n",
       "285           1794   897.742188  0.003401  1.114754 -1.024217  10.287946  \n",
       "286           1793   897.241206  0.004502  1.054151 -0.975559  10.284199  \n",
       "287           1797   899.243454  0.037178  1.023101 -0.923460  10.288579  \n",
       "\n",
       "[288 rows x 12 columns]"
      ],
      "text/html": [
       "<div>\n",
       "<style scoped>\n",
       "    .dataframe tbody tr th:only-of-type {\n",
       "        vertical-align: middle;\n",
       "    }\n",
       "\n",
       "    .dataframe tbody tr th {\n",
       "        vertical-align: top;\n",
       "    }\n",
       "\n",
       "    .dataframe thead th {\n",
       "        text-align: right;\n",
       "    }\n",
       "</style>\n",
       "<table border=\"1\" class=\"dataframe\">\n",
       "  <thead>\n",
       "    <tr style=\"text-align: right;\">\n",
       "      <th></th>\n",
       "      <th>epsilon</th>\n",
       "      <th>attack_type</th>\n",
       "      <th>norm_type</th>\n",
       "      <th>targeted</th>\n",
       "      <th>step_rule</th>\n",
       "      <th>accuracy</th>\n",
       "      <th>total_queries</th>\n",
       "      <th>avg_queries</th>\n",
       "      <th>cpu_time</th>\n",
       "      <th>gap_FW</th>\n",
       "      <th>gap_AS</th>\n",
       "      <th>avg_iters</th>\n",
       "    </tr>\n",
       "  </thead>\n",
       "  <tbody>\n",
       "    <tr>\n",
       "      <th>0</th>\n",
       "      <td>0.005</td>\n",
       "      <td>fw</td>\n",
       "      <td>-1</td>\n",
       "      <td>True</td>\n",
       "      <td>lipschitz_mnist</td>\n",
       "      <td>1.00</td>\n",
       "      <td>1948</td>\n",
       "      <td>974.737410</td>\n",
       "      <td>0.010631</td>\n",
       "      <td>0.229868</td>\n",
       "      <td>NaN</td>\n",
       "      <td>10.472251</td>\n",
       "    </tr>\n",
       "    <tr>\n",
       "      <th>1</th>\n",
       "      <td>0.005</td>\n",
       "      <td>fw</td>\n",
       "      <td>-1</td>\n",
       "      <td>True</td>\n",
       "      <td>decay</td>\n",
       "      <td>1.00</td>\n",
       "      <td>1948</td>\n",
       "      <td>974.737410</td>\n",
       "      <td>0.012205</td>\n",
       "      <td>0.227714</td>\n",
       "      <td>NaN</td>\n",
       "      <td>10.472251</td>\n",
       "    </tr>\n",
       "    <tr>\n",
       "      <th>2</th>\n",
       "      <td>0.005</td>\n",
       "      <td>fw</td>\n",
       "      <td>-1</td>\n",
       "      <td>True</td>\n",
       "      <td>amjo</td>\n",
       "      <td>1.00</td>\n",
       "      <td>1948</td>\n",
       "      <td>974.737410</td>\n",
       "      <td>0.018949</td>\n",
       "      <td>0.229868</td>\n",
       "      <td>NaN</td>\n",
       "      <td>10.472251</td>\n",
       "    </tr>\n",
       "    <tr>\n",
       "      <th>3</th>\n",
       "      <td>0.005</td>\n",
       "      <td>fw</td>\n",
       "      <td>-1</td>\n",
       "      <td>True</td>\n",
       "      <td>ls</td>\n",
       "      <td>1.00</td>\n",
       "      <td>1948</td>\n",
       "      <td>974.737410</td>\n",
       "      <td>0.139686</td>\n",
       "      <td>0.229868</td>\n",
       "      <td>NaN</td>\n",
       "      <td>10.472251</td>\n",
       "    </tr>\n",
       "    <tr>\n",
       "      <th>4</th>\n",
       "      <td>0.005</td>\n",
       "      <td>fw</td>\n",
       "      <td>-1</td>\n",
       "      <td>False</td>\n",
       "      <td>lipschitz_mnist</td>\n",
       "      <td>1.00</td>\n",
       "      <td>1876</td>\n",
       "      <td>938.736926</td>\n",
       "      <td>0.013232</td>\n",
       "      <td>0.154513</td>\n",
       "      <td>NaN</td>\n",
       "      <td>10.432764</td>\n",
       "    </tr>\n",
       "    <tr>\n",
       "      <th>...</th>\n",
       "      <td>...</td>\n",
       "      <td>...</td>\n",
       "      <td>...</td>\n",
       "      <td>...</td>\n",
       "      <td>...</td>\n",
       "      <td>...</td>\n",
       "      <td>...</td>\n",
       "      <td>...</td>\n",
       "      <td>...</td>\n",
       "      <td>...</td>\n",
       "      <td>...</td>\n",
       "      <td>...</td>\n",
       "    </tr>\n",
       "    <tr>\n",
       "      <th>283</th>\n",
       "      <td>0.300</td>\n",
       "      <td>fw_pair</td>\n",
       "      <td>2</td>\n",
       "      <td>True</td>\n",
       "      <td>ls</td>\n",
       "      <td>0.92</td>\n",
       "      <td>2002</td>\n",
       "      <td>1001.740000</td>\n",
       "      <td>0.033844</td>\n",
       "      <td>2.068792</td>\n",
       "      <td>-1.767920</td>\n",
       "      <td>10.500000</td>\n",
       "    </tr>\n",
       "    <tr>\n",
       "      <th>284</th>\n",
       "      <td>0.300</td>\n",
       "      <td>fw_pair</td>\n",
       "      <td>2</td>\n",
       "      <td>False</td>\n",
       "      <td>lipschitz_mnist</td>\n",
       "      <td>0.84</td>\n",
       "      <td>1851</td>\n",
       "      <td>926.248242</td>\n",
       "      <td>0.002611</td>\n",
       "      <td>2.769143</td>\n",
       "      <td>-1.359159</td>\n",
       "      <td>10.372634</td>\n",
       "    </tr>\n",
       "    <tr>\n",
       "      <th>285</th>\n",
       "      <td>0.300</td>\n",
       "      <td>fw_pair</td>\n",
       "      <td>2</td>\n",
       "      <td>False</td>\n",
       "      <td>decay</td>\n",
       "      <td>0.71</td>\n",
       "      <td>1794</td>\n",
       "      <td>897.742188</td>\n",
       "      <td>0.003401</td>\n",
       "      <td>1.114754</td>\n",
       "      <td>-1.024217</td>\n",
       "      <td>10.287946</td>\n",
       "    </tr>\n",
       "    <tr>\n",
       "      <th>286</th>\n",
       "      <td>0.300</td>\n",
       "      <td>fw_pair</td>\n",
       "      <td>2</td>\n",
       "      <td>False</td>\n",
       "      <td>amjo</td>\n",
       "      <td>0.70</td>\n",
       "      <td>1793</td>\n",
       "      <td>897.241206</td>\n",
       "      <td>0.004502</td>\n",
       "      <td>1.054151</td>\n",
       "      <td>-0.975559</td>\n",
       "      <td>10.284199</td>\n",
       "    </tr>\n",
       "    <tr>\n",
       "      <th>287</th>\n",
       "      <td>0.300</td>\n",
       "      <td>fw_pair</td>\n",
       "      <td>2</td>\n",
       "      <td>False</td>\n",
       "      <td>ls</td>\n",
       "      <td>0.71</td>\n",
       "      <td>1797</td>\n",
       "      <td>899.243454</td>\n",
       "      <td>0.037178</td>\n",
       "      <td>1.023101</td>\n",
       "      <td>-0.923460</td>\n",
       "      <td>10.288579</td>\n",
       "    </tr>\n",
       "  </tbody>\n",
       "</table>\n",
       "<p>288 rows × 12 columns</p>\n",
       "</div>"
      ]
     },
     "execution_count": 45,
     "metadata": {},
     "output_type": "execute_result"
    }
   ],
   "execution_count": 45
  },
  {
   "metadata": {
    "ExecuteTime": {
     "end_time": "2024-07-06T16:29:39.012807Z",
     "start_time": "2024-07-06T16:29:39.005297Z"
    }
   },
   "cell_type": "code",
   "source": [
    "df_filtered = df[df['epsilon'] == 0.3]\n",
    "\n",
    "new_cols = ['step_rule','accuracy','avg_queries','cpu_time','avg_iters']\n",
    "\n",
    "df = df_filtered[new_cols]\n",
    "df"
   ],
   "id": "fb5225956840e59",
   "outputs": [
    {
     "data": {
      "text/plain": [
       "           step_rule  accuracy  avg_queries  cpu_time  avg_iters\n",
       "216  lipschitz_mnist      0.45   661.254738  0.002263   9.354056\n",
       "217            decay      0.03   367.747268  0.003757   5.840164\n",
       "218             amjo      0.02   371.735135  0.005448   5.924324\n",
       "219               ls      0.00   367.248974  0.032361   5.753762\n",
       "220  lipschitz_mnist      0.03   197.719388  0.001993   3.410714\n",
       "..               ...       ...          ...       ...        ...\n",
       "283               ls      0.92  1001.740000  0.033844  10.500000\n",
       "284  lipschitz_mnist      0.84   926.248242  0.002611  10.372634\n",
       "285            decay      0.71   897.742188  0.003401  10.287946\n",
       "286             amjo      0.70   897.241206  0.004502  10.284199\n",
       "287               ls      0.71   899.243454  0.037178  10.288579\n",
       "\n",
       "[72 rows x 5 columns]"
      ],
      "text/html": [
       "<div>\n",
       "<style scoped>\n",
       "    .dataframe tbody tr th:only-of-type {\n",
       "        vertical-align: middle;\n",
       "    }\n",
       "\n",
       "    .dataframe tbody tr th {\n",
       "        vertical-align: top;\n",
       "    }\n",
       "\n",
       "    .dataframe thead th {\n",
       "        text-align: right;\n",
       "    }\n",
       "</style>\n",
       "<table border=\"1\" class=\"dataframe\">\n",
       "  <thead>\n",
       "    <tr style=\"text-align: right;\">\n",
       "      <th></th>\n",
       "      <th>step_rule</th>\n",
       "      <th>accuracy</th>\n",
       "      <th>avg_queries</th>\n",
       "      <th>cpu_time</th>\n",
       "      <th>avg_iters</th>\n",
       "    </tr>\n",
       "  </thead>\n",
       "  <tbody>\n",
       "    <tr>\n",
       "      <th>216</th>\n",
       "      <td>lipschitz_mnist</td>\n",
       "      <td>0.45</td>\n",
       "      <td>661.254738</td>\n",
       "      <td>0.002263</td>\n",
       "      <td>9.354056</td>\n",
       "    </tr>\n",
       "    <tr>\n",
       "      <th>217</th>\n",
       "      <td>decay</td>\n",
       "      <td>0.03</td>\n",
       "      <td>367.747268</td>\n",
       "      <td>0.003757</td>\n",
       "      <td>5.840164</td>\n",
       "    </tr>\n",
       "    <tr>\n",
       "      <th>218</th>\n",
       "      <td>amjo</td>\n",
       "      <td>0.02</td>\n",
       "      <td>371.735135</td>\n",
       "      <td>0.005448</td>\n",
       "      <td>5.924324</td>\n",
       "    </tr>\n",
       "    <tr>\n",
       "      <th>219</th>\n",
       "      <td>ls</td>\n",
       "      <td>0.00</td>\n",
       "      <td>367.248974</td>\n",
       "      <td>0.032361</td>\n",
       "      <td>5.753762</td>\n",
       "    </tr>\n",
       "    <tr>\n",
       "      <th>220</th>\n",
       "      <td>lipschitz_mnist</td>\n",
       "      <td>0.03</td>\n",
       "      <td>197.719388</td>\n",
       "      <td>0.001993</td>\n",
       "      <td>3.410714</td>\n",
       "    </tr>\n",
       "    <tr>\n",
       "      <th>...</th>\n",
       "      <td>...</td>\n",
       "      <td>...</td>\n",
       "      <td>...</td>\n",
       "      <td>...</td>\n",
       "      <td>...</td>\n",
       "    </tr>\n",
       "    <tr>\n",
       "      <th>283</th>\n",
       "      <td>ls</td>\n",
       "      <td>0.92</td>\n",
       "      <td>1001.740000</td>\n",
       "      <td>0.033844</td>\n",
       "      <td>10.500000</td>\n",
       "    </tr>\n",
       "    <tr>\n",
       "      <th>284</th>\n",
       "      <td>lipschitz_mnist</td>\n",
       "      <td>0.84</td>\n",
       "      <td>926.248242</td>\n",
       "      <td>0.002611</td>\n",
       "      <td>10.372634</td>\n",
       "    </tr>\n",
       "    <tr>\n",
       "      <th>285</th>\n",
       "      <td>decay</td>\n",
       "      <td>0.71</td>\n",
       "      <td>897.742188</td>\n",
       "      <td>0.003401</td>\n",
       "      <td>10.287946</td>\n",
       "    </tr>\n",
       "    <tr>\n",
       "      <th>286</th>\n",
       "      <td>amjo</td>\n",
       "      <td>0.70</td>\n",
       "      <td>897.241206</td>\n",
       "      <td>0.004502</td>\n",
       "      <td>10.284199</td>\n",
       "    </tr>\n",
       "    <tr>\n",
       "      <th>287</th>\n",
       "      <td>ls</td>\n",
       "      <td>0.71</td>\n",
       "      <td>899.243454</td>\n",
       "      <td>0.037178</td>\n",
       "      <td>10.288579</td>\n",
       "    </tr>\n",
       "  </tbody>\n",
       "</table>\n",
       "<p>72 rows × 5 columns</p>\n",
       "</div>"
      ]
     },
     "execution_count": 46,
     "metadata": {},
     "output_type": "execute_result"
    }
   ],
   "execution_count": 46
  },
  {
   "metadata": {
    "ExecuteTime": {
     "end_time": "2024-07-06T16:29:39.019137Z",
     "start_time": "2024-07-06T16:29:39.013814Z"
    }
   },
   "cell_type": "code",
   "source": [
    "df_ls = df[df['step_rule'] == 'ls']\n",
    "df_lipschitz = df[df['step_rule'] == 'lipschitz_mnist']\n",
    "df_amjo = df[df['step_rule'] == 'amjo']\n",
    "df_decay = df[df['step_rule'] == 'decay']"
   ],
   "id": "da9e2ee237acc932",
   "outputs": [],
   "execution_count": 47
  },
  {
   "metadata": {
    "ExecuteTime": {
     "end_time": "2024-07-06T16:29:39.030011Z",
     "start_time": "2024-07-06T16:29:39.019137Z"
    }
   },
   "cell_type": "code",
   "source": [
    "# drop first column for each\n",
    "df_ls = df_ls.drop(columns='step_rule')\n",
    "df_lipschitz = df_lipschitz.drop(columns='step_rule')\n",
    "df_amjo = df_amjo.drop(columns='step_rule')\n",
    "df_decay = df_decay.drop(columns='step_rule')"
   ],
   "id": "9600087a66d466e5",
   "outputs": [],
   "execution_count": 48
  },
  {
   "metadata": {
    "ExecuteTime": {
     "end_time": "2024-07-06T16:29:39.037027Z",
     "start_time": "2024-07-06T16:29:39.030011Z"
    }
   },
   "cell_type": "code",
   "source": [
    "# averages\n",
    "\n",
    "df_ls_avg = df_ls.mean()\n",
    "df_lipschitz_avg = df_lipschitz.mean()\n",
    "df_amjo_avg = df_amjo.mean()\n",
    "df_decay_avg = df_decay.mean()"
   ],
   "id": "81aa7f6f1b28ab6f",
   "outputs": [],
   "execution_count": 49
  },
  {
   "metadata": {
    "ExecuteTime": {
     "end_time": "2024-07-06T16:29:55.562612Z",
     "start_time": "2024-07-06T16:29:55.555107Z"
    }
   },
   "cell_type": "code",
   "source": [
    "# append averages to new dataframe for plotting\n",
    "\n",
    "df_avg = pd.DataFrame([df_ls_avg, df_lipschitz_avg, df_amjo_avg, df_decay_avg])\n",
    "df_avg['step_rule'] = ['ls', 'lipschitz', 'amjo', 'decay']\n",
    "df_avg"
   ],
   "id": "f73f0316488e482c",
   "outputs": [
    {
     "data": {
      "text/plain": [
       "   accuracy  avg_queries  cpu_time  avg_iters  step_rule\n",
       "0  0.340556   635.457133  0.034485   7.158111         ls\n",
       "1  0.407222   666.184708  0.002590   7.570823  lipschitz\n",
       "2  0.312778   636.316254  0.005439   7.181316       amjo\n",
       "3  0.307222   634.318370  0.003008   7.203220      decay"
      ],
      "text/html": [
       "<div>\n",
       "<style scoped>\n",
       "    .dataframe tbody tr th:only-of-type {\n",
       "        vertical-align: middle;\n",
       "    }\n",
       "\n",
       "    .dataframe tbody tr th {\n",
       "        vertical-align: top;\n",
       "    }\n",
       "\n",
       "    .dataframe thead th {\n",
       "        text-align: right;\n",
       "    }\n",
       "</style>\n",
       "<table border=\"1\" class=\"dataframe\">\n",
       "  <thead>\n",
       "    <tr style=\"text-align: right;\">\n",
       "      <th></th>\n",
       "      <th>accuracy</th>\n",
       "      <th>avg_queries</th>\n",
       "      <th>cpu_time</th>\n",
       "      <th>avg_iters</th>\n",
       "      <th>step_rule</th>\n",
       "    </tr>\n",
       "  </thead>\n",
       "  <tbody>\n",
       "    <tr>\n",
       "      <th>0</th>\n",
       "      <td>0.340556</td>\n",
       "      <td>635.457133</td>\n",
       "      <td>0.034485</td>\n",
       "      <td>7.158111</td>\n",
       "      <td>ls</td>\n",
       "    </tr>\n",
       "    <tr>\n",
       "      <th>1</th>\n",
       "      <td>0.407222</td>\n",
       "      <td>666.184708</td>\n",
       "      <td>0.002590</td>\n",
       "      <td>7.570823</td>\n",
       "      <td>lipschitz</td>\n",
       "    </tr>\n",
       "    <tr>\n",
       "      <th>2</th>\n",
       "      <td>0.312778</td>\n",
       "      <td>636.316254</td>\n",
       "      <td>0.005439</td>\n",
       "      <td>7.181316</td>\n",
       "      <td>amjo</td>\n",
       "    </tr>\n",
       "    <tr>\n",
       "      <th>3</th>\n",
       "      <td>0.307222</td>\n",
       "      <td>634.318370</td>\n",
       "      <td>0.003008</td>\n",
       "      <td>7.203220</td>\n",
       "      <td>decay</td>\n",
       "    </tr>\n",
       "  </tbody>\n",
       "</table>\n",
       "</div>"
      ]
     },
     "execution_count": 51,
     "metadata": {},
     "output_type": "execute_result"
    }
   ],
   "execution_count": 51
  },
  {
   "metadata": {
    "ExecuteTime": {
     "end_time": "2024-07-06T16:32:47.353724Z",
     "start_time": "2024-07-06T16:32:47.256138Z"
    }
   },
   "cell_type": "code",
   "source": [
    "# plot\n",
    "\n",
    "sns.set_theme(style=\"whitegrid\")\n",
    "plt.figure(figsize=(10, 5))\n",
    "ax = sns.barplot(x='step_rule', y='cpu_time', data=df_avg)\n",
    "plt.show()"
   ],
   "id": "f1e93eaad0850651",
   "outputs": [
    {
     "data": {
      "text/plain": [
       "<Figure size 1000x500 with 1 Axes>"
      ],
      "image/png": "[encoded data removed]"
     },
     "metadata": {},
     "output_type": "display_data"
    }
   ],
   "execution_count": 53
  },
  {
   "metadata": {
    "ExecuteTime": {
     "end_time": "2024-07-06T16:33:42.026244Z",
     "start_time": "2024-07-06T16:33:41.942931Z"
    }
   },
   "cell_type": "code",
   "source": [
    "sns.set_theme(style=\"whitegrid\")\n",
    "plt.figure(figsize=(10, 5))\n",
    "ax = sns.barplot(x='step_rule', y='avg_queries', data=df_avg)\n",
    "plt.show()"
   ],
   "id": "5f2f634cdfe00cea",
   "outputs": [
    {
     "data": {
      "text/plain": [
       "<Figure size 1000x500 with 1 Axes>"
      ],
      "image/png": "[encoded data removed]"
     },
     "metadata": {},
     "output_type": "display_data"
    }
   ],
   "execution_count": 54
  },
  {
   "metadata": {
    "ExecuteTime": {
     "end_time": "2024-07-06T16:33:52.623282Z",
     "start_time": "2024-07-06T16:33:52.538400Z"
    }
   },
   "cell_type": "code",
   "source": [
    "sns.set_theme(style=\"whitegrid\")\n",
    "plt.figure(figsize=(10, 5))\n",
    "ax = sns.barplot(x='step_rule', y='avg_iters', data=df_avg)\n",
    "plt.show()"
   ],
   "id": "54cfc692fab27730",
   "outputs": [
    {
     "data": {
      "text/plain": [
       "<Figure size 1000x500 with 1 Axes>"
      ],
      "image/png": "[encoded data removed]"
     },
     "metadata": {},
     "output_type": "display_data"
    }
   ],
   "execution_count": 55
  },
  {
   "metadata": {},
   "cell_type": "code",
   "outputs": [],
   "execution_count": null,
   "source": "",
   "id": "91de9f2a9a993bd8"
  }
 ],
 "metadata": {
  "kernelspec": {
   "display_name": "Python 3",
   "language": "python",
   "name": "python3"
  },
  "language_info": {
   "codemirror_mode": {
    "name": "ipython",
    "version": 2
   },
   "file_extension": ".py",
   "mimetype": "text/x-python",
   "name": "python",
   "nbconvert_exporter": "python",
   "pygments_lexer": "ipython2",
   "version": "2.7.6"
  }
 },
 "nbformat": 4,
 "nbformat_minor": 5
}
